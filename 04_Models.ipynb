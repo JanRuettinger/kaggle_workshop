{
 "cells": [
  {
   "cell_type": "code",
   "execution_count": 1,
   "metadata": {
    "collapsed": true
   },
   "outputs": [],
   "source": [
    "import pandas as pd\n",
    "import numpy as np\n",
    "import matplotlib.pyplot as plt\n",
    "from IPython.display import Math\n",
    "\n",
    "%matplotlib inline"
   ]
  },
  {
   "cell_type": "code",
   "execution_count": 2,
   "metadata": {
    "collapsed": true
   },
   "outputs": [],
   "source": [
    "train = pd.read_csv('data/titanic_train_model.csv', index_col=\"PassengerId\")\n",
    "X = train.drop('Survived', axis=1)\n",
    "y = train.Survived"
   ]
  },
  {
   "cell_type": "code",
   "execution_count": 3,
   "metadata": {},
   "outputs": [
    {
     "data": {
      "text/html": [
       "<div>\n",
       "<style>\n",
       "    .dataframe thead tr:only-child th {\n",
       "        text-align: right;\n",
       "    }\n",
       "\n",
       "    .dataframe thead th {\n",
       "        text-align: left;\n",
       "    }\n",
       "\n",
       "    .dataframe tbody tr th {\n",
       "        vertical-align: top;\n",
       "    }\n",
       "</style>\n",
       "<table border=\"1\" class=\"dataframe\">\n",
       "  <thead>\n",
       "    <tr style=\"text-align: right;\">\n",
       "      <th></th>\n",
       "      <th>Pclass</th>\n",
       "      <th>Sex</th>\n",
       "      <th>Age</th>\n",
       "      <th>SibSp</th>\n",
       "      <th>Parch</th>\n",
       "      <th>Fare</th>\n",
       "      <th>Embarked</th>\n",
       "      <th>PersonType</th>\n",
       "      <th>Title</th>\n",
       "      <th>Survived</th>\n",
       "    </tr>\n",
       "    <tr>\n",
       "      <th>PassengerId</th>\n",
       "      <th></th>\n",
       "      <th></th>\n",
       "      <th></th>\n",
       "      <th></th>\n",
       "      <th></th>\n",
       "      <th></th>\n",
       "      <th></th>\n",
       "      <th></th>\n",
       "      <th></th>\n",
       "      <th></th>\n",
       "    </tr>\n",
       "  </thead>\n",
       "  <tbody>\n",
       "    <tr>\n",
       "      <th>1</th>\n",
       "      <td>0.827377</td>\n",
       "      <td>-0.737695</td>\n",
       "      <td>-0.592481</td>\n",
       "      <td>0.432793</td>\n",
       "      <td>-0.473674</td>\n",
       "      <td>-0.502445</td>\n",
       "      <td>-0.571933</td>\n",
       "      <td>-0.742596</td>\n",
       "      <td>-0.71219</td>\n",
       "      <td>0</td>\n",
       "    </tr>\n",
       "    <tr>\n",
       "      <th>520</th>\n",
       "      <td>0.827377</td>\n",
       "      <td>-0.737695</td>\n",
       "      <td>0.177063</td>\n",
       "      <td>-0.474545</td>\n",
       "      <td>-0.473674</td>\n",
       "      <td>-0.489442</td>\n",
       "      <td>-0.571933</td>\n",
       "      <td>-0.742596</td>\n",
       "      <td>-0.71219</td>\n",
       "      <td>0</td>\n",
       "    </tr>\n",
       "    <tr>\n",
       "      <th>522</th>\n",
       "      <td>0.827377</td>\n",
       "      <td>-0.737695</td>\n",
       "      <td>-0.592481</td>\n",
       "      <td>-0.474545</td>\n",
       "      <td>-0.473674</td>\n",
       "      <td>-0.489442</td>\n",
       "      <td>-0.571933</td>\n",
       "      <td>-0.742596</td>\n",
       "      <td>-0.71219</td>\n",
       "      <td>0</td>\n",
       "    </tr>\n",
       "    <tr>\n",
       "      <th>523</th>\n",
       "      <td>0.827377</td>\n",
       "      <td>-0.737695</td>\n",
       "      <td>0.000000</td>\n",
       "      <td>-0.474545</td>\n",
       "      <td>-0.473674</td>\n",
       "      <td>-0.502949</td>\n",
       "      <td>1.000883</td>\n",
       "      <td>-0.742596</td>\n",
       "      <td>-0.71219</td>\n",
       "      <td>0</td>\n",
       "    </tr>\n",
       "    <tr>\n",
       "      <th>525</th>\n",
       "      <td>0.827377</td>\n",
       "      <td>-0.737695</td>\n",
       "      <td>0.000000</td>\n",
       "      <td>-0.474545</td>\n",
       "      <td>-0.473674</td>\n",
       "      <td>-0.502864</td>\n",
       "      <td>1.000883</td>\n",
       "      <td>-0.742596</td>\n",
       "      <td>-0.71219</td>\n",
       "      <td>0</td>\n",
       "    </tr>\n",
       "  </tbody>\n",
       "</table>\n",
       "</div>"
      ],
      "text/plain": [
       "               Pclass       Sex       Age     SibSp     Parch      Fare  \\\n",
       "PassengerId                                                               \n",
       "1            0.827377 -0.737695 -0.592481  0.432793 -0.473674 -0.502445   \n",
       "520          0.827377 -0.737695  0.177063 -0.474545 -0.473674 -0.489442   \n",
       "522          0.827377 -0.737695 -0.592481 -0.474545 -0.473674 -0.489442   \n",
       "523          0.827377 -0.737695  0.000000 -0.474545 -0.473674 -0.502949   \n",
       "525          0.827377 -0.737695  0.000000 -0.474545 -0.473674 -0.502864   \n",
       "\n",
       "             Embarked  PersonType    Title  Survived  \n",
       "PassengerId                                           \n",
       "1           -0.571933   -0.742596 -0.71219         0  \n",
       "520         -0.571933   -0.742596 -0.71219         0  \n",
       "522         -0.571933   -0.742596 -0.71219         0  \n",
       "523          1.000883   -0.742596 -0.71219         0  \n",
       "525          1.000883   -0.742596 -0.71219         0  "
      ]
     },
     "execution_count": 3,
     "metadata": {},
     "output_type": "execute_result"
    }
   ],
   "source": [
    "train.sort_values(by='Survived').head()"
   ]
  },
  {
   "cell_type": "code",
   "execution_count": 4,
   "metadata": {},
   "outputs": [
    {
     "data": {
      "text/plain": [
       "PassengerId\n",
       "1    0\n",
       "2    1\n",
       "3    1\n",
       "4    1\n",
       "5    0\n",
       "Name: Survived, dtype: int64"
      ]
     },
     "execution_count": 4,
     "metadata": {},
     "output_type": "execute_result"
    }
   ],
   "source": [
    "y.head()"
   ]
  },
  {
   "cell_type": "code",
   "execution_count": 5,
   "metadata": {},
   "outputs": [
    {
     "data": {
      "text/html": [
       "<div>\n",
       "<style>\n",
       "    .dataframe thead tr:only-child th {\n",
       "        text-align: right;\n",
       "    }\n",
       "\n",
       "    .dataframe thead th {\n",
       "        text-align: left;\n",
       "    }\n",
       "\n",
       "    .dataframe tbody tr th {\n",
       "        vertical-align: top;\n",
       "    }\n",
       "</style>\n",
       "<table border=\"1\" class=\"dataframe\">\n",
       "  <thead>\n",
       "    <tr style=\"text-align: right;\">\n",
       "      <th></th>\n",
       "      <th>Pclass</th>\n",
       "      <th>Sex</th>\n",
       "      <th>Age</th>\n",
       "      <th>SibSp</th>\n",
       "      <th>Parch</th>\n",
       "      <th>Fare</th>\n",
       "      <th>Embarked</th>\n",
       "      <th>PersonType</th>\n",
       "      <th>Title</th>\n",
       "    </tr>\n",
       "    <tr>\n",
       "      <th>PassengerId</th>\n",
       "      <th></th>\n",
       "      <th></th>\n",
       "      <th></th>\n",
       "      <th></th>\n",
       "      <th></th>\n",
       "      <th></th>\n",
       "      <th></th>\n",
       "      <th></th>\n",
       "      <th></th>\n",
       "    </tr>\n",
       "  </thead>\n",
       "  <tbody>\n",
       "  </tbody>\n",
       "</table>\n",
       "</div>"
      ],
      "text/plain": [
       "Empty DataFrame\n",
       "Columns: [Pclass, Sex, Age, SibSp, Parch, Fare, Embarked, PersonType, Title]\n",
       "Index: []"
      ]
     },
     "execution_count": 5,
     "metadata": {},
     "output_type": "execute_result"
    }
   ],
   "source": [
    "X[X['Age'].isnull()]"
   ]
  },
  {
   "cell_type": "markdown",
   "metadata": {},
   "source": [
    "## 1. Linear Models"
   ]
  },
  {
   "cell_type": "markdown",
   "metadata": {},
   "source": [
    "![validation](images/linear_regression.png)"
   ]
  },
  {
   "cell_type": "markdown",
   "metadata": {},
   "source": [
    "$$ \\frac{1}{2m} \\sum_i (h(x_i) - y_i)^2 \\text{ mit } h(x) = m*x + t$$\n",
    "$$  $$"
   ]
  },
  {
   "cell_type": "code",
   "execution_count": 6,
   "metadata": {
    "collapsed": true
   },
   "outputs": [],
   "source": [
    "from sklearn import linear_model\n",
    "model_lr = linear_model.LogisticRegression()"
   ]
  },
  {
   "cell_type": "markdown",
   "metadata": {},
   "source": [
    "### Model fitting"
   ]
  },
  {
   "cell_type": "code",
   "execution_count": 7,
   "metadata": {},
   "outputs": [
    {
     "data": {
      "text/plain": [
       "LogisticRegression(C=1.0, class_weight=None, dual=False, fit_intercept=True,\n",
       "          intercept_scaling=1, max_iter=100, multi_class='ovr', n_jobs=1,\n",
       "          penalty='l2', random_state=None, solver='liblinear', tol=0.0001,\n",
       "          verbose=0, warm_start=False)"
      ]
     },
     "execution_count": 7,
     "metadata": {},
     "output_type": "execute_result"
    }
   ],
   "source": [
    "model_lr.fit(X,y)"
   ]
  },
  {
   "cell_type": "code",
   "execution_count": 8,
   "metadata": {},
   "outputs": [
    {
     "data": {
      "text/plain": [
       "0.81818181818181823"
      ]
     },
     "execution_count": 8,
     "metadata": {},
     "output_type": "execute_result"
    }
   ],
   "source": [
    "model_lr.score(X,y)"
   ]
  },
  {
   "cell_type": "markdown",
   "metadata": {},
   "source": [
    "There are lots of estimators in sklearn. They all share a common interface. Thus it's easy to use estimators even when you don't fully understand how they work. Though make sure to read at least the doc string documentation about an estimator before using it."
   ]
  },
  {
   "cell_type": "markdown",
   "metadata": {},
   "source": [
    "## Estimator API  \n",
    "\n",
    "### 1. estimator.fit(X_train, y_train)  \n",
    "- Trains the model using training data X und training labels y\n",
    "\n",
    "### 2. estimator.predict(X_test)\n",
    "- Uses the prior trained model to predict labels (callsification), values (regression) for test data\n",
    "\n",
    "### 3. estimator.score(X_val, y_val)\n",
    "- Uses estimator.predict(X_val) to predict the labels/values, then uses the given labels y_val to score the result"
   ]
  },
  {
   "cell_type": "markdown",
   "metadata": {},
   "source": [
    "## 2. How do wen know if our model is actually useful? => Validation\n",
    "Every estimator has its advantages and drawbacks. Its generalization error can be decomposed in terms of bias, variance and noise. The bias of an estimator is its average error for different data sets. The variance of an estimator indicates how sensitive it is to varying data sets. Noise is a property of the data. The estimator has no impact on the noise in the data thus we can only try to lower the variance and the bias of an estimator. "
   ]
  },
  {
   "cell_type": "markdown",
   "metadata": {},
   "source": [
    "error = bias + variance + (noise)"
   ]
  },
  {
   "cell_type": "markdown",
   "metadata": {},
   "source": [
    "Our goal is find an estimator which is able to generalize well to new/unseen data sets."
   ]
  },
  {
   "cell_type": "markdown",
   "metadata": {},
   "source": [
    "### How do we know if our estimator has high bias/variance?\n",
    "We need some new/unknown data for which we know the correct labels in order to test our model. We can't use our test data as we don't know the correct labels. That's why there is now other possibility but to take it from our valuable training data. This data set is called validation data set.\n",
    "\n",
    "**Overfitting:** Small training error + Large validation error => Reduce model complexity + Regularization  \n",
    "**Underfitting:** Large training error + Large validation error => Increase model complexity"
   ]
  },
  {
   "cell_type": "code",
   "execution_count": 9,
   "metadata": {
    "collapsed": true
   },
   "outputs": [],
   "source": [
    "train.sort_values(by='Survived', inplace=True)\n",
    "X = train.drop('Survived', axis=1)\n",
    "y = train.Survived"
   ]
  },
  {
   "cell_type": "markdown",
   "metadata": {},
   "source": [
    "### Split data: data => train data, validation data"
   ]
  },
  {
   "cell_type": "code",
   "execution_count": 10,
   "metadata": {
    "collapsed": true
   },
   "outputs": [],
   "source": [
    "from sklearn.model_selection import train_test_split\n",
    "X_train, X_val, y_train, y_val = train_test_split(X, y, test_size=0.3, random_state=3, stratify=None, shuffle=False)"
   ]
  },
  {
   "cell_type": "code",
   "execution_count": 11,
   "metadata": {},
   "outputs": [
    {
     "data": {
      "text/html": [
       "<div>\n",
       "<style>\n",
       "    .dataframe thead tr:only-child th {\n",
       "        text-align: right;\n",
       "    }\n",
       "\n",
       "    .dataframe thead th {\n",
       "        text-align: left;\n",
       "    }\n",
       "\n",
       "    .dataframe tbody tr th {\n",
       "        vertical-align: top;\n",
       "    }\n",
       "</style>\n",
       "<table border=\"1\" class=\"dataframe\">\n",
       "  <thead>\n",
       "    <tr style=\"text-align: right;\">\n",
       "      <th></th>\n",
       "      <th>Pclass</th>\n",
       "      <th>Sex</th>\n",
       "      <th>Age</th>\n",
       "      <th>SibSp</th>\n",
       "      <th>Parch</th>\n",
       "      <th>Fare</th>\n",
       "      <th>Embarked</th>\n",
       "      <th>PersonType</th>\n",
       "      <th>Title</th>\n",
       "    </tr>\n",
       "    <tr>\n",
       "      <th>PassengerId</th>\n",
       "      <th></th>\n",
       "      <th></th>\n",
       "      <th></th>\n",
       "      <th></th>\n",
       "      <th></th>\n",
       "      <th></th>\n",
       "      <th></th>\n",
       "      <th></th>\n",
       "      <th></th>\n",
       "    </tr>\n",
       "  </thead>\n",
       "  <tbody>\n",
       "  </tbody>\n",
       "</table>\n",
       "</div>"
      ],
      "text/plain": [
       "Empty DataFrame\n",
       "Columns: [Pclass, Sex, Age, SibSp, Parch, Fare, Embarked, PersonType, Title]\n",
       "Index: []"
      ]
     },
     "execution_count": 11,
     "metadata": {},
     "output_type": "execute_result"
    }
   ],
   "source": [
    "X_val[y_val == 0]"
   ]
  },
  {
   "cell_type": "code",
   "execution_count": 12,
   "metadata": {
    "collapsed": true
   },
   "outputs": [],
   "source": [
    "from sklearn.model_selection import train_test_split\n",
    "X_train, X_val, y_train, y_val = train_test_split(X, y, test_size=0.3, random_state=3, stratify=y, shuffle=True)"
   ]
  },
  {
   "cell_type": "code",
   "execution_count": 13,
   "metadata": {},
   "outputs": [
    {
     "data": {
      "text/html": [
       "<div>\n",
       "<style>\n",
       "    .dataframe thead tr:only-child th {\n",
       "        text-align: right;\n",
       "    }\n",
       "\n",
       "    .dataframe thead th {\n",
       "        text-align: left;\n",
       "    }\n",
       "\n",
       "    .dataframe tbody tr th {\n",
       "        vertical-align: top;\n",
       "    }\n",
       "</style>\n",
       "<table border=\"1\" class=\"dataframe\">\n",
       "  <thead>\n",
       "    <tr style=\"text-align: right;\">\n",
       "      <th></th>\n",
       "      <th>Pclass</th>\n",
       "      <th>Sex</th>\n",
       "      <th>Age</th>\n",
       "      <th>SibSp</th>\n",
       "      <th>Parch</th>\n",
       "      <th>Fare</th>\n",
       "      <th>Embarked</th>\n",
       "      <th>PersonType</th>\n",
       "      <th>Title</th>\n",
       "    </tr>\n",
       "    <tr>\n",
       "      <th>PassengerId</th>\n",
       "      <th></th>\n",
       "      <th></th>\n",
       "      <th></th>\n",
       "      <th></th>\n",
       "      <th></th>\n",
       "      <th></th>\n",
       "      <th></th>\n",
       "      <th></th>\n",
       "      <th></th>\n",
       "    </tr>\n",
       "  </thead>\n",
       "  <tbody>\n",
       "    <tr>\n",
       "      <th>168</th>\n",
       "      <td>0.827377</td>\n",
       "      <td>1.355574</td>\n",
       "      <td>1.177469</td>\n",
       "      <td>0.432793</td>\n",
       "      <td>4.491540</td>\n",
       "      <td>-0.086664</td>\n",
       "      <td>-0.571933</td>\n",
       "      <td>0.771484</td>\n",
       "      <td>0.163067</td>\n",
       "    </tr>\n",
       "    <tr>\n",
       "      <th>500</th>\n",
       "      <td>0.827377</td>\n",
       "      <td>-0.737695</td>\n",
       "      <td>-0.438572</td>\n",
       "      <td>-0.474545</td>\n",
       "      <td>-0.473674</td>\n",
       "      <td>-0.491456</td>\n",
       "      <td>-0.571933</td>\n",
       "      <td>-0.742596</td>\n",
       "      <td>-0.712190</td>\n",
       "    </tr>\n",
       "    <tr>\n",
       "      <th>154</th>\n",
       "      <td>0.827377</td>\n",
       "      <td>-0.737695</td>\n",
       "      <td>0.831175</td>\n",
       "      <td>-0.474545</td>\n",
       "      <td>2.008933</td>\n",
       "      <td>-0.356469</td>\n",
       "      <td>-0.571933</td>\n",
       "      <td>-0.742596</td>\n",
       "      <td>-0.712190</td>\n",
       "    </tr>\n",
       "    <tr>\n",
       "      <th>264</th>\n",
       "      <td>-1.566107</td>\n",
       "      <td>-0.737695</td>\n",
       "      <td>0.792698</td>\n",
       "      <td>-0.474545</td>\n",
       "      <td>-0.473674</td>\n",
       "      <td>-0.648422</td>\n",
       "      <td>-0.571933</td>\n",
       "      <td>-0.742596</td>\n",
       "      <td>-0.712190</td>\n",
       "    </tr>\n",
       "    <tr>\n",
       "      <th>374</th>\n",
       "      <td>-1.566107</td>\n",
       "      <td>-0.737695</td>\n",
       "      <td>-0.592481</td>\n",
       "      <td>-0.474545</td>\n",
       "      <td>-0.473674</td>\n",
       "      <td>2.082512</td>\n",
       "      <td>1.000883</td>\n",
       "      <td>-0.742596</td>\n",
       "      <td>-0.712190</td>\n",
       "    </tr>\n",
       "    <tr>\n",
       "      <th>355</th>\n",
       "      <td>0.827377</td>\n",
       "      <td>-0.737695</td>\n",
       "      <td>0.000000</td>\n",
       "      <td>-0.474545</td>\n",
       "      <td>-0.473674</td>\n",
       "      <td>-0.502949</td>\n",
       "      <td>1.000883</td>\n",
       "      <td>-0.742596</td>\n",
       "      <td>-0.712190</td>\n",
       "    </tr>\n",
       "    <tr>\n",
       "      <th>424</th>\n",
       "      <td>0.827377</td>\n",
       "      <td>1.355574</td>\n",
       "      <td>-0.130754</td>\n",
       "      <td>0.432793</td>\n",
       "      <td>0.767630</td>\n",
       "      <td>-0.358482</td>\n",
       "      <td>-0.571933</td>\n",
       "      <td>0.771484</td>\n",
       "      <td>0.163067</td>\n",
       "    </tr>\n",
       "    <tr>\n",
       "      <th>516</th>\n",
       "      <td>-1.566107</td>\n",
       "      <td>-0.737695</td>\n",
       "      <td>1.331378</td>\n",
       "      <td>-0.474545</td>\n",
       "      <td>-0.473674</td>\n",
       "      <td>0.036577</td>\n",
       "      <td>-0.571933</td>\n",
       "      <td>-0.742596</td>\n",
       "      <td>-0.712190</td>\n",
       "    </tr>\n",
       "    <tr>\n",
       "      <th>251</th>\n",
       "      <td>0.827377</td>\n",
       "      <td>-0.737695</td>\n",
       "      <td>0.000000</td>\n",
       "      <td>-0.474545</td>\n",
       "      <td>-0.473674</td>\n",
       "      <td>-0.502445</td>\n",
       "      <td>-0.571933</td>\n",
       "      <td>-0.742596</td>\n",
       "      <td>-0.712190</td>\n",
       "    </tr>\n",
       "    <tr>\n",
       "      <th>120</th>\n",
       "      <td>0.827377</td>\n",
       "      <td>1.355574</td>\n",
       "      <td>-2.131568</td>\n",
       "      <td>3.154809</td>\n",
       "      <td>2.008933</td>\n",
       "      <td>-0.018709</td>\n",
       "      <td>-0.571933</td>\n",
       "      <td>2.285565</td>\n",
       "      <td>1.038323</td>\n",
       "    </tr>\n",
       "  </tbody>\n",
       "</table>\n",
       "</div>"
      ],
      "text/plain": [
       "               Pclass       Sex       Age     SibSp     Parch      Fare  \\\n",
       "PassengerId                                                               \n",
       "168          0.827377  1.355574  1.177469  0.432793  4.491540 -0.086664   \n",
       "500          0.827377 -0.737695 -0.438572 -0.474545 -0.473674 -0.491456   \n",
       "154          0.827377 -0.737695  0.831175 -0.474545  2.008933 -0.356469   \n",
       "264         -1.566107 -0.737695  0.792698 -0.474545 -0.473674 -0.648422   \n",
       "374         -1.566107 -0.737695 -0.592481 -0.474545 -0.473674  2.082512   \n",
       "355          0.827377 -0.737695  0.000000 -0.474545 -0.473674 -0.502949   \n",
       "424          0.827377  1.355574 -0.130754  0.432793  0.767630 -0.358482   \n",
       "516         -1.566107 -0.737695  1.331378 -0.474545 -0.473674  0.036577   \n",
       "251          0.827377 -0.737695  0.000000 -0.474545 -0.473674 -0.502445   \n",
       "120          0.827377  1.355574 -2.131568  3.154809  2.008933 -0.018709   \n",
       "\n",
       "             Embarked  PersonType     Title  \n",
       "PassengerId                                  \n",
       "168         -0.571933    0.771484  0.163067  \n",
       "500         -0.571933   -0.742596 -0.712190  \n",
       "154         -0.571933   -0.742596 -0.712190  \n",
       "264         -0.571933   -0.742596 -0.712190  \n",
       "374          1.000883   -0.742596 -0.712190  \n",
       "355          1.000883   -0.742596 -0.712190  \n",
       "424         -0.571933    0.771484  0.163067  \n",
       "516         -0.571933   -0.742596 -0.712190  \n",
       "251         -0.571933   -0.742596 -0.712190  \n",
       "120         -0.571933    2.285565  1.038323  "
      ]
     },
     "execution_count": 13,
     "metadata": {},
     "output_type": "execute_result"
    }
   ],
   "source": [
    "X_val[y_val == 0].head(10)"
   ]
  },
  {
   "cell_type": "code",
   "execution_count": 14,
   "metadata": {},
   "outputs": [
    {
     "data": {
      "text/plain": [
       "LogisticRegression(C=1.0, class_weight=None, dual=False, fit_intercept=True,\n",
       "          intercept_scaling=1, max_iter=100, multi_class='ovr', n_jobs=1,\n",
       "          penalty='l2', random_state=None, solver='liblinear', tol=0.0001,\n",
       "          verbose=0, warm_start=False)"
      ]
     },
     "execution_count": 14,
     "metadata": {},
     "output_type": "execute_result"
    }
   ],
   "source": [
    "model_lr.fit(X_train, y_train)"
   ]
  },
  {
   "cell_type": "code",
   "execution_count": 15,
   "metadata": {},
   "outputs": [
    {
     "data": {
      "text/plain": [
       "0.83582089552238803"
      ]
     },
     "execution_count": 15,
     "metadata": {},
     "output_type": "execute_result"
    }
   ],
   "source": [
    "model_lr.score(X_val, y_val)"
   ]
  },
  {
   "cell_type": "markdown",
   "metadata": {},
   "source": [
    "## Regularization (L1 and L2)"
   ]
  },
  {
   "cell_type": "code",
   "execution_count": 16,
   "metadata": {
    "collapsed": true
   },
   "outputs": [],
   "source": [
    "model_l1 = linear_model.LogisticRegression(penalty='l1', C=0.1) # C = 1/lambda\n",
    "model_l2 = linear_model.LogisticRegression(penalty='l2', C=0.01) # C = 1/lambda"
   ]
  },
  {
   "cell_type": "code",
   "execution_count": 17,
   "metadata": {
    "collapsed": true
   },
   "outputs": [],
   "source": [
    "model_l1.fit(X_train, y_train)\n",
    "model_l2.fit(X_train, y_train);"
   ]
  },
  {
   "cell_type": "code",
   "execution_count": 18,
   "metadata": {},
   "outputs": [
    {
     "data": {
      "text/plain": [
       "(0.82462686567164178, 0.81343283582089554)"
      ]
     },
     "execution_count": 18,
     "metadata": {},
     "output_type": "execute_result"
    }
   ],
   "source": [
    "model_l1.score(X_val, y_val), model_l2.score(X_val, y_val)\n"
   ]
  },
  {
   "cell_type": "markdown",
   "metadata": {},
   "source": [
    "## First submission"
   ]
  },
  {
   "cell_type": "code",
   "execution_count": 19,
   "metadata": {
    "collapsed": true
   },
   "outputs": [],
   "source": [
    "submission = pd.read_csv(\"data/titanic_gender_submission.csv\", index_col=\"PassengerId\")\n",
    "test = pd.read_csv(\"data/titanic_test_model.csv\", index_col=\"PassengerId\")"
   ]
  },
  {
   "cell_type": "code",
   "execution_count": 20,
   "metadata": {},
   "outputs": [
    {
     "data": {
      "text/plain": [
       "LogisticRegression(C=0.1, class_weight=None, dual=False, fit_intercept=True,\n",
       "          intercept_scaling=1, max_iter=100, multi_class='ovr', n_jobs=1,\n",
       "          penalty='l1', random_state=None, solver='liblinear', tol=0.0001,\n",
       "          verbose=0, warm_start=False)"
      ]
     },
     "execution_count": 20,
     "metadata": {},
     "output_type": "execute_result"
    }
   ],
   "source": [
    "model_l1.fit(X,y)"
   ]
  },
  {
   "cell_type": "code",
   "execution_count": 21,
   "metadata": {},
   "outputs": [
    {
     "data": {
      "text/plain": [
       "0.8125701459034792"
      ]
     },
     "execution_count": 21,
     "metadata": {},
     "output_type": "execute_result"
    }
   ],
   "source": [
    "model_l1.score(X,y)"
   ]
  },
  {
   "cell_type": "code",
   "execution_count": 22,
   "metadata": {
    "collapsed": true
   },
   "outputs": [],
   "source": [
    "prediction = model_l1.predict(test)"
   ]
  },
  {
   "cell_type": "code",
   "execution_count": 23,
   "metadata": {},
   "outputs": [
    {
     "data": {
      "text/html": [
       "<div>\n",
       "<style>\n",
       "    .dataframe thead tr:only-child th {\n",
       "        text-align: right;\n",
       "    }\n",
       "\n",
       "    .dataframe thead th {\n",
       "        text-align: left;\n",
       "    }\n",
       "\n",
       "    .dataframe tbody tr th {\n",
       "        vertical-align: top;\n",
       "    }\n",
       "</style>\n",
       "<table border=\"1\" class=\"dataframe\">\n",
       "  <thead>\n",
       "    <tr style=\"text-align: right;\">\n",
       "      <th></th>\n",
       "      <th>Pclass</th>\n",
       "      <th>Sex</th>\n",
       "      <th>Age</th>\n",
       "      <th>SibSp</th>\n",
       "      <th>Parch</th>\n",
       "      <th>Fare</th>\n",
       "      <th>Embarked</th>\n",
       "      <th>PersonType</th>\n",
       "      <th>Title</th>\n",
       "    </tr>\n",
       "    <tr>\n",
       "      <th>PassengerId</th>\n",
       "      <th></th>\n",
       "      <th></th>\n",
       "      <th></th>\n",
       "      <th></th>\n",
       "      <th></th>\n",
       "      <th></th>\n",
       "      <th></th>\n",
       "      <th></th>\n",
       "      <th></th>\n",
       "    </tr>\n",
       "  </thead>\n",
       "  <tbody>\n",
       "    <tr>\n",
       "      <th>892</th>\n",
       "      <td>0.827377</td>\n",
       "      <td>-0.737695</td>\n",
       "      <td>0.369449</td>\n",
       "      <td>-0.474545</td>\n",
       "      <td>-0.473674</td>\n",
       "      <td>-0.490783</td>\n",
       "      <td>-0.571933</td>\n",
       "      <td>-0.742596</td>\n",
       "      <td>-0.712190</td>\n",
       "    </tr>\n",
       "    <tr>\n",
       "      <th>893</th>\n",
       "      <td>0.827377</td>\n",
       "      <td>1.355574</td>\n",
       "      <td>1.331378</td>\n",
       "      <td>0.432793</td>\n",
       "      <td>-0.473674</td>\n",
       "      <td>-0.507479</td>\n",
       "      <td>1.000883</td>\n",
       "      <td>0.771484</td>\n",
       "      <td>0.163067</td>\n",
       "    </tr>\n",
       "    <tr>\n",
       "      <th>894</th>\n",
       "      <td>-0.369365</td>\n",
       "      <td>-0.737695</td>\n",
       "      <td>2.485693</td>\n",
       "      <td>-0.474545</td>\n",
       "      <td>-0.473674</td>\n",
       "      <td>-0.453367</td>\n",
       "      <td>-0.571933</td>\n",
       "      <td>-0.742596</td>\n",
       "      <td>-0.712190</td>\n",
       "    </tr>\n",
       "    <tr>\n",
       "      <th>895</th>\n",
       "      <td>0.827377</td>\n",
       "      <td>-0.737695</td>\n",
       "      <td>-0.207709</td>\n",
       "      <td>-0.474545</td>\n",
       "      <td>-0.473674</td>\n",
       "      <td>-0.474005</td>\n",
       "      <td>1.000883</td>\n",
       "      <td>-0.742596</td>\n",
       "      <td>-0.712190</td>\n",
       "    </tr>\n",
       "    <tr>\n",
       "      <th>896</th>\n",
       "      <td>0.827377</td>\n",
       "      <td>1.355574</td>\n",
       "      <td>-0.592481</td>\n",
       "      <td>0.432793</td>\n",
       "      <td>0.767630</td>\n",
       "      <td>-0.401017</td>\n",
       "      <td>1.000883</td>\n",
       "      <td>0.771484</td>\n",
       "      <td>0.163067</td>\n",
       "    </tr>\n",
       "  </tbody>\n",
       "</table>\n",
       "</div>"
      ],
      "text/plain": [
       "               Pclass       Sex       Age     SibSp     Parch      Fare  \\\n",
       "PassengerId                                                               \n",
       "892          0.827377 -0.737695  0.369449 -0.474545 -0.473674 -0.490783   \n",
       "893          0.827377  1.355574  1.331378  0.432793 -0.473674 -0.507479   \n",
       "894         -0.369365 -0.737695  2.485693 -0.474545 -0.473674 -0.453367   \n",
       "895          0.827377 -0.737695 -0.207709 -0.474545 -0.473674 -0.474005   \n",
       "896          0.827377  1.355574 -0.592481  0.432793  0.767630 -0.401017   \n",
       "\n",
       "             Embarked  PersonType     Title  \n",
       "PassengerId                                  \n",
       "892         -0.571933   -0.742596 -0.712190  \n",
       "893          1.000883    0.771484  0.163067  \n",
       "894         -0.571933   -0.742596 -0.712190  \n",
       "895          1.000883   -0.742596 -0.712190  \n",
       "896          1.000883    0.771484  0.163067  "
      ]
     },
     "execution_count": 23,
     "metadata": {},
     "output_type": "execute_result"
    }
   ],
   "source": [
    "test.head()"
   ]
  },
  {
   "cell_type": "code",
   "execution_count": 24,
   "metadata": {
    "collapsed": true
   },
   "outputs": [],
   "source": [
    "prediction = pd.DataFrame(data=prediction, index=test.index, columns=['Survived'])"
   ]
  },
  {
   "cell_type": "code",
   "execution_count": 25,
   "metadata": {
    "collapsed": true
   },
   "outputs": [],
   "source": [
    "## TEST\n",
    "#prediction.Survived = 0 # result: 0.62679 (public leaderboard)"
   ]
  },
  {
   "cell_type": "code",
   "execution_count": 26,
   "metadata": {},
   "outputs": [
    {
     "data": {
      "text/html": [
       "<div>\n",
       "<style>\n",
       "    .dataframe thead tr:only-child th {\n",
       "        text-align: right;\n",
       "    }\n",
       "\n",
       "    .dataframe thead th {\n",
       "        text-align: left;\n",
       "    }\n",
       "\n",
       "    .dataframe tbody tr th {\n",
       "        vertical-align: top;\n",
       "    }\n",
       "</style>\n",
       "<table border=\"1\" class=\"dataframe\">\n",
       "  <thead>\n",
       "    <tr style=\"text-align: right;\">\n",
       "      <th></th>\n",
       "      <th>Survived</th>\n",
       "    </tr>\n",
       "    <tr>\n",
       "      <th>PassengerId</th>\n",
       "      <th></th>\n",
       "    </tr>\n",
       "  </thead>\n",
       "  <tbody>\n",
       "    <tr>\n",
       "      <th>892</th>\n",
       "      <td>0</td>\n",
       "    </tr>\n",
       "    <tr>\n",
       "      <th>893</th>\n",
       "      <td>1</td>\n",
       "    </tr>\n",
       "    <tr>\n",
       "      <th>894</th>\n",
       "      <td>0</td>\n",
       "    </tr>\n",
       "    <tr>\n",
       "      <th>895</th>\n",
       "      <td>0</td>\n",
       "    </tr>\n",
       "    <tr>\n",
       "      <th>896</th>\n",
       "      <td>1</td>\n",
       "    </tr>\n",
       "  </tbody>\n",
       "</table>\n",
       "</div>"
      ],
      "text/plain": [
       "             Survived\n",
       "PassengerId          \n",
       "892                 0\n",
       "893                 1\n",
       "894                 0\n",
       "895                 0\n",
       "896                 1"
      ]
     },
     "execution_count": 26,
     "metadata": {},
     "output_type": "execute_result"
    }
   ],
   "source": [
    "prediction.head()"
   ]
  },
  {
   "cell_type": "code",
   "execution_count": 27,
   "metadata": {},
   "outputs": [],
   "source": [
    "prediction.to_csv(\"data/submission_01.csv\", index=True, index_label=\"PassengerId\")"
   ]
  },
  {
   "cell_type": "markdown",
   "metadata": {},
   "source": [
    "## Error analysis\n",
    "The concept is quite simple. You make predictions for the validation set. Then you compare your results with the correct labels. It takes a lot of time but can give you some additional insights."
   ]
  },
  {
   "cell_type": "code",
   "execution_count": 37,
   "metadata": {
    "collapsed": true
   },
   "outputs": [],
   "source": [
    "X_val_prediction = model_l1.predict(X_val)"
   ]
  },
  {
   "cell_type": "code",
   "execution_count": 38,
   "metadata": {
    "collapsed": true
   },
   "outputs": [],
   "source": [
    "X_val_prediction = pd.DataFrame(data=X_val_prediction, index=X_val.index, columns=['Survived'])"
   ]
  },
  {
   "cell_type": "code",
   "execution_count": 39,
   "metadata": {},
   "outputs": [
    {
     "data": {
      "text/html": [
       "<div>\n",
       "<style>\n",
       "    .dataframe thead tr:only-child th {\n",
       "        text-align: right;\n",
       "    }\n",
       "\n",
       "    .dataframe thead th {\n",
       "        text-align: left;\n",
       "    }\n",
       "\n",
       "    .dataframe tbody tr th {\n",
       "        vertical-align: top;\n",
       "    }\n",
       "</style>\n",
       "<table border=\"1\" class=\"dataframe\">\n",
       "  <thead>\n",
       "    <tr style=\"text-align: right;\">\n",
       "      <th></th>\n",
       "      <th>Survived</th>\n",
       "    </tr>\n",
       "    <tr>\n",
       "      <th>PassengerId</th>\n",
       "      <th></th>\n",
       "    </tr>\n",
       "  </thead>\n",
       "  <tbody>\n",
       "    <tr>\n",
       "      <th>577</th>\n",
       "      <td>1</td>\n",
       "    </tr>\n",
       "    <tr>\n",
       "      <th>168</th>\n",
       "      <td>0</td>\n",
       "    </tr>\n",
       "    <tr>\n",
       "      <th>500</th>\n",
       "      <td>0</td>\n",
       "    </tr>\n",
       "    <tr>\n",
       "      <th>154</th>\n",
       "      <td>0</td>\n",
       "    </tr>\n",
       "    <tr>\n",
       "      <th>193</th>\n",
       "      <td>1</td>\n",
       "    </tr>\n",
       "  </tbody>\n",
       "</table>\n",
       "</div>"
      ],
      "text/plain": [
       "             Survived\n",
       "PassengerId          \n",
       "577                 1\n",
       "168                 0\n",
       "500                 0\n",
       "154                 0\n",
       "193                 1"
      ]
     },
     "execution_count": 39,
     "metadata": {},
     "output_type": "execute_result"
    }
   ],
   "source": [
    "X_val_prediction.head()"
   ]
  },
  {
   "cell_type": "code",
   "execution_count": 39,
   "metadata": {
    "scrolled": true
   },
   "outputs": [
    {
     "data": {
      "text/plain": [
       "PassengerId\n",
       "577    False\n",
       "168     True\n",
       "500     True\n",
       "154     True\n",
       "193    False\n",
       "751    False\n",
       "264     True\n",
       "208     True\n",
       "374     True\n",
       "355     True\n",
       "508     True\n",
       "424    False\n",
       "413    False\n",
       "516     True\n",
       "59     False\n",
       "251     True\n",
       "120    False\n",
       "623     True\n",
       "305     True\n",
       "847     True\n",
       "316    False\n",
       "40     False\n",
       "503    False\n",
       "405    False\n",
       "112    False\n",
       "586    False\n",
       "177     True\n",
       "60      True\n",
       "320    False\n",
       "872    False\n",
       "       ...  \n",
       "434     True\n",
       "812     True\n",
       "860     True\n",
       "497    False\n",
       "380     True\n",
       "94      True\n",
       "24      True\n",
       "557    False\n",
       "340     True\n",
       "286     True\n",
       "284     True\n",
       "221     True\n",
       "825     True\n",
       "9      False\n",
       "41     False\n",
       "389     True\n",
       "638     True\n",
       "170     True\n",
       "319    False\n",
       "393     True\n",
       "194    False\n",
       "400    False\n",
       "426     True\n",
       "488     True\n",
       "859    False\n",
       "813     True\n",
       "655    False\n",
       "109     True\n",
       "127     True\n",
       "45     False\n",
       "Name: Survived, Length: 268, dtype: bool"
      ]
     },
     "execution_count": 39,
     "metadata": {},
     "output_type": "execute_result"
    }
   ],
   "source": [
    "X_val_prediction['Survived'] == y_val[1]"
   ]
  },
  {
   "cell_type": "code",
   "execution_count": 40,
   "metadata": {
    "scrolled": true
   },
   "outputs": [
    {
     "data": {
      "text/html": [
       "<div>\n",
       "<style>\n",
       "    .dataframe thead tr:only-child th {\n",
       "        text-align: right;\n",
       "    }\n",
       "\n",
       "    .dataframe thead th {\n",
       "        text-align: left;\n",
       "    }\n",
       "\n",
       "    .dataframe tbody tr th {\n",
       "        vertical-align: top;\n",
       "    }\n",
       "</style>\n",
       "<table border=\"1\" class=\"dataframe\">\n",
       "  <thead>\n",
       "    <tr style=\"text-align: right;\">\n",
       "      <th></th>\n",
       "      <th>Pclass</th>\n",
       "      <th>Sex</th>\n",
       "      <th>Age</th>\n",
       "      <th>SibSp</th>\n",
       "      <th>Parch</th>\n",
       "      <th>Fare</th>\n",
       "      <th>Embarked</th>\n",
       "      <th>PersonType</th>\n",
       "      <th>Title</th>\n",
       "    </tr>\n",
       "    <tr>\n",
       "      <th>PassengerId</th>\n",
       "      <th></th>\n",
       "      <th></th>\n",
       "      <th></th>\n",
       "      <th></th>\n",
       "      <th></th>\n",
       "      <th></th>\n",
       "      <th></th>\n",
       "      <th></th>\n",
       "      <th></th>\n",
       "    </tr>\n",
       "  </thead>\n",
       "  <tbody>\n",
       "    <tr>\n",
       "      <th>168</th>\n",
       "      <td>0.827377</td>\n",
       "      <td>1.355574</td>\n",
       "      <td>1.177469e+00</td>\n",
       "      <td>0.432793</td>\n",
       "      <td>4.491540</td>\n",
       "      <td>-0.086664</td>\n",
       "      <td>-0.571933</td>\n",
       "      <td>0.771484</td>\n",
       "      <td>0.163067</td>\n",
       "    </tr>\n",
       "    <tr>\n",
       "      <th>500</th>\n",
       "      <td>0.827377</td>\n",
       "      <td>-0.737695</td>\n",
       "      <td>-4.385719e-01</td>\n",
       "      <td>-0.474545</td>\n",
       "      <td>-0.473674</td>\n",
       "      <td>-0.491456</td>\n",
       "      <td>-0.571933</td>\n",
       "      <td>-0.742596</td>\n",
       "      <td>-0.712190</td>\n",
       "    </tr>\n",
       "    <tr>\n",
       "      <th>154</th>\n",
       "      <td>0.827377</td>\n",
       "      <td>-0.737695</td>\n",
       "      <td>8.311749e-01</td>\n",
       "      <td>-0.474545</td>\n",
       "      <td>2.008933</td>\n",
       "      <td>-0.356469</td>\n",
       "      <td>-0.571933</td>\n",
       "      <td>-0.742596</td>\n",
       "      <td>-0.712190</td>\n",
       "    </tr>\n",
       "    <tr>\n",
       "      <th>264</th>\n",
       "      <td>-1.566107</td>\n",
       "      <td>-0.737695</td>\n",
       "      <td>7.926977e-01</td>\n",
       "      <td>-0.474545</td>\n",
       "      <td>-0.473674</td>\n",
       "      <td>-0.648422</td>\n",
       "      <td>-0.571933</td>\n",
       "      <td>-0.742596</td>\n",
       "      <td>-0.712190</td>\n",
       "    </tr>\n",
       "    <tr>\n",
       "      <th>208</th>\n",
       "      <td>0.827377</td>\n",
       "      <td>-0.737695</td>\n",
       "      <td>-2.846632e-01</td>\n",
       "      <td>-0.474545</td>\n",
       "      <td>-0.473674</td>\n",
       "      <td>-0.270141</td>\n",
       "      <td>1.000883</td>\n",
       "      <td>-0.742596</td>\n",
       "      <td>-0.712190</td>\n",
       "    </tr>\n",
       "    <tr>\n",
       "      <th>355</th>\n",
       "      <td>0.827377</td>\n",
       "      <td>-0.737695</td>\n",
       "      <td>-2.232906e-16</td>\n",
       "      <td>-0.474545</td>\n",
       "      <td>-0.473674</td>\n",
       "      <td>-0.502949</td>\n",
       "      <td>1.000883</td>\n",
       "      <td>-0.742596</td>\n",
       "      <td>-0.712190</td>\n",
       "    </tr>\n",
       "    <tr>\n",
       "      <th>508</th>\n",
       "      <td>-1.566107</td>\n",
       "      <td>-0.737695</td>\n",
       "      <td>-2.232906e-16</td>\n",
       "      <td>-0.474545</td>\n",
       "      <td>-0.473674</td>\n",
       "      <td>-0.113846</td>\n",
       "      <td>-0.571933</td>\n",
       "      <td>-0.742596</td>\n",
       "      <td>-0.712190</td>\n",
       "    </tr>\n",
       "    <tr>\n",
       "      <th>516</th>\n",
       "      <td>-1.566107</td>\n",
       "      <td>-0.737695</td>\n",
       "      <td>1.331378e+00</td>\n",
       "      <td>-0.474545</td>\n",
       "      <td>-0.473674</td>\n",
       "      <td>0.036577</td>\n",
       "      <td>-0.571933</td>\n",
       "      <td>-0.742596</td>\n",
       "      <td>-0.712190</td>\n",
       "    </tr>\n",
       "    <tr>\n",
       "      <th>251</th>\n",
       "      <td>0.827377</td>\n",
       "      <td>-0.737695</td>\n",
       "      <td>-2.232906e-16</td>\n",
       "      <td>-0.474545</td>\n",
       "      <td>-0.473674</td>\n",
       "      <td>-0.502445</td>\n",
       "      <td>-0.571933</td>\n",
       "      <td>-0.742596</td>\n",
       "      <td>-0.712190</td>\n",
       "    </tr>\n",
       "    <tr>\n",
       "      <th>623</th>\n",
       "      <td>0.827377</td>\n",
       "      <td>-0.737695</td>\n",
       "      <td>-7.463893e-01</td>\n",
       "      <td>0.432793</td>\n",
       "      <td>0.767630</td>\n",
       "      <td>-0.331467</td>\n",
       "      <td>1.000883</td>\n",
       "      <td>-0.742596</td>\n",
       "      <td>-0.712190</td>\n",
       "    </tr>\n",
       "    <tr>\n",
       "      <th>305</th>\n",
       "      <td>0.827377</td>\n",
       "      <td>-0.737695</td>\n",
       "      <td>-2.232906e-16</td>\n",
       "      <td>-0.474545</td>\n",
       "      <td>-0.473674</td>\n",
       "      <td>-0.486337</td>\n",
       "      <td>-0.571933</td>\n",
       "      <td>-0.742596</td>\n",
       "      <td>-0.712190</td>\n",
       "    </tr>\n",
       "    <tr>\n",
       "      <th>847</th>\n",
       "      <td>0.827377</td>\n",
       "      <td>-0.737695</td>\n",
       "      <td>-2.232906e-16</td>\n",
       "      <td>6.784163</td>\n",
       "      <td>2.008933</td>\n",
       "      <td>0.751946</td>\n",
       "      <td>-0.571933</td>\n",
       "      <td>-0.742596</td>\n",
       "      <td>-0.712190</td>\n",
       "    </tr>\n",
       "    <tr>\n",
       "      <th>177</th>\n",
       "      <td>0.827377</td>\n",
       "      <td>-0.737695</td>\n",
       "      <td>-2.232906e-16</td>\n",
       "      <td>2.247470</td>\n",
       "      <td>0.767630</td>\n",
       "      <td>-0.135658</td>\n",
       "      <td>-0.571933</td>\n",
       "      <td>-0.742596</td>\n",
       "      <td>1.913580</td>\n",
       "    </tr>\n",
       "    <tr>\n",
       "      <th>60</th>\n",
       "      <td>0.827377</td>\n",
       "      <td>-0.737695</td>\n",
       "      <td>-1.438978e+00</td>\n",
       "      <td>4.062148</td>\n",
       "      <td>2.008933</td>\n",
       "      <td>0.295895</td>\n",
       "      <td>-0.571933</td>\n",
       "      <td>2.285565</td>\n",
       "      <td>1.913580</td>\n",
       "    </tr>\n",
       "    <tr>\n",
       "      <th>700</th>\n",
       "      <td>0.827377</td>\n",
       "      <td>-0.737695</td>\n",
       "      <td>9.466064e-01</td>\n",
       "      <td>-0.474545</td>\n",
       "      <td>-0.473674</td>\n",
       "      <td>-0.494391</td>\n",
       "      <td>-0.571933</td>\n",
       "      <td>-0.742596</td>\n",
       "      <td>-0.712190</td>\n",
       "    </tr>\n",
       "    <tr>\n",
       "      <th>451</th>\n",
       "      <td>-0.369365</td>\n",
       "      <td>-0.737695</td>\n",
       "      <td>4.848803e-01</td>\n",
       "      <td>0.432793</td>\n",
       "      <td>2.008933</td>\n",
       "      <td>-0.089684</td>\n",
       "      <td>-0.571933</td>\n",
       "      <td>-0.742596</td>\n",
       "      <td>-0.712190</td>\n",
       "    </tr>\n",
       "    <tr>\n",
       "      <th>596</th>\n",
       "      <td>0.827377</td>\n",
       "      <td>-0.737695</td>\n",
       "      <td>4.848803e-01</td>\n",
       "      <td>0.432793</td>\n",
       "      <td>0.767630</td>\n",
       "      <td>-0.162169</td>\n",
       "      <td>-0.571933</td>\n",
       "      <td>-0.742596</td>\n",
       "      <td>-0.712190</td>\n",
       "    </tr>\n",
       "    <tr>\n",
       "      <th>869</th>\n",
       "      <td>0.827377</td>\n",
       "      <td>-0.737695</td>\n",
       "      <td>-2.232906e-16</td>\n",
       "      <td>-0.474545</td>\n",
       "      <td>-0.473674</td>\n",
       "      <td>-0.457142</td>\n",
       "      <td>-0.571933</td>\n",
       "      <td>-0.742596</td>\n",
       "      <td>-0.712190</td>\n",
       "    </tr>\n",
       "    <tr>\n",
       "      <th>548</th>\n",
       "      <td>-0.369365</td>\n",
       "      <td>-0.737695</td>\n",
       "      <td>-2.232906e-16</td>\n",
       "      <td>-0.474545</td>\n",
       "      <td>-0.473674</td>\n",
       "      <td>-0.369305</td>\n",
       "      <td>1.000883</td>\n",
       "      <td>-0.742596</td>\n",
       "      <td>-0.712190</td>\n",
       "    </tr>\n",
       "    <tr>\n",
       "      <th>117</th>\n",
       "      <td>0.827377</td>\n",
       "      <td>-0.737695</td>\n",
       "      <td>3.139805e+00</td>\n",
       "      <td>-0.474545</td>\n",
       "      <td>-0.473674</td>\n",
       "      <td>-0.492378</td>\n",
       "      <td>2.573699</td>\n",
       "      <td>-0.742596</td>\n",
       "      <td>-0.712190</td>\n",
       "    </tr>\n",
       "    <tr>\n",
       "      <th>520</th>\n",
       "      <td>0.827377</td>\n",
       "      <td>-0.737695</td>\n",
       "      <td>1.770629e-01</td>\n",
       "      <td>-0.474545</td>\n",
       "      <td>-0.473674</td>\n",
       "      <td>-0.489442</td>\n",
       "      <td>-0.571933</td>\n",
       "      <td>-0.742596</td>\n",
       "      <td>-0.712190</td>\n",
       "    </tr>\n",
       "    <tr>\n",
       "      <th>192</th>\n",
       "      <td>-0.369365</td>\n",
       "      <td>-0.737695</td>\n",
       "      <td>-8.233437e-01</td>\n",
       "      <td>-0.474545</td>\n",
       "      <td>-0.473674</td>\n",
       "      <td>-0.386671</td>\n",
       "      <td>-0.571933</td>\n",
       "      <td>-0.742596</td>\n",
       "      <td>-0.712190</td>\n",
       "    </tr>\n",
       "    <tr>\n",
       "      <th>364</th>\n",
       "      <td>0.827377</td>\n",
       "      <td>-0.737695</td>\n",
       "      <td>4.079260e-01</td>\n",
       "      <td>-0.474545</td>\n",
       "      <td>-0.473674</td>\n",
       "      <td>-0.506472</td>\n",
       "      <td>-0.571933</td>\n",
       "      <td>-0.742596</td>\n",
       "      <td>-0.712190</td>\n",
       "    </tr>\n",
       "    <tr>\n",
       "      <th>88</th>\n",
       "      <td>0.827377</td>\n",
       "      <td>-0.737695</td>\n",
       "      <td>-2.232906e-16</td>\n",
       "      <td>-0.474545</td>\n",
       "      <td>-0.473674</td>\n",
       "      <td>-0.486337</td>\n",
       "      <td>-0.571933</td>\n",
       "      <td>-0.742596</td>\n",
       "      <td>-0.712190</td>\n",
       "    </tr>\n",
       "    <tr>\n",
       "      <th>34</th>\n",
       "      <td>-0.369365</td>\n",
       "      <td>-0.737695</td>\n",
       "      <td>2.793511e+00</td>\n",
       "      <td>-0.474545</td>\n",
       "      <td>-0.473674</td>\n",
       "      <td>-0.437007</td>\n",
       "      <td>-0.571933</td>\n",
       "      <td>-0.742596</td>\n",
       "      <td>-0.712190</td>\n",
       "    </tr>\n",
       "    <tr>\n",
       "      <th>885</th>\n",
       "      <td>0.827377</td>\n",
       "      <td>-0.737695</td>\n",
       "      <td>-3.616175e-01</td>\n",
       "      <td>-0.474545</td>\n",
       "      <td>-0.473674</td>\n",
       "      <td>-0.506472</td>\n",
       "      <td>-0.571933</td>\n",
       "      <td>-0.742596</td>\n",
       "      <td>-0.712190</td>\n",
       "    </tr>\n",
       "    <tr>\n",
       "      <th>879</th>\n",
       "      <td>0.827377</td>\n",
       "      <td>-0.737695</td>\n",
       "      <td>-2.232906e-16</td>\n",
       "      <td>-0.474545</td>\n",
       "      <td>-0.473674</td>\n",
       "      <td>-0.489442</td>\n",
       "      <td>-0.571933</td>\n",
       "      <td>-0.742596</td>\n",
       "      <td>-0.712190</td>\n",
       "    </tr>\n",
       "    <tr>\n",
       "      <th>799</th>\n",
       "      <td>0.827377</td>\n",
       "      <td>-0.737695</td>\n",
       "      <td>2.315421e-02</td>\n",
       "      <td>-0.474545</td>\n",
       "      <td>-0.473674</td>\n",
       "      <td>-0.502864</td>\n",
       "      <td>1.000883</td>\n",
       "      <td>-0.742596</td>\n",
       "      <td>-0.712190</td>\n",
       "    </tr>\n",
       "    <tr>\n",
       "      <th>362</th>\n",
       "      <td>-0.369365</td>\n",
       "      <td>-0.737695</td>\n",
       "      <td>-5.380014e-02</td>\n",
       "      <td>0.432793</td>\n",
       "      <td>-0.473674</td>\n",
       "      <td>-0.090272</td>\n",
       "      <td>1.000883</td>\n",
       "      <td>-0.742596</td>\n",
       "      <td>-0.712190</td>\n",
       "    </tr>\n",
       "    <tr>\n",
       "      <th>890</th>\n",
       "      <td>-1.566107</td>\n",
       "      <td>-0.737695</td>\n",
       "      <td>-2.846632e-01</td>\n",
       "      <td>-0.474545</td>\n",
       "      <td>-0.473674</td>\n",
       "      <td>-0.044381</td>\n",
       "      <td>1.000883</td>\n",
       "      <td>-0.742596</td>\n",
       "      <td>-0.712190</td>\n",
       "    </tr>\n",
       "    <tr>\n",
       "      <th>...</th>\n",
       "      <td>...</td>\n",
       "      <td>...</td>\n",
       "      <td>...</td>\n",
       "      <td>...</td>\n",
       "      <td>...</td>\n",
       "      <td>...</td>\n",
       "      <td>...</td>\n",
       "      <td>...</td>\n",
       "      <td>...</td>\n",
       "    </tr>\n",
       "    <tr>\n",
       "      <th>36</th>\n",
       "      <td>-1.566107</td>\n",
       "      <td>-0.737695</td>\n",
       "      <td>9.466064e-01</td>\n",
       "      <td>0.432793</td>\n",
       "      <td>-0.473674</td>\n",
       "      <td>0.398582</td>\n",
       "      <td>-0.571933</td>\n",
       "      <td>-0.742596</td>\n",
       "      <td>-0.712190</td>\n",
       "    </tr>\n",
       "    <tr>\n",
       "      <th>549</th>\n",
       "      <td>0.827377</td>\n",
       "      <td>-0.737695</td>\n",
       "      <td>2.540173e-01</td>\n",
       "      <td>0.432793</td>\n",
       "      <td>0.767630</td>\n",
       "      <td>-0.235157</td>\n",
       "      <td>-0.571933</td>\n",
       "      <td>-0.742596</td>\n",
       "      <td>-0.712190</td>\n",
       "    </tr>\n",
       "    <tr>\n",
       "      <th>851</th>\n",
       "      <td>0.827377</td>\n",
       "      <td>-0.737695</td>\n",
       "      <td>-1.977659e+00</td>\n",
       "      <td>3.154809</td>\n",
       "      <td>2.008933</td>\n",
       "      <td>-0.018709</td>\n",
       "      <td>-0.571933</td>\n",
       "      <td>2.285565</td>\n",
       "      <td>1.913580</td>\n",
       "    </tr>\n",
       "    <tr>\n",
       "      <th>13</th>\n",
       "      <td>0.827377</td>\n",
       "      <td>-0.737695</td>\n",
       "      <td>-7.463893e-01</td>\n",
       "      <td>-0.474545</td>\n",
       "      <td>-0.473674</td>\n",
       "      <td>-0.486337</td>\n",
       "      <td>-0.571933</td>\n",
       "      <td>-0.742596</td>\n",
       "      <td>-0.712190</td>\n",
       "    </tr>\n",
       "    <tr>\n",
       "      <th>282</th>\n",
       "      <td>0.827377</td>\n",
       "      <td>-0.737695</td>\n",
       "      <td>-1.307545e-01</td>\n",
       "      <td>-0.474545</td>\n",
       "      <td>-0.473674</td>\n",
       "      <td>-0.490280</td>\n",
       "      <td>-0.571933</td>\n",
       "      <td>-0.742596</td>\n",
       "      <td>-0.712190</td>\n",
       "    </tr>\n",
       "    <tr>\n",
       "      <th>868</th>\n",
       "      <td>-1.566107</td>\n",
       "      <td>-0.737695</td>\n",
       "      <td>1.001086e-01</td>\n",
       "      <td>-0.474545</td>\n",
       "      <td>-0.473674</td>\n",
       "      <td>0.368295</td>\n",
       "      <td>-0.571933</td>\n",
       "      <td>-0.742596</td>\n",
       "      <td>-0.712190</td>\n",
       "    </tr>\n",
       "    <tr>\n",
       "      <th>97</th>\n",
       "      <td>-1.566107</td>\n",
       "      <td>-0.737695</td>\n",
       "      <td>3.178283e+00</td>\n",
       "      <td>-0.474545</td>\n",
       "      <td>-0.473674</td>\n",
       "      <td>0.049330</td>\n",
       "      <td>1.000883</td>\n",
       "      <td>-0.742596</td>\n",
       "      <td>-0.712190</td>\n",
       "    </tr>\n",
       "    <tr>\n",
       "      <th>197</th>\n",
       "      <td>0.827377</td>\n",
       "      <td>-0.737695</td>\n",
       "      <td>-2.232906e-16</td>\n",
       "      <td>-0.474545</td>\n",
       "      <td>-0.473674</td>\n",
       "      <td>-0.492378</td>\n",
       "      <td>2.573699</td>\n",
       "      <td>-0.742596</td>\n",
       "      <td>-0.712190</td>\n",
       "    </tr>\n",
       "    <tr>\n",
       "      <th>753</th>\n",
       "      <td>0.827377</td>\n",
       "      <td>-0.737695</td>\n",
       "      <td>2.540173e-01</td>\n",
       "      <td>-0.474545</td>\n",
       "      <td>-0.473674</td>\n",
       "      <td>-0.457142</td>\n",
       "      <td>-0.571933</td>\n",
       "      <td>-0.742596</td>\n",
       "      <td>-0.712190</td>\n",
       "    </tr>\n",
       "    <tr>\n",
       "      <th>189</th>\n",
       "      <td>0.827377</td>\n",
       "      <td>-0.737695</td>\n",
       "      <td>7.926977e-01</td>\n",
       "      <td>0.432793</td>\n",
       "      <td>0.767630</td>\n",
       "      <td>-0.336334</td>\n",
       "      <td>2.573699</td>\n",
       "      <td>-0.742596</td>\n",
       "      <td>-0.712190</td>\n",
       "    </tr>\n",
       "    <tr>\n",
       "      <th>434</th>\n",
       "      <td>0.827377</td>\n",
       "      <td>-0.737695</td>\n",
       "      <td>-9.772524e-01</td>\n",
       "      <td>-0.474545</td>\n",
       "      <td>-0.473674</td>\n",
       "      <td>-0.504962</td>\n",
       "      <td>-0.571933</td>\n",
       "      <td>-0.742596</td>\n",
       "      <td>-0.712190</td>\n",
       "    </tr>\n",
       "    <tr>\n",
       "      <th>812</th>\n",
       "      <td>0.827377</td>\n",
       "      <td>-0.737695</td>\n",
       "      <td>7.157434e-01</td>\n",
       "      <td>-0.474545</td>\n",
       "      <td>-0.473674</td>\n",
       "      <td>-0.162169</td>\n",
       "      <td>-0.571933</td>\n",
       "      <td>-0.742596</td>\n",
       "      <td>-0.712190</td>\n",
       "    </tr>\n",
       "    <tr>\n",
       "      <th>860</th>\n",
       "      <td>0.827377</td>\n",
       "      <td>-0.737695</td>\n",
       "      <td>-2.232906e-16</td>\n",
       "      <td>-0.474545</td>\n",
       "      <td>-0.473674</td>\n",
       "      <td>-0.502864</td>\n",
       "      <td>1.000883</td>\n",
       "      <td>-0.742596</td>\n",
       "      <td>-0.712190</td>\n",
       "    </tr>\n",
       "    <tr>\n",
       "      <th>380</th>\n",
       "      <td>0.827377</td>\n",
       "      <td>-0.737695</td>\n",
       "      <td>-8.233437e-01</td>\n",
       "      <td>-0.474545</td>\n",
       "      <td>-0.473674</td>\n",
       "      <td>-0.491874</td>\n",
       "      <td>-0.571933</td>\n",
       "      <td>-0.742596</td>\n",
       "      <td>-0.712190</td>\n",
       "    </tr>\n",
       "    <tr>\n",
       "      <th>94</th>\n",
       "      <td>0.827377</td>\n",
       "      <td>-0.737695</td>\n",
       "      <td>-2.846632e-01</td>\n",
       "      <td>0.432793</td>\n",
       "      <td>2.008933</td>\n",
       "      <td>-0.234150</td>\n",
       "      <td>-0.571933</td>\n",
       "      <td>-0.742596</td>\n",
       "      <td>-0.712190</td>\n",
       "    </tr>\n",
       "    <tr>\n",
       "      <th>24</th>\n",
       "      <td>-1.566107</td>\n",
       "      <td>-0.737695</td>\n",
       "      <td>-1.307545e-01</td>\n",
       "      <td>-0.474545</td>\n",
       "      <td>-0.473674</td>\n",
       "      <td>0.066360</td>\n",
       "      <td>-0.571933</td>\n",
       "      <td>-0.742596</td>\n",
       "      <td>-0.712190</td>\n",
       "    </tr>\n",
       "    <tr>\n",
       "      <th>340</th>\n",
       "      <td>-1.566107</td>\n",
       "      <td>-0.737695</td>\n",
       "      <td>1.177469e+00</td>\n",
       "      <td>-0.474545</td>\n",
       "      <td>-0.473674</td>\n",
       "      <td>0.066360</td>\n",
       "      <td>-0.571933</td>\n",
       "      <td>-0.742596</td>\n",
       "      <td>-0.712190</td>\n",
       "    </tr>\n",
       "    <tr>\n",
       "      <th>286</th>\n",
       "      <td>0.827377</td>\n",
       "      <td>-0.737695</td>\n",
       "      <td>2.540173e-01</td>\n",
       "      <td>-0.474545</td>\n",
       "      <td>-0.473674</td>\n",
       "      <td>-0.474005</td>\n",
       "      <td>1.000883</td>\n",
       "      <td>-0.742596</td>\n",
       "      <td>-0.712190</td>\n",
       "    </tr>\n",
       "    <tr>\n",
       "      <th>284</th>\n",
       "      <td>0.827377</td>\n",
       "      <td>-0.737695</td>\n",
       "      <td>-8.233437e-01</td>\n",
       "      <td>-0.474545</td>\n",
       "      <td>-0.473674</td>\n",
       "      <td>-0.486337</td>\n",
       "      <td>-0.571933</td>\n",
       "      <td>-0.742596</td>\n",
       "      <td>-0.712190</td>\n",
       "    </tr>\n",
       "    <tr>\n",
       "      <th>221</th>\n",
       "      <td>0.827377</td>\n",
       "      <td>-0.737695</td>\n",
       "      <td>-1.054207e+00</td>\n",
       "      <td>-0.474545</td>\n",
       "      <td>-0.473674</td>\n",
       "      <td>-0.486337</td>\n",
       "      <td>-0.571933</td>\n",
       "      <td>-0.742596</td>\n",
       "      <td>-0.712190</td>\n",
       "    </tr>\n",
       "    <tr>\n",
       "      <th>825</th>\n",
       "      <td>0.827377</td>\n",
       "      <td>-0.737695</td>\n",
       "      <td>-2.131568e+00</td>\n",
       "      <td>3.154809</td>\n",
       "      <td>0.767630</td>\n",
       "      <td>0.150674</td>\n",
       "      <td>-0.571933</td>\n",
       "      <td>2.285565</td>\n",
       "      <td>1.913580</td>\n",
       "    </tr>\n",
       "    <tr>\n",
       "      <th>389</th>\n",
       "      <td>0.827377</td>\n",
       "      <td>-0.737695</td>\n",
       "      <td>-2.232906e-16</td>\n",
       "      <td>-0.474545</td>\n",
       "      <td>-0.473674</td>\n",
       "      <td>-0.492797</td>\n",
       "      <td>2.573699</td>\n",
       "      <td>-0.742596</td>\n",
       "      <td>-0.712190</td>\n",
       "    </tr>\n",
       "    <tr>\n",
       "      <th>638</th>\n",
       "      <td>-0.369365</td>\n",
       "      <td>-0.737695</td>\n",
       "      <td>1.001086e-01</td>\n",
       "      <td>0.432793</td>\n",
       "      <td>0.767630</td>\n",
       "      <td>-0.119886</td>\n",
       "      <td>-0.571933</td>\n",
       "      <td>-0.742596</td>\n",
       "      <td>-0.712190</td>\n",
       "    </tr>\n",
       "    <tr>\n",
       "      <th>170</th>\n",
       "      <td>0.827377</td>\n",
       "      <td>-0.737695</td>\n",
       "      <td>-1.307545e-01</td>\n",
       "      <td>-0.474545</td>\n",
       "      <td>-0.473674</td>\n",
       "      <td>0.489104</td>\n",
       "      <td>-0.571933</td>\n",
       "      <td>-0.742596</td>\n",
       "      <td>-0.712190</td>\n",
       "    </tr>\n",
       "    <tr>\n",
       "      <th>393</th>\n",
       "      <td>0.827377</td>\n",
       "      <td>-0.737695</td>\n",
       "      <td>-1.307545e-01</td>\n",
       "      <td>1.340132</td>\n",
       "      <td>-0.473674</td>\n",
       "      <td>-0.488854</td>\n",
       "      <td>-0.571933</td>\n",
       "      <td>-0.742596</td>\n",
       "      <td>-0.712190</td>\n",
       "    </tr>\n",
       "    <tr>\n",
       "      <th>426</th>\n",
       "      <td>0.827377</td>\n",
       "      <td>-0.737695</td>\n",
       "      <td>-2.232906e-16</td>\n",
       "      <td>-0.474545</td>\n",
       "      <td>-0.473674</td>\n",
       "      <td>-0.502445</td>\n",
       "      <td>-0.571933</td>\n",
       "      <td>-0.742596</td>\n",
       "      <td>-0.712190</td>\n",
       "    </tr>\n",
       "    <tr>\n",
       "      <th>488</th>\n",
       "      <td>-1.566107</td>\n",
       "      <td>-0.737695</td>\n",
       "      <td>2.177876e+00</td>\n",
       "      <td>-0.474545</td>\n",
       "      <td>-0.473674</td>\n",
       "      <td>-0.050421</td>\n",
       "      <td>1.000883</td>\n",
       "      <td>-0.742596</td>\n",
       "      <td>-0.712190</td>\n",
       "    </tr>\n",
       "    <tr>\n",
       "      <th>813</th>\n",
       "      <td>-0.369365</td>\n",
       "      <td>-0.737695</td>\n",
       "      <td>4.079260e-01</td>\n",
       "      <td>-0.474545</td>\n",
       "      <td>-0.473674</td>\n",
       "      <td>-0.437007</td>\n",
       "      <td>-0.571933</td>\n",
       "      <td>-0.742596</td>\n",
       "      <td>-0.712190</td>\n",
       "    </tr>\n",
       "    <tr>\n",
       "      <th>109</th>\n",
       "      <td>0.827377</td>\n",
       "      <td>-0.737695</td>\n",
       "      <td>6.387890e-01</td>\n",
       "      <td>-0.474545</td>\n",
       "      <td>-0.473674</td>\n",
       "      <td>-0.489442</td>\n",
       "      <td>-0.571933</td>\n",
       "      <td>-0.742596</td>\n",
       "      <td>-0.712190</td>\n",
       "    </tr>\n",
       "    <tr>\n",
       "      <th>127</th>\n",
       "      <td>0.827377</td>\n",
       "      <td>-0.737695</td>\n",
       "      <td>-2.232906e-16</td>\n",
       "      <td>-0.474545</td>\n",
       "      <td>-0.473674</td>\n",
       "      <td>-0.492378</td>\n",
       "      <td>2.573699</td>\n",
       "      <td>-0.742596</td>\n",
       "      <td>-0.712190</td>\n",
       "    </tr>\n",
       "  </tbody>\n",
       "</table>\n",
       "<p>159 rows × 9 columns</p>\n",
       "</div>"
      ],
      "text/plain": [
       "               Pclass       Sex           Age     SibSp     Parch      Fare  \\\n",
       "PassengerId                                                                   \n",
       "168          0.827377  1.355574  1.177469e+00  0.432793  4.491540 -0.086664   \n",
       "500          0.827377 -0.737695 -4.385719e-01 -0.474545 -0.473674 -0.491456   \n",
       "154          0.827377 -0.737695  8.311749e-01 -0.474545  2.008933 -0.356469   \n",
       "264         -1.566107 -0.737695  7.926977e-01 -0.474545 -0.473674 -0.648422   \n",
       "208          0.827377 -0.737695 -2.846632e-01 -0.474545 -0.473674 -0.270141   \n",
       "355          0.827377 -0.737695 -2.232906e-16 -0.474545 -0.473674 -0.502949   \n",
       "508         -1.566107 -0.737695 -2.232906e-16 -0.474545 -0.473674 -0.113846   \n",
       "516         -1.566107 -0.737695  1.331378e+00 -0.474545 -0.473674  0.036577   \n",
       "251          0.827377 -0.737695 -2.232906e-16 -0.474545 -0.473674 -0.502445   \n",
       "623          0.827377 -0.737695 -7.463893e-01  0.432793  0.767630 -0.331467   \n",
       "305          0.827377 -0.737695 -2.232906e-16 -0.474545 -0.473674 -0.486337   \n",
       "847          0.827377 -0.737695 -2.232906e-16  6.784163  2.008933  0.751946   \n",
       "177          0.827377 -0.737695 -2.232906e-16  2.247470  0.767630 -0.135658   \n",
       "60           0.827377 -0.737695 -1.438978e+00  4.062148  2.008933  0.295895   \n",
       "700          0.827377 -0.737695  9.466064e-01 -0.474545 -0.473674 -0.494391   \n",
       "451         -0.369365 -0.737695  4.848803e-01  0.432793  2.008933 -0.089684   \n",
       "596          0.827377 -0.737695  4.848803e-01  0.432793  0.767630 -0.162169   \n",
       "869          0.827377 -0.737695 -2.232906e-16 -0.474545 -0.473674 -0.457142   \n",
       "548         -0.369365 -0.737695 -2.232906e-16 -0.474545 -0.473674 -0.369305   \n",
       "117          0.827377 -0.737695  3.139805e+00 -0.474545 -0.473674 -0.492378   \n",
       "520          0.827377 -0.737695  1.770629e-01 -0.474545 -0.473674 -0.489442   \n",
       "192         -0.369365 -0.737695 -8.233437e-01 -0.474545 -0.473674 -0.386671   \n",
       "364          0.827377 -0.737695  4.079260e-01 -0.474545 -0.473674 -0.506472   \n",
       "88           0.827377 -0.737695 -2.232906e-16 -0.474545 -0.473674 -0.486337   \n",
       "34          -0.369365 -0.737695  2.793511e+00 -0.474545 -0.473674 -0.437007   \n",
       "885          0.827377 -0.737695 -3.616175e-01 -0.474545 -0.473674 -0.506472   \n",
       "879          0.827377 -0.737695 -2.232906e-16 -0.474545 -0.473674 -0.489442   \n",
       "799          0.827377 -0.737695  2.315421e-02 -0.474545 -0.473674 -0.502864   \n",
       "362         -0.369365 -0.737695 -5.380014e-02  0.432793 -0.473674 -0.090272   \n",
       "890         -1.566107 -0.737695 -2.846632e-01 -0.474545 -0.473674 -0.044381   \n",
       "...               ...       ...           ...       ...       ...       ...   \n",
       "36          -1.566107 -0.737695  9.466064e-01  0.432793 -0.473674  0.398582   \n",
       "549          0.827377 -0.737695  2.540173e-01  0.432793  0.767630 -0.235157   \n",
       "851          0.827377 -0.737695 -1.977659e+00  3.154809  2.008933 -0.018709   \n",
       "13           0.827377 -0.737695 -7.463893e-01 -0.474545 -0.473674 -0.486337   \n",
       "282          0.827377 -0.737695 -1.307545e-01 -0.474545 -0.473674 -0.490280   \n",
       "868         -1.566107 -0.737695  1.001086e-01 -0.474545 -0.473674  0.368295   \n",
       "97          -1.566107 -0.737695  3.178283e+00 -0.474545 -0.473674  0.049330   \n",
       "197          0.827377 -0.737695 -2.232906e-16 -0.474545 -0.473674 -0.492378   \n",
       "753          0.827377 -0.737695  2.540173e-01 -0.474545 -0.473674 -0.457142   \n",
       "189          0.827377 -0.737695  7.926977e-01  0.432793  0.767630 -0.336334   \n",
       "434          0.827377 -0.737695 -9.772524e-01 -0.474545 -0.473674 -0.504962   \n",
       "812          0.827377 -0.737695  7.157434e-01 -0.474545 -0.473674 -0.162169   \n",
       "860          0.827377 -0.737695 -2.232906e-16 -0.474545 -0.473674 -0.502864   \n",
       "380          0.827377 -0.737695 -8.233437e-01 -0.474545 -0.473674 -0.491874   \n",
       "94           0.827377 -0.737695 -2.846632e-01  0.432793  2.008933 -0.234150   \n",
       "24          -1.566107 -0.737695 -1.307545e-01 -0.474545 -0.473674  0.066360   \n",
       "340         -1.566107 -0.737695  1.177469e+00 -0.474545 -0.473674  0.066360   \n",
       "286          0.827377 -0.737695  2.540173e-01 -0.474545 -0.473674 -0.474005   \n",
       "284          0.827377 -0.737695 -8.233437e-01 -0.474545 -0.473674 -0.486337   \n",
       "221          0.827377 -0.737695 -1.054207e+00 -0.474545 -0.473674 -0.486337   \n",
       "825          0.827377 -0.737695 -2.131568e+00  3.154809  0.767630  0.150674   \n",
       "389          0.827377 -0.737695 -2.232906e-16 -0.474545 -0.473674 -0.492797   \n",
       "638         -0.369365 -0.737695  1.001086e-01  0.432793  0.767630 -0.119886   \n",
       "170          0.827377 -0.737695 -1.307545e-01 -0.474545 -0.473674  0.489104   \n",
       "393          0.827377 -0.737695 -1.307545e-01  1.340132 -0.473674 -0.488854   \n",
       "426          0.827377 -0.737695 -2.232906e-16 -0.474545 -0.473674 -0.502445   \n",
       "488         -1.566107 -0.737695  2.177876e+00 -0.474545 -0.473674 -0.050421   \n",
       "813         -0.369365 -0.737695  4.079260e-01 -0.474545 -0.473674 -0.437007   \n",
       "109          0.827377 -0.737695  6.387890e-01 -0.474545 -0.473674 -0.489442   \n",
       "127          0.827377 -0.737695 -2.232906e-16 -0.474545 -0.473674 -0.492378   \n",
       "\n",
       "             Embarked  PersonType     Title  \n",
       "PassengerId                                  \n",
       "168         -0.571933    0.771484  0.163067  \n",
       "500         -0.571933   -0.742596 -0.712190  \n",
       "154         -0.571933   -0.742596 -0.712190  \n",
       "264         -0.571933   -0.742596 -0.712190  \n",
       "208          1.000883   -0.742596 -0.712190  \n",
       "355          1.000883   -0.742596 -0.712190  \n",
       "508         -0.571933   -0.742596 -0.712190  \n",
       "516         -0.571933   -0.742596 -0.712190  \n",
       "251         -0.571933   -0.742596 -0.712190  \n",
       "623          1.000883   -0.742596 -0.712190  \n",
       "305         -0.571933   -0.742596 -0.712190  \n",
       "847         -0.571933   -0.742596 -0.712190  \n",
       "177         -0.571933   -0.742596  1.913580  \n",
       "60          -0.571933    2.285565  1.913580  \n",
       "700         -0.571933   -0.742596 -0.712190  \n",
       "451         -0.571933   -0.742596 -0.712190  \n",
       "596         -0.571933   -0.742596 -0.712190  \n",
       "869         -0.571933   -0.742596 -0.712190  \n",
       "548          1.000883   -0.742596 -0.712190  \n",
       "117          2.573699   -0.742596 -0.712190  \n",
       "520         -0.571933   -0.742596 -0.712190  \n",
       "192         -0.571933   -0.742596 -0.712190  \n",
       "364         -0.571933   -0.742596 -0.712190  \n",
       "88          -0.571933   -0.742596 -0.712190  \n",
       "34          -0.571933   -0.742596 -0.712190  \n",
       "885         -0.571933   -0.742596 -0.712190  \n",
       "879         -0.571933   -0.742596 -0.712190  \n",
       "799          1.000883   -0.742596 -0.712190  \n",
       "362          1.000883   -0.742596 -0.712190  \n",
       "890          1.000883   -0.742596 -0.712190  \n",
       "...               ...         ...       ...  \n",
       "36          -0.571933   -0.742596 -0.712190  \n",
       "549         -0.571933   -0.742596 -0.712190  \n",
       "851         -0.571933    2.285565  1.913580  \n",
       "13          -0.571933   -0.742596 -0.712190  \n",
       "282         -0.571933   -0.742596 -0.712190  \n",
       "868         -0.571933   -0.742596 -0.712190  \n",
       "97           1.000883   -0.742596 -0.712190  \n",
       "197          2.573699   -0.742596 -0.712190  \n",
       "753         -0.571933   -0.742596 -0.712190  \n",
       "189          2.573699   -0.742596 -0.712190  \n",
       "434         -0.571933   -0.742596 -0.712190  \n",
       "812         -0.571933   -0.742596 -0.712190  \n",
       "860          1.000883   -0.742596 -0.712190  \n",
       "380         -0.571933   -0.742596 -0.712190  \n",
       "94          -0.571933   -0.742596 -0.712190  \n",
       "24          -0.571933   -0.742596 -0.712190  \n",
       "340         -0.571933   -0.742596 -0.712190  \n",
       "286          1.000883   -0.742596 -0.712190  \n",
       "284         -0.571933   -0.742596 -0.712190  \n",
       "221         -0.571933   -0.742596 -0.712190  \n",
       "825         -0.571933    2.285565  1.913580  \n",
       "389          2.573699   -0.742596 -0.712190  \n",
       "638         -0.571933   -0.742596 -0.712190  \n",
       "170         -0.571933   -0.742596 -0.712190  \n",
       "393         -0.571933   -0.742596 -0.712190  \n",
       "426         -0.571933   -0.742596 -0.712190  \n",
       "488          1.000883   -0.742596 -0.712190  \n",
       "813         -0.571933   -0.742596 -0.712190  \n",
       "109         -0.571933   -0.742596 -0.712190  \n",
       "127          2.573699   -0.742596 -0.712190  \n",
       "\n",
       "[159 rows x 9 columns]"
      ]
     },
     "execution_count": 40,
     "metadata": {},
     "output_type": "execute_result"
    }
   ],
   "source": [
    "X_val[X_val_prediction['Survived'] == y_val[1]]"
   ]
  },
  {
   "cell_type": "markdown",
   "metadata": {
    "collapsed": true
   },
   "source": [
    "## 2. Decison Trees"
   ]
  },
  {
   "cell_type": "code",
   "execution_count": 41,
   "metadata": {
    "collapsed": true
   },
   "outputs": [],
   "source": [
    "from sklearn.tree import DecisionTreeClassifier\n",
    "model_dt = DecisionTreeClassifier(criterion='gini')"
   ]
  },
  {
   "cell_type": "code",
   "execution_count": 46,
   "metadata": {},
   "outputs": [
    {
     "data": {
      "text/plain": [
       "DecisionTreeClassifier(class_weight=None, criterion='gini', max_depth=None,\n",
       "            max_features=None, max_leaf_nodes=None,\n",
       "            min_impurity_decrease=0.0, min_impurity_split=None,\n",
       "            min_samples_leaf=1, min_samples_split=2,\n",
       "            min_weight_fraction_leaf=0.0, presort=False, random_state=None,\n",
       "            splitter='best')"
      ]
     },
     "execution_count": 46,
     "metadata": {},
     "output_type": "execute_result"
    }
   ],
   "source": [
    "model_dt.fit(X_train, y_train)"
   ]
  },
  {
   "cell_type": "code",
   "execution_count": 47,
   "metadata": {},
   "outputs": [
    {
     "data": {
      "text/plain": [
       "(0.9887640449438202, 0.77238805970149249)"
      ]
     },
     "execution_count": 47,
     "metadata": {},
     "output_type": "execute_result"
    }
   ],
   "source": [
    "model_dt.score(X_train, y_train) , model_dt.score(X_val, y_val)"
   ]
  },
  {
   "cell_type": "markdown",
   "metadata": {},
   "source": [
    "Our model is overfitting.\n",
    "### Excercise: Create a new model which doesn't overfit"
   ]
  },
  {
   "cell_type": "code",
   "execution_count": 45,
   "metadata": {
    "collapsed": true
   },
   "outputs": [],
   "source": [
    "## Your Code here\n"
   ]
  },
  {
   "cell_type": "markdown",
   "metadata": {},
   "source": [
    "## 3. K Nearest Neighbor"
   ]
  },
  {
   "cell_type": "code",
   "execution_count": 46,
   "metadata": {
    "collapsed": true
   },
   "outputs": [],
   "source": [
    "from sklearn.neighbors import KNeighborsClassifier\n",
    "model_k = KNeighborsClassifier(n_neighbors=1)"
   ]
  },
  {
   "cell_type": "code",
   "execution_count": 47,
   "metadata": {},
   "outputs": [
    {
     "data": {
      "text/plain": [
       "KNeighborsClassifier(algorithm='auto', leaf_size=30, metric='minkowski',\n",
       "           metric_params=None, n_jobs=1, n_neighbors=1, p=2,\n",
       "           weights='uniform')"
      ]
     },
     "execution_count": 47,
     "metadata": {},
     "output_type": "execute_result"
    }
   ],
   "source": [
    "model_k.fit(X_train, y_train)"
   ]
  },
  {
   "cell_type": "code",
   "execution_count": 48,
   "metadata": {},
   "outputs": [
    {
     "data": {
      "text/plain": [
       "(0.9839486356340289, 0.7649253731343284)"
      ]
     },
     "execution_count": 48,
     "metadata": {},
     "output_type": "execute_result"
    }
   ],
   "source": [
    "model_k.score(X_train, y_train), model_k.score(X_val, y_val)"
   ]
  },
  {
   "cell_type": "code",
   "execution_count": 49,
   "metadata": {
    "collapsed": true
   },
   "outputs": [],
   "source": [
    "train_pred = model_k.predict(X_train)"
   ]
  },
  {
   "cell_type": "code",
   "execution_count": 50,
   "metadata": {},
   "outputs": [
    {
     "data": {
      "text/html": [
       "<div>\n",
       "<style>\n",
       "    .dataframe thead tr:only-child th {\n",
       "        text-align: right;\n",
       "    }\n",
       "\n",
       "    .dataframe thead th {\n",
       "        text-align: left;\n",
       "    }\n",
       "\n",
       "    .dataframe tbody tr th {\n",
       "        vertical-align: top;\n",
       "    }\n",
       "</style>\n",
       "<table border=\"1\" class=\"dataframe\">\n",
       "  <thead>\n",
       "    <tr style=\"text-align: right;\">\n",
       "      <th></th>\n",
       "      <th>Pclass</th>\n",
       "      <th>Sex</th>\n",
       "      <th>Age</th>\n",
       "      <th>SibSp</th>\n",
       "      <th>Parch</th>\n",
       "      <th>Fare</th>\n",
       "      <th>Embarked</th>\n",
       "      <th>PersonType</th>\n",
       "      <th>Title</th>\n",
       "    </tr>\n",
       "    <tr>\n",
       "      <th>PassengerId</th>\n",
       "      <th></th>\n",
       "      <th></th>\n",
       "      <th></th>\n",
       "      <th></th>\n",
       "      <th></th>\n",
       "      <th></th>\n",
       "      <th></th>\n",
       "      <th></th>\n",
       "      <th></th>\n",
       "    </tr>\n",
       "  </thead>\n",
       "  <tbody>\n",
       "    <tr>\n",
       "      <th>22</th>\n",
       "      <td>1.682199</td>\n",
       "      <td>-0.737695</td>\n",
       "      <td>0.330972</td>\n",
       "      <td>-0.474545</td>\n",
       "      <td>-0.473674</td>\n",
       "      <td>-0.386671</td>\n",
       "      <td>-0.571933</td>\n",
       "      <td>-0.742596</td>\n",
       "      <td>-0.71219</td>\n",
       "    </tr>\n",
       "    <tr>\n",
       "      <th>580</th>\n",
       "      <td>-0.820037</td>\n",
       "      <td>-0.737695</td>\n",
       "      <td>0.177063</td>\n",
       "      <td>-0.474545</td>\n",
       "      <td>-0.473674</td>\n",
       "      <td>-0.488854</td>\n",
       "      <td>-0.571933</td>\n",
       "      <td>-0.742596</td>\n",
       "      <td>-0.71219</td>\n",
       "    </tr>\n",
       "    <tr>\n",
       "      <th>668</th>\n",
       "      <td>-0.820037</td>\n",
       "      <td>-0.737695</td>\n",
       "      <td>0.000000</td>\n",
       "      <td>-0.474545</td>\n",
       "      <td>-0.473674</td>\n",
       "      <td>-0.491874</td>\n",
       "      <td>-0.571933</td>\n",
       "      <td>-0.742596</td>\n",
       "      <td>-0.71219</td>\n",
       "    </tr>\n",
       "    <tr>\n",
       "      <th>833</th>\n",
       "      <td>-0.820037</td>\n",
       "      <td>-0.737695</td>\n",
       "      <td>0.000000</td>\n",
       "      <td>-0.474545</td>\n",
       "      <td>-0.473674</td>\n",
       "      <td>-0.502864</td>\n",
       "      <td>1.000883</td>\n",
       "      <td>-0.742596</td>\n",
       "      <td>-0.71219</td>\n",
       "    </tr>\n",
       "    <tr>\n",
       "      <th>644</th>\n",
       "      <td>-0.820037</td>\n",
       "      <td>-0.737695</td>\n",
       "      <td>0.000000</td>\n",
       "      <td>-0.474545</td>\n",
       "      <td>-0.473674</td>\n",
       "      <td>0.489104</td>\n",
       "      <td>-0.571933</td>\n",
       "      <td>-0.742596</td>\n",
       "      <td>-0.71219</td>\n",
       "    </tr>\n",
       "    <tr>\n",
       "      <th>401</th>\n",
       "      <td>-0.820037</td>\n",
       "      <td>-0.737695</td>\n",
       "      <td>0.715743</td>\n",
       "      <td>-0.474545</td>\n",
       "      <td>-0.473674</td>\n",
       "      <td>-0.488854</td>\n",
       "      <td>-0.571933</td>\n",
       "      <td>-0.742596</td>\n",
       "      <td>-0.71219</td>\n",
       "    </tr>\n",
       "    <tr>\n",
       "      <th>829</th>\n",
       "      <td>-0.820037</td>\n",
       "      <td>-0.737695</td>\n",
       "      <td>0.000000</td>\n",
       "      <td>-0.474545</td>\n",
       "      <td>-0.473674</td>\n",
       "      <td>-0.492378</td>\n",
       "      <td>2.573699</td>\n",
       "      <td>-0.742596</td>\n",
       "      <td>-0.71219</td>\n",
       "    </tr>\n",
       "    <tr>\n",
       "      <th>693</th>\n",
       "      <td>-0.820037</td>\n",
       "      <td>-0.737695</td>\n",
       "      <td>0.000000</td>\n",
       "      <td>-0.474545</td>\n",
       "      <td>-0.473674</td>\n",
       "      <td>0.489104</td>\n",
       "      <td>-0.571933</td>\n",
       "      <td>-0.742596</td>\n",
       "      <td>-0.71219</td>\n",
       "    </tr>\n",
       "    <tr>\n",
       "      <th>569</th>\n",
       "      <td>-0.820037</td>\n",
       "      <td>-0.737695</td>\n",
       "      <td>0.000000</td>\n",
       "      <td>-0.474545</td>\n",
       "      <td>-0.473674</td>\n",
       "      <td>-0.502864</td>\n",
       "      <td>1.000883</td>\n",
       "      <td>-0.742596</td>\n",
       "      <td>-0.71219</td>\n",
       "    </tr>\n",
       "    <tr>\n",
       "      <th>525</th>\n",
       "      <td>-0.820037</td>\n",
       "      <td>-0.737695</td>\n",
       "      <td>0.000000</td>\n",
       "      <td>-0.474545</td>\n",
       "      <td>-0.473674</td>\n",
       "      <td>-0.502864</td>\n",
       "      <td>1.000883</td>\n",
       "      <td>-0.742596</td>\n",
       "      <td>-0.71219</td>\n",
       "    </tr>\n",
       "  </tbody>\n",
       "</table>\n",
       "</div>"
      ],
      "text/plain": [
       "               Pclass       Sex       Age     SibSp     Parch      Fare  \\\n",
       "PassengerId                                                               \n",
       "22           1.682199 -0.737695  0.330972 -0.474545 -0.473674 -0.386671   \n",
       "580         -0.820037 -0.737695  0.177063 -0.474545 -0.473674 -0.488854   \n",
       "668         -0.820037 -0.737695  0.000000 -0.474545 -0.473674 -0.491874   \n",
       "833         -0.820037 -0.737695  0.000000 -0.474545 -0.473674 -0.502864   \n",
       "644         -0.820037 -0.737695  0.000000 -0.474545 -0.473674  0.489104   \n",
       "401         -0.820037 -0.737695  0.715743 -0.474545 -0.473674 -0.488854   \n",
       "829         -0.820037 -0.737695  0.000000 -0.474545 -0.473674 -0.492378   \n",
       "693         -0.820037 -0.737695  0.000000 -0.474545 -0.473674  0.489104   \n",
       "569         -0.820037 -0.737695  0.000000 -0.474545 -0.473674 -0.502864   \n",
       "525         -0.820037 -0.737695  0.000000 -0.474545 -0.473674 -0.502864   \n",
       "\n",
       "             Embarked  PersonType    Title  \n",
       "PassengerId                                 \n",
       "22          -0.571933   -0.742596 -0.71219  \n",
       "580         -0.571933   -0.742596 -0.71219  \n",
       "668         -0.571933   -0.742596 -0.71219  \n",
       "833          1.000883   -0.742596 -0.71219  \n",
       "644         -0.571933   -0.742596 -0.71219  \n",
       "401         -0.571933   -0.742596 -0.71219  \n",
       "829          2.573699   -0.742596 -0.71219  \n",
       "693         -0.571933   -0.742596 -0.71219  \n",
       "569          1.000883   -0.742596 -0.71219  \n",
       "525          1.000883   -0.742596 -0.71219  "
      ]
     },
     "execution_count": 50,
     "metadata": {},
     "output_type": "execute_result"
    }
   ],
   "source": [
    "X_train[train_pred != y_train]"
   ]
  },
  {
   "cell_type": "markdown",
   "metadata": {},
   "source": [
    "### Excercise: Find the best parameter for k"
   ]
  },
  {
   "cell_type": "code",
   "execution_count": 51,
   "metadata": {
    "collapsed": true
   },
   "outputs": [],
   "source": [
    "## Your Code here"
   ]
  },
  {
   "cell_type": "markdown",
   "metadata": {},
   "source": [
    "## 4. Hyperparameter optimization\n",
    "Normal parameters: Parameters which can be learnt by the model  \n",
    "Hyper paramaters: Parameters which define the structure or learning process of the model"
   ]
  },
  {
   "cell_type": "code",
   "execution_count": 52,
   "metadata": {
    "collapsed": true
   },
   "outputs": [],
   "source": [
    "from sklearn.model_selection import GridSearchCV"
   ]
  },
  {
   "cell_type": "markdown",
   "metadata": {},
   "source": [
    "### KNN"
   ]
  },
  {
   "cell_type": "code",
   "execution_count": 56,
   "metadata": {
    "collapsed": true
   },
   "outputs": [],
   "source": [
    "## KNN\n",
    "param_grid = [\n",
    "  {'n_neighbors': [1,2,3,4,5,6,7,8]}]\n",
    "gs_knn = GridSearchCV(model_k,param_grid=param_grid)"
   ]
  },
  {
   "cell_type": "code",
   "execution_count": 60,
   "metadata": {},
   "outputs": [
    {
     "data": {
      "text/plain": [
       "GridSearchCV(cv=None, error_score='raise',\n",
       "       estimator=KNeighborsClassifier(algorithm='auto', leaf_size=30, metric='minkowski',\n",
       "           metric_params=None, n_jobs=1, n_neighbors=1, p=2,\n",
       "           weights='uniform'),\n",
       "       fit_params=None, iid=True, n_jobs=1,\n",
       "       param_grid=[{'n_neighbors': [1, 2, 3, 4, 5, 6, 7, 8]}],\n",
       "       pre_dispatch='2*n_jobs', refit=True, return_train_score=True,\n",
       "       scoring=None, verbose=0)"
      ]
     },
     "execution_count": 60,
     "metadata": {},
     "output_type": "execute_result"
    }
   ],
   "source": [
    "gs_knn.fit(X_train, y_train)"
   ]
  },
  {
   "cell_type": "code",
   "execution_count": 61,
   "metadata": {},
   "outputs": [
    {
     "data": {
      "text/plain": [
       "{'n_neighbors': 6}"
      ]
     },
     "execution_count": 61,
     "metadata": {},
     "output_type": "execute_result"
    }
   ],
   "source": [
    "gs_knn.best_params_"
   ]
  },
  {
   "cell_type": "code",
   "execution_count": 62,
   "metadata": {},
   "outputs": [
    {
     "data": {
      "text/plain": [
       "0.8186195826645265"
      ]
     },
     "execution_count": 62,
     "metadata": {},
     "output_type": "execute_result"
    }
   ],
   "source": [
    "gs_knn.best_score_"
   ]
  },
  {
   "cell_type": "code",
   "execution_count": 63,
   "metadata": {
    "collapsed": true
   },
   "outputs": [],
   "source": [
    "model_k = gs_knn.best_estimator_"
   ]
  },
  {
   "cell_type": "markdown",
   "metadata": {},
   "source": [
    "### Decision Trees"
   ]
  },
  {
   "cell_type": "code",
   "execution_count": 64,
   "metadata": {
    "collapsed": true
   },
   "outputs": [],
   "source": [
    "param_grid = [\n",
    "    {'max_depth': (range(1,10)),\n",
    "     'max_features': (range(1,10)),\n",
    "     'min_samples_leaf': (range(1,10)),}\n",
    "    ]  \n",
    "\n",
    "model_dt = DecisionTreeClassifier()\n",
    "\n",
    "gs_dt = GridSearchCV(model_dt,param_grid)   "
   ]
  },
  {
   "cell_type": "code",
   "execution_count": 216,
   "metadata": {},
   "outputs": [
    {
     "data": {
      "text/plain": [
       "GridSearchCV(cv=None, error_score='raise',\n",
       "       estimator=DecisionTreeClassifier(class_weight=None, criterion='gini', max_depth=None,\n",
       "            max_features=None, max_leaf_nodes=None,\n",
       "            min_impurity_decrease=0.0, min_impurity_split=None,\n",
       "            min_samples_leaf=1, min_samples_split=2,\n",
       "            min_weight_fraction_leaf=0.0, presort=False, random_state=None,\n",
       "            splitter='best'),\n",
       "       fit_params=None, iid=True, n_jobs=1,\n",
       "       param_grid=[{'max_depth': range(1, 10), 'max_features': range(1, 10), 'min_samples_leaf': range(1, 10)}],\n",
       "       pre_dispatch='2*n_jobs', refit=True, return_train_score=True,\n",
       "       scoring=None, verbose=0)"
      ]
     },
     "execution_count": 216,
     "metadata": {},
     "output_type": "execute_result"
    }
   ],
   "source": [
    "gs_dt.fit(X_train, y_train)"
   ]
  },
  {
   "cell_type": "code",
   "execution_count": 217,
   "metadata": {},
   "outputs": [
    {
     "data": {
      "text/plain": [
       "{'max_depth': 4, 'max_features': 4, 'min_samples_leaf': 4}"
      ]
     },
     "execution_count": 217,
     "metadata": {},
     "output_type": "execute_result"
    }
   ],
   "source": [
    "gs_dt.best_params_"
   ]
  },
  {
   "cell_type": "markdown",
   "metadata": {},
   "source": [
    "### Further reading: RandomSearchCV, scikit-optimize"
   ]
  },
  {
   "cell_type": "markdown",
   "metadata": {},
   "source": [
    "## 5. Ensemble methods"
   ]
  },
  {
   "cell_type": "markdown",
   "metadata": {},
   "source": [
    "### Bagging and Random Forest"
   ]
  },
  {
   "cell_type": "code",
   "execution_count": 65,
   "metadata": {
    "collapsed": true
   },
   "outputs": [],
   "source": [
    "from sklearn.ensemble.forest import RandomForestClassifier\n",
    "model_rf = RandomForestClassifier(n_estimators=15)"
   ]
  },
  {
   "cell_type": "code",
   "execution_count": 66,
   "metadata": {},
   "outputs": [
    {
     "data": {
      "text/plain": [
       "RandomForestClassifier(bootstrap=True, class_weight=None, criterion='gini',\n",
       "            max_depth=None, max_features='auto', max_leaf_nodes=None,\n",
       "            min_impurity_decrease=0.0, min_impurity_split=None,\n",
       "            min_samples_leaf=1, min_samples_split=2,\n",
       "            min_weight_fraction_leaf=0.0, n_estimators=15, n_jobs=1,\n",
       "            oob_score=False, random_state=None, verbose=0,\n",
       "            warm_start=False)"
      ]
     },
     "execution_count": 66,
     "metadata": {},
     "output_type": "execute_result"
    }
   ],
   "source": [
    "model_rf.fit(X_train,y_train)"
   ]
  },
  {
   "cell_type": "code",
   "execution_count": 67,
   "metadata": {},
   "outputs": [
    {
     "data": {
      "text/plain": [
       "0.84701492537313428"
      ]
     },
     "execution_count": 67,
     "metadata": {},
     "output_type": "execute_result"
    }
   ],
   "source": [
    "model_rf.score(X_val, y_val)"
   ]
  },
  {
   "cell_type": "markdown",
   "metadata": {},
   "source": [
    "### General bagging classifier (combine whatever models you want)"
   ]
  },
  {
   "cell_type": "code",
   "execution_count": 68,
   "metadata": {
    "collapsed": true
   },
   "outputs": [],
   "source": [
    "from sklearn.ensemble.bagging import BaggingClassifier\n",
    "model_bagging = BaggingClassifier()"
   ]
  },
  {
   "cell_type": "markdown",
   "metadata": {},
   "source": [
    "### Boosting and GBDT"
   ]
  },
  {
   "cell_type": "code",
   "execution_count": 72,
   "metadata": {
    "collapsed": true
   },
   "outputs": [],
   "source": [
    "from sklearn.ensemble.gradient_boosting import GradientBoostingClassifier\n",
    "model_gbdt = GradientBoostingClassifier(learning_rate=0.1)"
   ]
  },
  {
   "cell_type": "code",
   "execution_count": 73,
   "metadata": {},
   "outputs": [
    {
     "data": {
      "text/plain": [
       "GradientBoostingClassifier(criterion='friedman_mse', init=None,\n",
       "              learning_rate=0.1, loss='deviance', max_depth=3,\n",
       "              max_features=None, max_leaf_nodes=None,\n",
       "              min_impurity_decrease=0.0, min_impurity_split=None,\n",
       "              min_samples_leaf=1, min_samples_split=2,\n",
       "              min_weight_fraction_leaf=0.0, n_estimators=100,\n",
       "              presort='auto', random_state=None, subsample=1.0, verbose=0,\n",
       "              warm_start=False)"
      ]
     },
     "execution_count": 73,
     "metadata": {},
     "output_type": "execute_result"
    }
   ],
   "source": [
    "model_gbdt.fit(X_train, y_train)"
   ]
  },
  {
   "cell_type": "code",
   "execution_count": 74,
   "metadata": {},
   "outputs": [
    {
     "data": {
      "text/plain": [
       "0.85447761194029848"
      ]
     },
     "execution_count": 74,
     "metadata": {},
     "output_type": "execute_result"
    }
   ],
   "source": [
    "model_gbdt.score(X_val, y_val)"
   ]
  },
  {
   "cell_type": "code",
   "execution_count": 75,
   "metadata": {},
   "outputs": [
    {
     "data": {
      "text/plain": [
       "GradientBoostingClassifier(criterion='friedman_mse', init=None,\n",
       "              learning_rate=0.1, loss='deviance', max_depth=3,\n",
       "              max_features=None, max_leaf_nodes=None,\n",
       "              min_impurity_decrease=0.0, min_impurity_split=None,\n",
       "              min_samples_leaf=1, min_samples_split=2,\n",
       "              min_weight_fraction_leaf=0.0, n_estimators=100,\n",
       "              presort='auto', random_state=None, subsample=1.0, verbose=0,\n",
       "              warm_start=False)"
      ]
     },
     "execution_count": 75,
     "metadata": {},
     "output_type": "execute_result"
    }
   ],
   "source": [
    "model_gbdt.fit(X,y)"
   ]
  },
  {
   "cell_type": "code",
   "execution_count": 76,
   "metadata": {
    "collapsed": true
   },
   "outputs": [],
   "source": [
    "prediction = model_gbdt.predict(test)"
   ]
  },
  {
   "cell_type": "code",
   "execution_count": 77,
   "metadata": {
    "collapsed": true
   },
   "outputs": [],
   "source": [
    "prediction = pd.DataFrame(data=prediction, index=test.index, columns=['Survived'])"
   ]
  },
  {
   "cell_type": "code",
   "execution_count": 78,
   "metadata": {},
   "outputs": [
    {
     "data": {
      "text/html": [
       "<div>\n",
       "<style>\n",
       "    .dataframe thead tr:only-child th {\n",
       "        text-align: right;\n",
       "    }\n",
       "\n",
       "    .dataframe thead th {\n",
       "        text-align: left;\n",
       "    }\n",
       "\n",
       "    .dataframe tbody tr th {\n",
       "        vertical-align: top;\n",
       "    }\n",
       "</style>\n",
       "<table border=\"1\" class=\"dataframe\">\n",
       "  <thead>\n",
       "    <tr style=\"text-align: right;\">\n",
       "      <th></th>\n",
       "      <th>Survived</th>\n",
       "    </tr>\n",
       "    <tr>\n",
       "      <th>PassengerId</th>\n",
       "      <th></th>\n",
       "    </tr>\n",
       "  </thead>\n",
       "  <tbody>\n",
       "    <tr>\n",
       "      <th>892</th>\n",
       "      <td>0</td>\n",
       "    </tr>\n",
       "    <tr>\n",
       "      <th>893</th>\n",
       "      <td>0</td>\n",
       "    </tr>\n",
       "    <tr>\n",
       "      <th>894</th>\n",
       "      <td>0</td>\n",
       "    </tr>\n",
       "    <tr>\n",
       "      <th>895</th>\n",
       "      <td>0</td>\n",
       "    </tr>\n",
       "    <tr>\n",
       "      <th>896</th>\n",
       "      <td>1</td>\n",
       "    </tr>\n",
       "  </tbody>\n",
       "</table>\n",
       "</div>"
      ],
      "text/plain": [
       "             Survived\n",
       "PassengerId          \n",
       "892                 0\n",
       "893                 0\n",
       "894                 0\n",
       "895                 0\n",
       "896                 1"
      ]
     },
     "execution_count": 78,
     "metadata": {},
     "output_type": "execute_result"
    }
   ],
   "source": [
    "prediction.head()"
   ]
  },
  {
   "cell_type": "code",
   "execution_count": 243,
   "metadata": {
    "collapsed": true
   },
   "outputs": [],
   "source": [
    "prediction.to_csv(\"data/submission_02.csv\", index=True, index_label=\"PassengerId\")"
   ]
  },
  {
   "cell_type": "code",
   "execution_count": 79,
   "metadata": {
    "collapsed": true
   },
   "outputs": [],
   "source": [
    "gb_grid_params = {'learning_rate': [0.1, 0.05, 0.02, 0.01],\n",
    "              'max_depth': [4, 6, 8, 10],\n",
    "              'min_samples_leaf': [20, 50,100,150],\n",
    "              #'max_features': [1.0, 0.3, 0.1] \n",
    "              }\n",
    "\n",
    "gb_gs = GradientBoostingClassifier(n_estimators = 600)\n",
    "\n",
    "clf = GridSearchCV(model_gbdt, gb_grid_params, cv=2);"
   ]
  },
  {
   "cell_type": "code",
   "execution_count": 80,
   "metadata": {},
   "outputs": [
    {
     "data": {
      "text/plain": [
       "GridSearchCV(cv=2, error_score='raise',\n",
       "       estimator=GradientBoostingClassifier(criterion='friedman_mse', init=None,\n",
       "              learning_rate=0.1, loss='deviance', max_depth=3,\n",
       "              max_features=None, max_leaf_nodes=None,\n",
       "              min_impurity_decrease=0.0, min_impurity_split=None,\n",
       "              min_samples_leaf=1, min_samples_split=2,\n",
       "              min_weight_fraction_leaf=0.0, n_estimators=100,\n",
       "              presort='auto', random_state=None, subsample=1.0, verbose=0,\n",
       "              warm_start=False),\n",
       "       fit_params=None, iid=True, n_jobs=1,\n",
       "       param_grid={'learning_rate': [0.1, 0.05, 0.02, 0.01], 'max_depth': [4, 6, 8, 10], 'min_samples_leaf': [20, 50, 100, 150]},\n",
       "       pre_dispatch='2*n_jobs', refit=True, return_train_score=True,\n",
       "       scoring=None, verbose=0)"
      ]
     },
     "execution_count": 80,
     "metadata": {},
     "output_type": "execute_result"
    }
   ],
   "source": [
    "clf.fit(X,y)"
   ]
  },
  {
   "cell_type": "code",
   "execution_count": 81,
   "metadata": {},
   "outputs": [
    {
     "data": {
      "text/plain": [
       "{'learning_rate': 0.05, 'max_depth': 8, 'min_samples_leaf': 20}"
      ]
     },
     "execution_count": 81,
     "metadata": {},
     "output_type": "execute_result"
    }
   ],
   "source": [
    "clf.best_params_"
   ]
  },
  {
   "cell_type": "code",
   "execution_count": 82,
   "metadata": {
    "collapsed": true
   },
   "outputs": [],
   "source": [
    "prediction_new = clf.predict(test)"
   ]
  },
  {
   "cell_type": "code",
   "execution_count": 83,
   "metadata": {
    "collapsed": true
   },
   "outputs": [],
   "source": [
    "prediction_new = pd.DataFrame(data=prediction_new, index=test.index, columns=['Survived'])"
   ]
  },
  {
   "cell_type": "code",
   "execution_count": 84,
   "metadata": {},
   "outputs": [
    {
     "data": {
      "text/html": [
       "<div>\n",
       "<style>\n",
       "    .dataframe thead tr:only-child th {\n",
       "        text-align: right;\n",
       "    }\n",
       "\n",
       "    .dataframe thead th {\n",
       "        text-align: left;\n",
       "    }\n",
       "\n",
       "    .dataframe tbody tr th {\n",
       "        vertical-align: top;\n",
       "    }\n",
       "</style>\n",
       "<table border=\"1\" class=\"dataframe\">\n",
       "  <thead>\n",
       "    <tr style=\"text-align: right;\">\n",
       "      <th></th>\n",
       "      <th>Pclass</th>\n",
       "      <th>Sex</th>\n",
       "      <th>Age</th>\n",
       "      <th>SibSp</th>\n",
       "      <th>Parch</th>\n",
       "      <th>Fare</th>\n",
       "      <th>Embarked</th>\n",
       "      <th>PersonType</th>\n",
       "      <th>Title</th>\n",
       "    </tr>\n",
       "    <tr>\n",
       "      <th>PassengerId</th>\n",
       "      <th></th>\n",
       "      <th></th>\n",
       "      <th></th>\n",
       "      <th></th>\n",
       "      <th></th>\n",
       "      <th></th>\n",
       "      <th></th>\n",
       "      <th></th>\n",
       "      <th></th>\n",
       "    </tr>\n",
       "  </thead>\n",
       "  <tbody>\n",
       "    <tr>\n",
       "      <th>913</th>\n",
       "      <td>-0.820037</td>\n",
       "      <td>-0.737695</td>\n",
       "      <td>-1.592887</td>\n",
       "      <td>-0.474545</td>\n",
       "      <td>0.767630</td>\n",
       "      <td>-0.584579</td>\n",
       "      <td>1.000883</td>\n",
       "      <td>2.285565</td>\n",
       "      <td>1.913580</td>\n",
       "    </tr>\n",
       "    <tr>\n",
       "      <th>928</th>\n",
       "      <td>-0.820037</td>\n",
       "      <td>1.355574</td>\n",
       "      <td>0.000000</td>\n",
       "      <td>-0.474545</td>\n",
       "      <td>-0.473674</td>\n",
       "      <td>-0.486337</td>\n",
       "      <td>1.000883</td>\n",
       "      <td>0.771484</td>\n",
       "      <td>1.038323</td>\n",
       "    </tr>\n",
       "    <tr>\n",
       "      <th>929</th>\n",
       "      <td>-0.820037</td>\n",
       "      <td>1.355574</td>\n",
       "      <td>-0.669435</td>\n",
       "      <td>-0.474545</td>\n",
       "      <td>-0.473674</td>\n",
       "      <td>-0.474005</td>\n",
       "      <td>1.000883</td>\n",
       "      <td>0.771484</td>\n",
       "      <td>1.038323</td>\n",
       "    </tr>\n",
       "    <tr>\n",
       "      <th>996</th>\n",
       "      <td>-0.820037</td>\n",
       "      <td>1.355574</td>\n",
       "      <td>-1.054207</td>\n",
       "      <td>0.432793</td>\n",
       "      <td>0.767630</td>\n",
       "      <td>-0.476941</td>\n",
       "      <td>2.573699</td>\n",
       "      <td>0.771484</td>\n",
       "      <td>0.163067</td>\n",
       "    </tr>\n",
       "    <tr>\n",
       "      <th>1003</th>\n",
       "      <td>-0.820037</td>\n",
       "      <td>1.355574</td>\n",
       "      <td>0.000000</td>\n",
       "      <td>-0.474545</td>\n",
       "      <td>-0.473674</td>\n",
       "      <td>-0.491790</td>\n",
       "      <td>-0.571933</td>\n",
       "      <td>0.771484</td>\n",
       "      <td>1.038323</td>\n",
       "    </tr>\n",
       "    <tr>\n",
       "      <th>1045</th>\n",
       "      <td>-0.820037</td>\n",
       "      <td>1.355574</td>\n",
       "      <td>0.484880</td>\n",
       "      <td>-0.474545</td>\n",
       "      <td>2.008933</td>\n",
       "      <td>-0.403115</td>\n",
       "      <td>1.000883</td>\n",
       "      <td>0.771484</td>\n",
       "      <td>0.163067</td>\n",
       "    </tr>\n",
       "    <tr>\n",
       "      <th>1052</th>\n",
       "      <td>-0.820037</td>\n",
       "      <td>1.355574</td>\n",
       "      <td>0.000000</td>\n",
       "      <td>-0.474545</td>\n",
       "      <td>-0.473674</td>\n",
       "      <td>-0.492714</td>\n",
       "      <td>-0.571933</td>\n",
       "      <td>0.771484</td>\n",
       "      <td>1.038323</td>\n",
       "    </tr>\n",
       "    <tr>\n",
       "      <th>1061</th>\n",
       "      <td>-0.820037</td>\n",
       "      <td>1.355574</td>\n",
       "      <td>-0.592481</td>\n",
       "      <td>-0.474545</td>\n",
       "      <td>-0.473674</td>\n",
       "      <td>-0.467965</td>\n",
       "      <td>1.000883</td>\n",
       "      <td>0.771484</td>\n",
       "      <td>1.038323</td>\n",
       "    </tr>\n",
       "    <tr>\n",
       "      <th>1084</th>\n",
       "      <td>-0.820037</td>\n",
       "      <td>-0.737695</td>\n",
       "      <td>-1.400501</td>\n",
       "      <td>0.432793</td>\n",
       "      <td>0.767630</td>\n",
       "      <td>-0.356469</td>\n",
       "      <td>1.000883</td>\n",
       "      <td>2.285565</td>\n",
       "      <td>1.913580</td>\n",
       "    </tr>\n",
       "    <tr>\n",
       "      <th>1108</th>\n",
       "      <td>-0.820037</td>\n",
       "      <td>1.355574</td>\n",
       "      <td>0.000000</td>\n",
       "      <td>-0.474545</td>\n",
       "      <td>-0.473674</td>\n",
       "      <td>-0.489776</td>\n",
       "      <td>-0.571933</td>\n",
       "      <td>0.771484</td>\n",
       "      <td>1.038323</td>\n",
       "    </tr>\n",
       "    <tr>\n",
       "      <th>1119</th>\n",
       "      <td>-0.820037</td>\n",
       "      <td>1.355574</td>\n",
       "      <td>0.000000</td>\n",
       "      <td>-0.474545</td>\n",
       "      <td>-0.473674</td>\n",
       "      <td>-0.492378</td>\n",
       "      <td>-0.571933</td>\n",
       "      <td>0.771484</td>\n",
       "      <td>1.038323</td>\n",
       "    </tr>\n",
       "    <tr>\n",
       "      <th>1141</th>\n",
       "      <td>-0.820037</td>\n",
       "      <td>1.355574</td>\n",
       "      <td>0.000000</td>\n",
       "      <td>0.432793</td>\n",
       "      <td>-0.473674</td>\n",
       "      <td>-0.357391</td>\n",
       "      <td>2.573699</td>\n",
       "      <td>0.771484</td>\n",
       "      <td>0.163067</td>\n",
       "    </tr>\n",
       "    <tr>\n",
       "      <th>1160</th>\n",
       "      <td>-0.820037</td>\n",
       "      <td>1.355574</td>\n",
       "      <td>0.000000</td>\n",
       "      <td>-0.474545</td>\n",
       "      <td>-0.473674</td>\n",
       "      <td>-0.486337</td>\n",
       "      <td>1.000883</td>\n",
       "      <td>0.771484</td>\n",
       "      <td>1.038323</td>\n",
       "    </tr>\n",
       "    <tr>\n",
       "      <th>1172</th>\n",
       "      <td>-0.820037</td>\n",
       "      <td>1.355574</td>\n",
       "      <td>-0.515526</td>\n",
       "      <td>-0.474545</td>\n",
       "      <td>-0.473674</td>\n",
       "      <td>-0.474005</td>\n",
       "      <td>1.000883</td>\n",
       "      <td>0.771484</td>\n",
       "      <td>1.038323</td>\n",
       "    </tr>\n",
       "    <tr>\n",
       "      <th>1174</th>\n",
       "      <td>-0.820037</td>\n",
       "      <td>1.355574</td>\n",
       "      <td>0.000000</td>\n",
       "      <td>-0.474545</td>\n",
       "      <td>-0.473674</td>\n",
       "      <td>-0.492378</td>\n",
       "      <td>-0.571933</td>\n",
       "      <td>0.771484</td>\n",
       "      <td>1.038323</td>\n",
       "    </tr>\n",
       "    <tr>\n",
       "      <th>1196</th>\n",
       "      <td>-0.820037</td>\n",
       "      <td>1.355574</td>\n",
       "      <td>0.000000</td>\n",
       "      <td>-0.474545</td>\n",
       "      <td>-0.473674</td>\n",
       "      <td>-0.492378</td>\n",
       "      <td>-0.571933</td>\n",
       "      <td>0.771484</td>\n",
       "      <td>1.038323</td>\n",
       "    </tr>\n",
       "    <tr>\n",
       "      <th>1230</th>\n",
       "      <td>0.431081</td>\n",
       "      <td>-0.737695</td>\n",
       "      <td>-0.361618</td>\n",
       "      <td>-0.474545</td>\n",
       "      <td>-0.473674</td>\n",
       "      <td>-0.014179</td>\n",
       "      <td>1.000883</td>\n",
       "      <td>-0.742596</td>\n",
       "      <td>-0.712190</td>\n",
       "    </tr>\n",
       "    <tr>\n",
       "      <th>1234</th>\n",
       "      <td>-0.820037</td>\n",
       "      <td>-0.737695</td>\n",
       "      <td>0.000000</td>\n",
       "      <td>0.432793</td>\n",
       "      <td>10.698058</td>\n",
       "      <td>0.751946</td>\n",
       "      <td>1.000883</td>\n",
       "      <td>-0.742596</td>\n",
       "      <td>-0.712190</td>\n",
       "    </tr>\n",
       "    <tr>\n",
       "      <th>1236</th>\n",
       "      <td>-0.820037</td>\n",
       "      <td>-0.737695</td>\n",
       "      <td>0.000000</td>\n",
       "      <td>0.432793</td>\n",
       "      <td>0.767630</td>\n",
       "      <td>-0.356469</td>\n",
       "      <td>1.000883</td>\n",
       "      <td>-0.742596</td>\n",
       "      <td>1.913580</td>\n",
       "    </tr>\n",
       "    <tr>\n",
       "      <th>1245</th>\n",
       "      <td>0.431081</td>\n",
       "      <td>-0.737695</td>\n",
       "      <td>1.485287</td>\n",
       "      <td>0.432793</td>\n",
       "      <td>2.008933</td>\n",
       "      <td>0.660333</td>\n",
       "      <td>1.000883</td>\n",
       "      <td>-0.742596</td>\n",
       "      <td>-0.712190</td>\n",
       "    </tr>\n",
       "    <tr>\n",
       "      <th>1257</th>\n",
       "      <td>-0.820037</td>\n",
       "      <td>1.355574</td>\n",
       "      <td>0.000000</td>\n",
       "      <td>0.432793</td>\n",
       "      <td>10.698058</td>\n",
       "      <td>0.751946</td>\n",
       "      <td>1.000883</td>\n",
       "      <td>0.771484</td>\n",
       "      <td>0.163067</td>\n",
       "    </tr>\n",
       "    <tr>\n",
       "      <th>1271</th>\n",
       "      <td>-0.820037</td>\n",
       "      <td>-0.737695</td>\n",
       "      <td>-1.900705</td>\n",
       "      <td>3.154809</td>\n",
       "      <td>2.008933</td>\n",
       "      <td>-0.016444</td>\n",
       "      <td>1.000883</td>\n",
       "      <td>2.285565</td>\n",
       "      <td>1.913580</td>\n",
       "    </tr>\n",
       "    <tr>\n",
       "      <th>1274</th>\n",
       "      <td>-0.820037</td>\n",
       "      <td>1.355574</td>\n",
       "      <td>0.000000</td>\n",
       "      <td>-0.474545</td>\n",
       "      <td>-0.473674</td>\n",
       "      <td>-0.356469</td>\n",
       "      <td>1.000883</td>\n",
       "      <td>0.771484</td>\n",
       "      <td>0.163067</td>\n",
       "    </tr>\n",
       "    <tr>\n",
       "      <th>1281</th>\n",
       "      <td>-0.820037</td>\n",
       "      <td>-0.737695</td>\n",
       "      <td>-1.823750</td>\n",
       "      <td>2.247470</td>\n",
       "      <td>0.767630</td>\n",
       "      <td>-0.224083</td>\n",
       "      <td>1.000883</td>\n",
       "      <td>2.285565</td>\n",
       "      <td>1.913580</td>\n",
       "    </tr>\n",
       "    <tr>\n",
       "      <th>1302</th>\n",
       "      <td>-0.820037</td>\n",
       "      <td>1.355574</td>\n",
       "      <td>0.000000</td>\n",
       "      <td>-0.474545</td>\n",
       "      <td>-0.473674</td>\n",
       "      <td>-0.492378</td>\n",
       "      <td>-0.571933</td>\n",
       "      <td>0.771484</td>\n",
       "      <td>1.038323</td>\n",
       "    </tr>\n",
       "  </tbody>\n",
       "</table>\n",
       "</div>"
      ],
      "text/plain": [
       "               Pclass       Sex       Age     SibSp      Parch      Fare  \\\n",
       "PassengerId                                                                \n",
       "913         -0.820037 -0.737695 -1.592887 -0.474545   0.767630 -0.584579   \n",
       "928         -0.820037  1.355574  0.000000 -0.474545  -0.473674 -0.486337   \n",
       "929         -0.820037  1.355574 -0.669435 -0.474545  -0.473674 -0.474005   \n",
       "996         -0.820037  1.355574 -1.054207  0.432793   0.767630 -0.476941   \n",
       "1003        -0.820037  1.355574  0.000000 -0.474545  -0.473674 -0.491790   \n",
       "1045        -0.820037  1.355574  0.484880 -0.474545   2.008933 -0.403115   \n",
       "1052        -0.820037  1.355574  0.000000 -0.474545  -0.473674 -0.492714   \n",
       "1061        -0.820037  1.355574 -0.592481 -0.474545  -0.473674 -0.467965   \n",
       "1084        -0.820037 -0.737695 -1.400501  0.432793   0.767630 -0.356469   \n",
       "1108        -0.820037  1.355574  0.000000 -0.474545  -0.473674 -0.489776   \n",
       "1119        -0.820037  1.355574  0.000000 -0.474545  -0.473674 -0.492378   \n",
       "1141        -0.820037  1.355574  0.000000  0.432793  -0.473674 -0.357391   \n",
       "1160        -0.820037  1.355574  0.000000 -0.474545  -0.473674 -0.486337   \n",
       "1172        -0.820037  1.355574 -0.515526 -0.474545  -0.473674 -0.474005   \n",
       "1174        -0.820037  1.355574  0.000000 -0.474545  -0.473674 -0.492378   \n",
       "1196        -0.820037  1.355574  0.000000 -0.474545  -0.473674 -0.492378   \n",
       "1230         0.431081 -0.737695 -0.361618 -0.474545  -0.473674 -0.014179   \n",
       "1234        -0.820037 -0.737695  0.000000  0.432793  10.698058  0.751946   \n",
       "1236        -0.820037 -0.737695  0.000000  0.432793   0.767630 -0.356469   \n",
       "1245         0.431081 -0.737695  1.485287  0.432793   2.008933  0.660333   \n",
       "1257        -0.820037  1.355574  0.000000  0.432793  10.698058  0.751946   \n",
       "1271        -0.820037 -0.737695 -1.900705  3.154809   2.008933 -0.016444   \n",
       "1274        -0.820037  1.355574  0.000000 -0.474545  -0.473674 -0.356469   \n",
       "1281        -0.820037 -0.737695 -1.823750  2.247470   0.767630 -0.224083   \n",
       "1302        -0.820037  1.355574  0.000000 -0.474545  -0.473674 -0.492378   \n",
       "\n",
       "             Embarked  PersonType     Title  \n",
       "PassengerId                                  \n",
       "913          1.000883    2.285565  1.913580  \n",
       "928          1.000883    0.771484  1.038323  \n",
       "929          1.000883    0.771484  1.038323  \n",
       "996          2.573699    0.771484  0.163067  \n",
       "1003        -0.571933    0.771484  1.038323  \n",
       "1045         1.000883    0.771484  0.163067  \n",
       "1052        -0.571933    0.771484  1.038323  \n",
       "1061         1.000883    0.771484  1.038323  \n",
       "1084         1.000883    2.285565  1.913580  \n",
       "1108        -0.571933    0.771484  1.038323  \n",
       "1119        -0.571933    0.771484  1.038323  \n",
       "1141         2.573699    0.771484  0.163067  \n",
       "1160         1.000883    0.771484  1.038323  \n",
       "1172         1.000883    0.771484  1.038323  \n",
       "1174        -0.571933    0.771484  1.038323  \n",
       "1196        -0.571933    0.771484  1.038323  \n",
       "1230         1.000883   -0.742596 -0.712190  \n",
       "1234         1.000883   -0.742596 -0.712190  \n",
       "1236         1.000883   -0.742596  1.913580  \n",
       "1245         1.000883   -0.742596 -0.712190  \n",
       "1257         1.000883    0.771484  0.163067  \n",
       "1271         1.000883    2.285565  1.913580  \n",
       "1274         1.000883    0.771484  0.163067  \n",
       "1281         1.000883    2.285565  1.913580  \n",
       "1302        -0.571933    0.771484  1.038323  "
      ]
     },
     "execution_count": 84,
     "metadata": {},
     "output_type": "execute_result"
    }
   ],
   "source": [
    "test[prediction_new['Survived'] != prediction['Survived']]"
   ]
  },
  {
   "cell_type": "code",
   "execution_count": 85,
   "metadata": {
    "collapsed": true
   },
   "outputs": [],
   "source": [
    "prediction_new.to_csv(\"data/submission_03.csv\", index=True, index_label=\"PassengerId\")"
   ]
  }
 ],
 "metadata": {
  "kernelspec": {
   "display_name": "Python 3",
   "language": "python",
   "name": "python3"
  },
  "language_info": {
   "codemirror_mode": {
    "name": "ipython",
    "version": 3
   },
   "file_extension": ".py",
   "mimetype": "text/x-python",
   "name": "python",
   "nbconvert_exporter": "python",
   "pygments_lexer": "ipython3",
   "version": "3.6.2"
  }
 },
 "nbformat": 4,
 "nbformat_minor": 2
}
