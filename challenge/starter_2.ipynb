{
 "cells": [
  {
   "cell_type": "code",
   "execution_count": 1,
   "metadata": {
    "collapsed": true
   },
   "outputs": [],
   "source": [
    "import pandas as pd\n",
    "import matplotlib.pyplot as plt\n",
    "import seaborn as sns\n",
    "import numpy as np\n",
    "%matplotlib inline"
   ]
  },
  {
   "cell_type": "code",
   "execution_count": 2,
   "metadata": {
    "collapsed": true
   },
   "outputs": [],
   "source": [
    "train = pd.read_csv('data/train_2.csv')\n",
    "test = pd.read_csv('data/test_2.csv')\n",
    "\n",
    "# Save the 'Id' column (important for submission)\n",
    "train_ID = train['Id']\n",
    "test_ID = test['Id']\n",
    "\n",
    "# Id is not needed for prediction\n",
    "train.drop(\"Id\", axis = 1, inplace = True)\n",
    "test.drop(\"Id\", axis = 1, inplace = True)"
   ]
  },
  {
   "cell_type": "markdown",
   "metadata": {},
   "source": [
    "# 0. Warm up"
   ]
  },
  {
   "cell_type": "code",
   "execution_count": 3,
   "metadata": {},
   "outputs": [
    {
     "data": {
      "text/html": [
       "<div>\n",
       "<style>\n",
       "    .dataframe thead tr:only-child th {\n",
       "        text-align: right;\n",
       "    }\n",
       "\n",
       "    .dataframe thead th {\n",
       "        text-align: left;\n",
       "    }\n",
       "\n",
       "    .dataframe tbody tr th {\n",
       "        vertical-align: top;\n",
       "    }\n",
       "</style>\n",
       "<table border=\"1\" class=\"dataframe\">\n",
       "  <thead>\n",
       "    <tr style=\"text-align: right;\">\n",
       "      <th></th>\n",
       "      <th>Unnamed: 0</th>\n",
       "      <th>1stFlrSF</th>\n",
       "      <th>2ndFlrSF</th>\n",
       "      <th>3SsnPorch</th>\n",
       "      <th>Alley</th>\n",
       "      <th>BedroomAbvGr</th>\n",
       "      <th>BldgType</th>\n",
       "      <th>BsmtCond</th>\n",
       "      <th>BsmtExposure</th>\n",
       "      <th>BsmtFinSF1</th>\n",
       "      <th>...</th>\n",
       "      <th>SalePrice</th>\n",
       "      <th>SaleType</th>\n",
       "      <th>ScreenPorch</th>\n",
       "      <th>Street</th>\n",
       "      <th>TotRmsAbvGrd</th>\n",
       "      <th>TotalBsmtSF</th>\n",
       "      <th>WoodDeckSF</th>\n",
       "      <th>YearBuilt</th>\n",
       "      <th>YearRemodAdd</th>\n",
       "      <th>YrSold</th>\n",
       "    </tr>\n",
       "  </thead>\n",
       "  <tbody>\n",
       "    <tr>\n",
       "      <th>0</th>\n",
       "      <td>0</td>\n",
       "      <td>856</td>\n",
       "      <td>854</td>\n",
       "      <td>0</td>\n",
       "      <td>None</td>\n",
       "      <td>3</td>\n",
       "      <td>1Fam</td>\n",
       "      <td>TA</td>\n",
       "      <td>No</td>\n",
       "      <td>706.0</td>\n",
       "      <td>...</td>\n",
       "      <td>208500.0</td>\n",
       "      <td>WD</td>\n",
       "      <td>0</td>\n",
       "      <td>Pave</td>\n",
       "      <td>8</td>\n",
       "      <td>856.0</td>\n",
       "      <td>0</td>\n",
       "      <td>2003</td>\n",
       "      <td>2003</td>\n",
       "      <td>2008</td>\n",
       "    </tr>\n",
       "    <tr>\n",
       "      <th>1</th>\n",
       "      <td>1</td>\n",
       "      <td>1262</td>\n",
       "      <td>0</td>\n",
       "      <td>0</td>\n",
       "      <td>None</td>\n",
       "      <td>3</td>\n",
       "      <td>1Fam</td>\n",
       "      <td>TA</td>\n",
       "      <td>Gd</td>\n",
       "      <td>978.0</td>\n",
       "      <td>...</td>\n",
       "      <td>181500.0</td>\n",
       "      <td>WD</td>\n",
       "      <td>0</td>\n",
       "      <td>Pave</td>\n",
       "      <td>6</td>\n",
       "      <td>1262.0</td>\n",
       "      <td>298</td>\n",
       "      <td>1976</td>\n",
       "      <td>1976</td>\n",
       "      <td>2007</td>\n",
       "    </tr>\n",
       "    <tr>\n",
       "      <th>2</th>\n",
       "      <td>2</td>\n",
       "      <td>920</td>\n",
       "      <td>866</td>\n",
       "      <td>0</td>\n",
       "      <td>None</td>\n",
       "      <td>3</td>\n",
       "      <td>1Fam</td>\n",
       "      <td>TA</td>\n",
       "      <td>Mn</td>\n",
       "      <td>486.0</td>\n",
       "      <td>...</td>\n",
       "      <td>223500.0</td>\n",
       "      <td>WD</td>\n",
       "      <td>0</td>\n",
       "      <td>Pave</td>\n",
       "      <td>6</td>\n",
       "      <td>920.0</td>\n",
       "      <td>0</td>\n",
       "      <td>2001</td>\n",
       "      <td>2002</td>\n",
       "      <td>2008</td>\n",
       "    </tr>\n",
       "    <tr>\n",
       "      <th>3</th>\n",
       "      <td>3</td>\n",
       "      <td>961</td>\n",
       "      <td>756</td>\n",
       "      <td>0</td>\n",
       "      <td>None</td>\n",
       "      <td>3</td>\n",
       "      <td>1Fam</td>\n",
       "      <td>Gd</td>\n",
       "      <td>No</td>\n",
       "      <td>216.0</td>\n",
       "      <td>...</td>\n",
       "      <td>140000.0</td>\n",
       "      <td>WD</td>\n",
       "      <td>0</td>\n",
       "      <td>Pave</td>\n",
       "      <td>7</td>\n",
       "      <td>756.0</td>\n",
       "      <td>0</td>\n",
       "      <td>1915</td>\n",
       "      <td>1970</td>\n",
       "      <td>2006</td>\n",
       "    </tr>\n",
       "    <tr>\n",
       "      <th>4</th>\n",
       "      <td>4</td>\n",
       "      <td>1145</td>\n",
       "      <td>1053</td>\n",
       "      <td>0</td>\n",
       "      <td>None</td>\n",
       "      <td>4</td>\n",
       "      <td>1Fam</td>\n",
       "      <td>TA</td>\n",
       "      <td>Av</td>\n",
       "      <td>655.0</td>\n",
       "      <td>...</td>\n",
       "      <td>250000.0</td>\n",
       "      <td>WD</td>\n",
       "      <td>0</td>\n",
       "      <td>Pave</td>\n",
       "      <td>9</td>\n",
       "      <td>1145.0</td>\n",
       "      <td>192</td>\n",
       "      <td>2000</td>\n",
       "      <td>2000</td>\n",
       "      <td>2008</td>\n",
       "    </tr>\n",
       "  </tbody>\n",
       "</table>\n",
       "<p>5 rows × 80 columns</p>\n",
       "</div>"
      ],
      "text/plain": [
       "   Unnamed: 0  1stFlrSF  2ndFlrSF  3SsnPorch Alley  BedroomAbvGr BldgType  \\\n",
       "0           0       856       854          0  None             3     1Fam   \n",
       "1           1      1262         0          0  None             3     1Fam   \n",
       "2           2       920       866          0  None             3     1Fam   \n",
       "3           3       961       756          0  None             3     1Fam   \n",
       "4           4      1145      1053          0  None             4     1Fam   \n",
       "\n",
       "  BsmtCond BsmtExposure  BsmtFinSF1  ...    SalePrice SaleType ScreenPorch  \\\n",
       "0       TA           No       706.0  ...     208500.0       WD           0   \n",
       "1       TA           Gd       978.0  ...     181500.0       WD           0   \n",
       "2       TA           Mn       486.0  ...     223500.0       WD           0   \n",
       "3       Gd           No       216.0  ...     140000.0       WD           0   \n",
       "4       TA           Av       655.0  ...     250000.0       WD           0   \n",
       "\n",
       "   Street  TotRmsAbvGrd TotalBsmtSF  WoodDeckSF YearBuilt YearRemodAdd YrSold  \n",
       "0    Pave             8       856.0           0      2003         2003   2008  \n",
       "1    Pave             6      1262.0         298      1976         1976   2007  \n",
       "2    Pave             6       920.0           0      2001         2002   2008  \n",
       "3    Pave             7       756.0           0      1915         1970   2006  \n",
       "4    Pave             9      1145.0         192      2000         2000   2008  \n",
       "\n",
       "[5 rows x 80 columns]"
      ]
     },
     "execution_count": 3,
     "metadata": {},
     "output_type": "execute_result"
    }
   ],
   "source": [
    "train.head()"
   ]
  },
  {
   "cell_type": "code",
   "execution_count": 4,
   "metadata": {},
   "outputs": [
    {
     "name": "stdout",
     "output_type": "stream",
     "text": [
      "<class 'pandas.core.frame.DataFrame'>\n",
      "RangeIndex: 1458 entries, 0 to 1457\n",
      "Data columns (total 80 columns):\n",
      "Unnamed: 0       1458 non-null int64\n",
      "1stFlrSF         1458 non-null int64\n",
      "2ndFlrSF         1458 non-null int64\n",
      "3SsnPorch        1458 non-null int64\n",
      "Alley            1458 non-null object\n",
      "BedroomAbvGr     1458 non-null int64\n",
      "BldgType         1458 non-null object\n",
      "BsmtCond         1458 non-null object\n",
      "BsmtExposure     1458 non-null object\n",
      "BsmtFinSF1       1458 non-null float64\n",
      "BsmtFinSF2       1458 non-null float64\n",
      "BsmtFinType1     1458 non-null object\n",
      "BsmtFinType2     1458 non-null object\n",
      "BsmtFullBath     1458 non-null float64\n",
      "BsmtHalfBath     1458 non-null float64\n",
      "BsmtQual         1458 non-null object\n",
      "BsmtUnfSF        1458 non-null float64\n",
      "CentralAir       1458 non-null object\n",
      "Condition1       1458 non-null object\n",
      "Condition2       1458 non-null object\n",
      "Electrical       1458 non-null object\n",
      "EnclosedPorch    1458 non-null int64\n",
      "ExterCond        1458 non-null object\n",
      "ExterQual        1458 non-null object\n",
      "Exterior1st      1458 non-null object\n",
      "Exterior2nd      1458 non-null object\n",
      "Fence            1458 non-null object\n",
      "FireplaceQu      1458 non-null object\n",
      "Fireplaces       1458 non-null int64\n",
      "Foundation       1458 non-null object\n",
      "FullBath         1458 non-null int64\n",
      "Functional       1458 non-null object\n",
      "GarageArea       1458 non-null float64\n",
      "GarageCars       1458 non-null float64\n",
      "GarageCond       1458 non-null object\n",
      "GarageFinish     1458 non-null object\n",
      "GarageQual       1458 non-null object\n",
      "GarageType       1458 non-null object\n",
      "GarageYrBlt      1458 non-null float64\n",
      "GrLivArea        1458 non-null int64\n",
      "HalfBath         1458 non-null int64\n",
      "Heating          1458 non-null object\n",
      "HeatingQC        1458 non-null object\n",
      "HouseStyle       1458 non-null object\n",
      "KitchenAbvGr     1458 non-null int64\n",
      "KitchenQual      1458 non-null object\n",
      "LandContour      1458 non-null object\n",
      "LandSlope        1458 non-null object\n",
      "LotArea          1458 non-null int64\n",
      "LotConfig        1458 non-null object\n",
      "LotFrontage      1458 non-null float64\n",
      "LotShape         1458 non-null object\n",
      "LowQualFinSF     1458 non-null int64\n",
      "MSSubClass       1458 non-null int64\n",
      "MSZoning         1458 non-null object\n",
      "MasVnrArea       1458 non-null float64\n",
      "MasVnrType       1458 non-null object\n",
      "MiscFeature      1458 non-null object\n",
      "MiscVal          1458 non-null int64\n",
      "MoSold           1458 non-null int64\n",
      "Neighborhood     1458 non-null object\n",
      "OpenPorchSF      1458 non-null int64\n",
      "OverallCond      1458 non-null int64\n",
      "OverallQual      1458 non-null int64\n",
      "PavedDrive       1458 non-null object\n",
      "PoolArea         1458 non-null int64\n",
      "PoolQC           1458 non-null object\n",
      "RoofMatl         1458 non-null object\n",
      "RoofStyle        1458 non-null object\n",
      "SaleCondition    1458 non-null object\n",
      "SalePrice        1458 non-null float64\n",
      "SaleType         1458 non-null object\n",
      "ScreenPorch      1458 non-null int64\n",
      "Street           1458 non-null object\n",
      "TotRmsAbvGrd     1458 non-null int64\n",
      "TotalBsmtSF      1458 non-null float64\n",
      "WoodDeckSF       1458 non-null int64\n",
      "YearBuilt        1458 non-null int64\n",
      "YearRemodAdd     1458 non-null int64\n",
      "YrSold           1458 non-null int64\n",
      "dtypes: float64(12), int64(26), object(42)\n",
      "memory usage: 911.3+ KB\n"
     ]
    }
   ],
   "source": [
    "train.info()"
   ]
  },
  {
   "cell_type": "markdown",
   "metadata": {},
   "source": [
    "## 1. EDA (Exploratory Data Anaylsis)"
   ]
  },
  {
   "cell_type": "markdown",
   "metadata": {},
   "source": [
    "# Feature Engineering"
   ]
  },
  {
   "cell_type": "markdown",
   "metadata": {},
   "source": [
    "**IMPORTANT** note: When you transform (change/delete/add columns) your train data you need to apply the same transformations to your test data. This is because your model will learn to make predictions with the transformed train data. It doesn't know how to handle untransformed data."
   ]
  },
  {
   "cell_type": "code",
   "execution_count": 6,
   "metadata": {
    "collapsed": true
   },
   "outputs": [],
   "source": [
    "ntrain = train.shape[0]\n",
    "ntest = test.shape[0]\n",
    "y_train = train.SalePrice.values\n",
    "all_data = pd.concat((train, test)).reset_index(drop=True)\n",
    "all_data.drop(['SalePrice'], axis=1, inplace=True)"
   ]
  },
  {
   "cell_type": "markdown",
   "metadata": {},
   "source": [
    "## Encoding of categorical variables"
   ]
  },
  {
   "cell_type": "markdown",
   "metadata": {},
   "source": [
    "**Label encoding**: Each catgeory is assigned to one number (order adds information)  \n",
    "**One-hot enconding**: Each cageory ais represented as one separat feature (no specific order; blows up the feature space)"
   ]
  },
  {
   "cell_type": "code",
   "execution_count": null,
   "metadata": {
    "collapsed": true
   },
   "outputs": [],
   "source": [
    "all_data.shape"
   ]
  },
  {
   "cell_type": "code",
   "execution_count": null,
   "metadata": {
    "collapsed": true
   },
   "outputs": [],
   "source": [
    "# Which colums should be label encoded?\n",
    "from sklearn.preprocessing import LabelEncoder\n",
    "#cols = ('..', '...', )\n",
    "#for c in cols:\n",
    "#    all_data[c] = LabelEncoder().fit_transform(all_data.loc[:,c])"
   ]
  },
  {
   "cell_type": "code",
   "execution_count": 7,
   "metadata": {},
   "outputs": [
    {
     "data": {
      "text/plain": [
       "(2917, 79)"
      ]
     },
     "execution_count": 7,
     "metadata": {},
     "output_type": "execute_result"
    }
   ],
   "source": [
    "all_data.shape"
   ]
  },
  {
   "cell_type": "code",
   "execution_count": null,
   "metadata": {
    "collapsed": true
   },
   "outputs": [],
   "source": [
    "# All other columns will be one hot encoded\n",
    "all_data = pd.get_dummies(all_data) # also doable with sklearn.preprocessing.OneHotEncoder but more complicated"
   ]
  },
  {
   "cell_type": "code",
   "execution_count": null,
   "metadata": {
    "collapsed": true
   },
   "outputs": [],
   "source": [
    "all_data.shape # Feature space became quite big"
   ]
  },
  {
   "cell_type": "markdown",
   "metadata": {},
   "source": [
    "### You can add new features (xxample)"
   ]
  },
  {
   "cell_type": "code",
   "execution_count": null,
   "metadata": {
    "collapsed": true
   },
   "outputs": [],
   "source": [
    "# Adding total sqfootage feature\n",
    "#all_data['TotalSF'] = all_data['TotalBsmtSF'] + all_data['1stFlrSF'] + all_data['2ndFlrSF']"
   ]
  },
  {
   "cell_type": "markdown",
   "metadata": {},
   "source": [
    "# Model building"
   ]
  },
  {
   "cell_type": "code",
   "execution_count": null,
   "metadata": {
    "collapsed": true
   },
   "outputs": [],
   "source": [
    "train = all_data[:ntrain]\n",
    "test = all_data[ntrain:]"
   ]
  },
  {
   "cell_type": "code",
   "execution_count": null,
   "metadata": {
    "collapsed": true
   },
   "outputs": [],
   "source": [
    "train.shape"
   ]
  },
  {
   "cell_type": "markdown",
   "metadata": {},
   "source": [
    "## Cross validation"
   ]
  },
  {
   "cell_type": "code",
   "execution_count": null,
   "metadata": {
    "collapsed": true
   },
   "outputs": [],
   "source": [
    "from sklearn.ensemble import RandomForestRegressor\n",
    "from sklearn.model_selection import KFold, cross_val_score\n",
    "import math"
   ]
  },
  {
   "cell_type": "code",
   "execution_count": null,
   "metadata": {
    "collapsed": true
   },
   "outputs": [],
   "source": [
    "y_train_log = np.log1p(y_train)\n",
    "\n",
    "def rmse_cv(model):\n",
    "    return (np.sqrt(-cross_val_score(model, train.values, y_train_log, scoring=\"neg_mean_squared_error\", cv = 5)))"
   ]
  },
  {
   "cell_type": "code",
   "execution_count": null,
   "metadata": {
    "collapsed": true
   },
   "outputs": [],
   "source": [
    "model_rf = RandomForestRegressor()"
   ]
  },
  {
   "cell_type": "code",
   "execution_count": null,
   "metadata": {
    "collapsed": true
   },
   "outputs": [],
   "source": [
    "score = rmse_cv(model_rf)\n",
    "print(\"Random Forest score: {:.4f}\".format(score.mean()))"
   ]
  },
  {
   "cell_type": "code",
   "execution_count": null,
   "metadata": {
    "collapsed": true
   },
   "outputs": [],
   "source": [
    "model_rf.fit(train,y_train_log)"
   ]
  },
  {
   "cell_type": "code",
   "execution_count": null,
   "metadata": {
    "collapsed": true
   },
   "outputs": [],
   "source": [
    "f_i = model_rf.feature_importances_"
   ]
  },
  {
   "cell_type": "code",
   "execution_count": null,
   "metadata": {
    "collapsed": true
   },
   "outputs": [],
   "source": [
    "feature_importance = pd.DataFrame(data=f_i, index=train.columns)\n",
    "feature_importance_top_15 = feature_importance.sort_values(by=0).nlargest(15,0)"
   ]
  },
  {
   "cell_type": "code",
   "execution_count": null,
   "metadata": {
    "collapsed": true
   },
   "outputs": [],
   "source": [
    "sns.barplot(y=feature_importance_top_15.index,x=feature_importance_top_15.loc[:, 0])"
   ]
  },
  {
   "cell_type": "markdown",
   "metadata": {},
   "source": [
    "## Hyperparameter optimization"
   ]
  },
  {
   "cell_type": "code",
   "execution_count": null,
   "metadata": {
    "collapsed": true
   },
   "outputs": [],
   "source": [
    "from sklearn.model_selection import GridSearchCV"
   ]
  },
  {
   "cell_type": "markdown",
   "metadata": {},
   "source": [
    "# 4. Make a Submission"
   ]
  },
  {
   "cell_type": "code",
   "execution_count": null,
   "metadata": {
    "collapsed": true
   },
   "outputs": [],
   "source": [
    "prediction = model_rf.predict(test)"
   ]
  },
  {
   "cell_type": "code",
   "execution_count": null,
   "metadata": {
    "collapsed": true
   },
   "outputs": [],
   "source": [
    "prediction = np.exp(prediction)"
   ]
  },
  {
   "cell_type": "code",
   "execution_count": null,
   "metadata": {
    "collapsed": true
   },
   "outputs": [],
   "source": [
    "prediction = pd.DataFrame(data=prediction, index=test_ID, columns=['SalePrice'])"
   ]
  },
  {
   "cell_type": "code",
   "execution_count": null,
   "metadata": {
    "collapsed": true
   },
   "outputs": [],
   "source": [
    "prediction.head()"
   ]
  },
  {
   "cell_type": "code",
   "execution_count": null,
   "metadata": {
    "collapsed": true
   },
   "outputs": [],
   "source": [
    "prediction.to_csv('submissions/submission_starter_2.csv')"
   ]
  },
  {
   "cell_type": "code",
   "execution_count": null,
   "metadata": {
    "collapsed": true
   },
   "outputs": [],
   "source": []
  }
 ],
 "metadata": {
  "kernelspec": {
   "display_name": "Python 3",
   "language": "python",
   "name": "python3"
  },
  "language_info": {
   "codemirror_mode": {
    "name": "ipython",
    "version": 3
   },
   "file_extension": ".py",
   "mimetype": "text/x-python",
   "name": "python",
   "nbconvert_exporter": "python",
   "pygments_lexer": "ipython3",
   "version": "3.6.2"
  }
 },
 "nbformat": 4,
 "nbformat_minor": 2
}
