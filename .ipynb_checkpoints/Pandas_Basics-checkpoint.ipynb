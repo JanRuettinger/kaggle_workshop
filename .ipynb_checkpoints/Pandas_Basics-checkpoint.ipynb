{
 "cells": [
  {
   "cell_type": "code",
   "execution_count": 166,
   "metadata": {
    "collapsed": true
   },
   "outputs": [],
   "source": [
    "import pandas as pd"
   ]
  },
  {
   "cell_type": "markdown",
   "metadata": {},
   "source": [
    "## Series (aka row)\n",
    "A Series is a one-dimensional object similar to an array or a list. It will automatically assign a index to each item. By default, each item will receive an index label from 0 to N, where N is the length of the Series minus one."
   ]
  },
  {
   "cell_type": "code",
   "execution_count": 2,
   "metadata": {},
   "outputs": [
    {
     "data": {
      "text/plain": [
       "0    1\n",
       "1    2\n",
       "2    3\n",
       "3    4\n",
       "4    5\n",
       "dtype: int64"
      ]
     },
     "execution_count": 2,
     "metadata": {},
     "output_type": "execute_result"
    }
   ],
   "source": [
    "# create a Series with an arbitrary list\n",
    "s = pd.Series([1,2,3,4,5])\n",
    "s"
   ]
  },
  {
   "cell_type": "code",
   "execution_count": 1,
   "metadata": {},
   "outputs": [
    {
     "ename": "NameError",
     "evalue": "name 's' is not defined",
     "output_type": "error",
     "traceback": [
      "\u001b[0;31m---------------------------------------------------------------------------\u001b[0m",
      "\u001b[0;31mNameError\u001b[0m                                 Traceback (most recent call last)",
      "\u001b[0;32m<ipython-input-1-c08d7fcd67b3>\u001b[0m in \u001b[0;36m<module>\u001b[0;34m()\u001b[0m\n\u001b[0;32m----> 1\u001b[0;31m \u001b[0;36m2\u001b[0m \u001b[0;32min\u001b[0m \u001b[0ms\u001b[0m\u001b[0;34m\u001b[0m\u001b[0m\n\u001b[0m",
      "\u001b[0;31mNameError\u001b[0m: name 's' is not defined"
     ]
    }
   ],
   "source": [
    "2 in s"
   ]
  },
  {
   "cell_type": "code",
   "execution_count": 167,
   "metadata": {},
   "outputs": [
    {
     "data": {
      "text/plain": [
       "5"
      ]
     },
     "execution_count": 167,
     "metadata": {},
     "output_type": "execute_result"
    }
   ],
   "source": [
    "len(s)"
   ]
  },
  {
   "cell_type": "markdown",
   "metadata": {},
   "source": [
    "## DataFrame (aka table)\n",
    "A DataFrame is a tablular data structure comprised of rows and columns. You can also think of a DataFrame as a group of Series objects that share an index (the column names)."
   ]
  },
  {
   "cell_type": "code",
   "execution_count": 22,
   "metadata": {},
   "outputs": [
    {
     "data": {
      "text/html": [
       "<div>\n",
       "<style>\n",
       "    .dataframe thead tr:only-child th {\n",
       "        text-align: right;\n",
       "    }\n",
       "\n",
       "    .dataframe thead th {\n",
       "        text-align: left;\n",
       "    }\n",
       "\n",
       "    .dataframe tbody tr th {\n",
       "        vertical-align: top;\n",
       "    }\n",
       "</style>\n",
       "<table border=\"1\" class=\"dataframe\">\n",
       "  <thead>\n",
       "    <tr style=\"text-align: right;\">\n",
       "      <th></th>\n",
       "      <th>0</th>\n",
       "      <th>1</th>\n",
       "      <th>2</th>\n",
       "      <th>3</th>\n",
       "    </tr>\n",
       "  </thead>\n",
       "  <tbody>\n",
       "    <tr>\n",
       "      <th>0</th>\n",
       "      <td>1</td>\n",
       "      <td>2</td>\n",
       "      <td>3</td>\n",
       "      <td>4</td>\n",
       "    </tr>\n",
       "    <tr>\n",
       "      <th>1</th>\n",
       "      <td>5</td>\n",
       "      <td>6</td>\n",
       "      <td>7</td>\n",
       "      <td>8</td>\n",
       "    </tr>\n",
       "  </tbody>\n",
       "</table>\n",
       "</div>"
      ],
      "text/plain": [
       "   0  1  2  3\n",
       "0  1  2  3  4\n",
       "1  5  6  7  8"
      ]
     },
     "execution_count": 22,
     "metadata": {},
     "output_type": "execute_result"
    }
   ],
   "source": [
    "s_1 = pd.Series([1,2,3,4])\n",
    "s_2 = pd.Series([5,6,7,8])\n",
    "df = pd.DataFrame([s_1,s_2])\n",
    "df.head()"
   ]
  },
  {
   "cell_type": "code",
   "execution_count": 24,
   "metadata": {
    "collapsed": true
   },
   "outputs": [],
   "source": [
    "data = {\"year\": [2002, 2006, 2010, 2014, 2018],\n",
    "        \"win\": [True, True, True, True, False],\n",
    "        \"goals\": [34, 40, 90, 50, 30]}"
   ]
  },
  {
   "cell_type": "code",
   "execution_count": 26,
   "metadata": {
    "collapsed": true
   },
   "outputs": [],
   "source": [
    "world_cup = pd.DataFrame(data)"
   ]
  },
  {
   "cell_type": "code",
   "execution_count": 27,
   "metadata": {},
   "outputs": [
    {
     "data": {
      "text/html": [
       "<div>\n",
       "<style>\n",
       "    .dataframe thead tr:only-child th {\n",
       "        text-align: right;\n",
       "    }\n",
       "\n",
       "    .dataframe thead th {\n",
       "        text-align: left;\n",
       "    }\n",
       "\n",
       "    .dataframe tbody tr th {\n",
       "        vertical-align: top;\n",
       "    }\n",
       "</style>\n",
       "<table border=\"1\" class=\"dataframe\">\n",
       "  <thead>\n",
       "    <tr style=\"text-align: right;\">\n",
       "      <th></th>\n",
       "      <th>goals</th>\n",
       "      <th>win</th>\n",
       "      <th>year</th>\n",
       "    </tr>\n",
       "  </thead>\n",
       "  <tbody>\n",
       "    <tr>\n",
       "      <th>0</th>\n",
       "      <td>34</td>\n",
       "      <td>True</td>\n",
       "      <td>2002</td>\n",
       "    </tr>\n",
       "    <tr>\n",
       "      <th>1</th>\n",
       "      <td>40</td>\n",
       "      <td>True</td>\n",
       "      <td>2006</td>\n",
       "    </tr>\n",
       "    <tr>\n",
       "      <th>2</th>\n",
       "      <td>90</td>\n",
       "      <td>True</td>\n",
       "      <td>2010</td>\n",
       "    </tr>\n",
       "    <tr>\n",
       "      <th>3</th>\n",
       "      <td>50</td>\n",
       "      <td>True</td>\n",
       "      <td>2014</td>\n",
       "    </tr>\n",
       "    <tr>\n",
       "      <th>4</th>\n",
       "      <td>30</td>\n",
       "      <td>False</td>\n",
       "      <td>2018</td>\n",
       "    </tr>\n",
       "  </tbody>\n",
       "</table>\n",
       "</div>"
      ],
      "text/plain": [
       "   goals    win  year\n",
       "0     34   True  2002\n",
       "1     40   True  2006\n",
       "2     90   True  2010\n",
       "3     50   True  2014\n",
       "4     30  False  2018"
      ]
     },
     "execution_count": 27,
     "metadata": {},
     "output_type": "execute_result"
    }
   ],
   "source": [
    "world_cup.head()"
   ]
  },
  {
   "cell_type": "code",
   "execution_count": 168,
   "metadata": {},
   "outputs": [
    {
     "data": {
      "text/plain": [
       "'/Users/Jan/Documents/Privat/Studium/Like/HiWi/kaggle_workshop'"
      ]
     },
     "execution_count": 168,
     "metadata": {},
     "output_type": "execute_result"
    }
   ],
   "source": [
    "%pwd"
   ]
  },
  {
   "cell_type": "code",
   "execution_count": 169,
   "metadata": {},
   "outputs": [
    {
     "name": "stdout",
     "output_type": "stream",
     "text": [
      "01.rtf                            mariano-rivera.csv.html\r\n",
      "Pandas_Tests.ipynb                peyton-passing-TDs-2012.csv.html\r\n",
      "city-of-chicago-salaries.csv      soccer_teams.csv\r\n"
     ]
    }
   ],
   "source": [
    "%ls"
   ]
  },
  {
   "cell_type": "code",
   "execution_count": 184,
   "metadata": {},
   "outputs": [
    {
     "name": "stderr",
     "output_type": "stream",
     "text": [
      "/usr/local/lib/python3.6/site-packages/ipykernel_launcher.py:1: ParserWarning: Falling back to the 'python' engine because the 'c' engine does not support regex separators (separators > 1 char and different from '\\s+' are interpreted as regex); you can avoid this warning by specifying engine='python'.\n",
      "  \"\"\"Entry point for launching an IPython kernel.\n"
     ]
    },
    {
     "data": {
      "text/html": [
       "<div>\n",
       "<style>\n",
       "    .dataframe thead tr:only-child th {\n",
       "        text-align: right;\n",
       "    }\n",
       "\n",
       "    .dataframe thead th {\n",
       "        text-align: left;\n",
       "    }\n",
       "\n",
       "    .dataframe tbody tr th {\n",
       "        vertical-align: top;\n",
       "    }\n",
       "</style>\n",
       "<table border=\"1\" class=\"dataframe\">\n",
       "  <thead>\n",
       "    <tr style=\"text-align: right;\">\n",
       "      <th></th>\n",
       "      <th>Country</th>\n",
       "      <th>#</th>\n",
       "      <th>Position</th>\n",
       "      <th>FIFA Display Name</th>\n",
       "      <th>Last Name</th>\n",
       "      <th>First Name</th>\n",
       "      <th>Shirt Name</th>\n",
       "      <th>Date of Birth</th>\n",
       "      <th>Club</th>\n",
       "      <th>Club Country</th>\n",
       "      <th>Height</th>\n",
       "    </tr>\n",
       "  </thead>\n",
       "  <tbody>\n",
       "    <tr>\n",
       "      <th>0</th>\n",
       "      <td>Algeria</td>\n",
       "      <td>1</td>\n",
       "      <td>Goalkeeper</td>\n",
       "      <td>Lounes GAOUAOUI</td>\n",
       "      <td>GAOUAOUI</td>\n",
       "      <td>Lounes</td>\n",
       "      <td>GAOUAOUI</td>\n",
       "      <td>28 Sep 1977</td>\n",
       "      <td>Chlef</td>\n",
       "      <td>ALG</td>\n",
       "      <td>188</td>\n",
       "    </tr>\n",
       "    <tr>\n",
       "      <th>1</th>\n",
       "      <td>Algeria</td>\n",
       "      <td>2</td>\n",
       "      <td>Defender</td>\n",
       "      <td>Madjid BOUGHERRA</td>\n",
       "      <td>BOUGHERRA</td>\n",
       "      <td>Madjid</td>\n",
       "      <td>BOUGHERRA</td>\n",
       "      <td>07 Oct 1982</td>\n",
       "      <td>Rangers</td>\n",
       "      <td>SCO</td>\n",
       "      <td>190</td>\n",
       "    </tr>\n",
       "    <tr>\n",
       "      <th>2</th>\n",
       "      <td>Algeria</td>\n",
       "      <td>3</td>\n",
       "      <td>Defender</td>\n",
       "      <td>Nadir BELHADJ</td>\n",
       "      <td>BELHADJ</td>\n",
       "      <td>Nadir</td>\n",
       "      <td>BELHADJ</td>\n",
       "      <td>18 Jun 1982</td>\n",
       "      <td>Portsmouth</td>\n",
       "      <td>ENG</td>\n",
       "      <td>180</td>\n",
       "    </tr>\n",
       "    <tr>\n",
       "      <th>3</th>\n",
       "      <td>Algeria</td>\n",
       "      <td>4</td>\n",
       "      <td>Defender</td>\n",
       "      <td>Anther YAHIA</td>\n",
       "      <td>YAHIA</td>\n",
       "      <td>Anther</td>\n",
       "      <td>YAHIA</td>\n",
       "      <td>21 Mar 1982</td>\n",
       "      <td>Bochum</td>\n",
       "      <td>GER</td>\n",
       "      <td>185</td>\n",
       "    </tr>\n",
       "    <tr>\n",
       "      <th>4</th>\n",
       "      <td>Algeria</td>\n",
       "      <td>5</td>\n",
       "      <td>Defender</td>\n",
       "      <td>Rafik HALLICHE</td>\n",
       "      <td>HALLICHE</td>\n",
       "      <td>Rafik</td>\n",
       "      <td>HALLICHE</td>\n",
       "      <td>02 Sep 1986</td>\n",
       "      <td>Nacional Madeira</td>\n",
       "      <td>POR</td>\n",
       "      <td>187</td>\n",
       "    </tr>\n",
       "  </tbody>\n",
       "</table>\n",
       "</div>"
      ],
      "text/plain": [
       "   Country  #    Position FIFA Display Name  Last Name First Name Shirt Name  \\\n",
       "0  Algeria  1  Goalkeeper   Lounes GAOUAOUI   GAOUAOUI     Lounes   GAOUAOUI   \n",
       "1  Algeria  2    Defender  Madjid BOUGHERRA  BOUGHERRA     Madjid  BOUGHERRA   \n",
       "2  Algeria  3    Defender     Nadir BELHADJ    BELHADJ      Nadir    BELHADJ   \n",
       "3  Algeria  4    Defender      Anther YAHIA      YAHIA     Anther      YAHIA   \n",
       "4  Algeria  5    Defender    Rafik HALLICHE   HALLICHE      Rafik   HALLICHE   \n",
       "\n",
       "  Date of Birth              Club Club Country  Height  \n",
       "0   28 Sep 1977             Chlef          ALG     188  \n",
       "1   07 Oct 1982           Rangers          SCO     190  \n",
       "2   18 Jun 1982        Portsmouth          ENG     180  \n",
       "3   21 Mar 1982            Bochum          GER     185  \n",
       "4   02 Sep 1986  Nacional Madeira          POR     187  "
      ]
     },
     "execution_count": 184,
     "metadata": {},
     "output_type": "execute_result"
    }
   ],
   "source": [
    "teams = pd.read_csv('soccer_teams.csv', delimiter=', ')\n",
    "teams.head()"
   ]
  },
  {
   "cell_type": "code",
   "execution_count": 185,
   "metadata": {},
   "outputs": [
    {
     "data": {
      "text/html": [
       "<div>\n",
       "<style>\n",
       "    .dataframe thead tr:only-child th {\n",
       "        text-align: right;\n",
       "    }\n",
       "\n",
       "    .dataframe thead th {\n",
       "        text-align: left;\n",
       "    }\n",
       "\n",
       "    .dataframe tbody tr th {\n",
       "        vertical-align: top;\n",
       "    }\n",
       "</style>\n",
       "<table border=\"1\" class=\"dataframe\">\n",
       "  <thead>\n",
       "    <tr style=\"text-align: right;\">\n",
       "      <th></th>\n",
       "      <th>#</th>\n",
       "      <th>Height</th>\n",
       "    </tr>\n",
       "  </thead>\n",
       "  <tbody>\n",
       "    <tr>\n",
       "      <th>count</th>\n",
       "      <td>736.00000</td>\n",
       "      <td>736.000000</td>\n",
       "    </tr>\n",
       "    <tr>\n",
       "      <th>mean</th>\n",
       "      <td>12.00000</td>\n",
       "      <td>181.548913</td>\n",
       "    </tr>\n",
       "    <tr>\n",
       "      <th>std</th>\n",
       "      <td>6.63776</td>\n",
       "      <td>6.717653</td>\n",
       "    </tr>\n",
       "    <tr>\n",
       "      <th>min</th>\n",
       "      <td>1.00000</td>\n",
       "      <td>165.000000</td>\n",
       "    </tr>\n",
       "    <tr>\n",
       "      <th>25%</th>\n",
       "      <td>6.00000</td>\n",
       "      <td>177.000000</td>\n",
       "    </tr>\n",
       "    <tr>\n",
       "      <th>50%</th>\n",
       "      <td>12.00000</td>\n",
       "      <td>182.000000</td>\n",
       "    </tr>\n",
       "    <tr>\n",
       "      <th>75%</th>\n",
       "      <td>18.00000</td>\n",
       "      <td>186.000000</td>\n",
       "    </tr>\n",
       "    <tr>\n",
       "      <th>max</th>\n",
       "      <td>23.00000</td>\n",
       "      <td>202.000000</td>\n",
       "    </tr>\n",
       "  </tbody>\n",
       "</table>\n",
       "</div>"
      ],
      "text/plain": [
       "               #      Height\n",
       "count  736.00000  736.000000\n",
       "mean    12.00000  181.548913\n",
       "std      6.63776    6.717653\n",
       "min      1.00000  165.000000\n",
       "25%      6.00000  177.000000\n",
       "50%     12.00000  182.000000\n",
       "75%     18.00000  186.000000\n",
       "max     23.00000  202.000000"
      ]
     },
     "execution_count": 185,
     "metadata": {},
     "output_type": "execute_result"
    }
   ],
   "source": [
    "teams.describe()"
   ]
  },
  {
   "cell_type": "markdown",
   "metadata": {},
   "source": [
    "## Selecting rows and columns"
   ]
  },
  {
   "cell_type": "markdown",
   "metadata": {},
   "source": [
    "### 1. Index operator [] "
   ]
  },
  {
   "cell_type": "markdown",
   "metadata": {},
   "source": [
    "The index operator can be used in two ways. Firstly to select columns dataframe['columnname'] and secondly to select rows using slicing dataframe[1:10]"
   ]
  },
  {
   "cell_type": "code",
   "execution_count": 188,
   "metadata": {},
   "outputs": [
    {
     "data": {
      "text/plain": [
       "0    Algeria\n",
       "1    Algeria\n",
       "2    Algeria\n",
       "3    Algeria\n",
       "4    Algeria\n",
       "Name: Country, dtype: object"
      ]
     },
     "execution_count": 188,
     "metadata": {},
     "output_type": "execute_result"
    }
   ],
   "source": [
    "teams[\"Country\"].head()"
   ]
  },
  {
   "cell_type": "code",
   "execution_count": 189,
   "metadata": {},
   "outputs": [
    {
     "data": {
      "text/html": [
       "<div>\n",
       "<style>\n",
       "    .dataframe thead tr:only-child th {\n",
       "        text-align: right;\n",
       "    }\n",
       "\n",
       "    .dataframe thead th {\n",
       "        text-align: left;\n",
       "    }\n",
       "\n",
       "    .dataframe tbody tr th {\n",
       "        vertical-align: top;\n",
       "    }\n",
       "</style>\n",
       "<table border=\"1\" class=\"dataframe\">\n",
       "  <thead>\n",
       "    <tr style=\"text-align: right;\">\n",
       "      <th></th>\n",
       "      <th>Country</th>\n",
       "      <th>#</th>\n",
       "      <th>Position</th>\n",
       "      <th>FIFA Display Name</th>\n",
       "      <th>Last Name</th>\n",
       "      <th>First Name</th>\n",
       "      <th>Shirt Name</th>\n",
       "      <th>Date of Birth</th>\n",
       "      <th>Club</th>\n",
       "      <th>Club Country</th>\n",
       "      <th>Height</th>\n",
       "    </tr>\n",
       "  </thead>\n",
       "  <tbody>\n",
       "    <tr>\n",
       "      <th>2</th>\n",
       "      <td>Algeria</td>\n",
       "      <td>3</td>\n",
       "      <td>Defender</td>\n",
       "      <td>Nadir BELHADJ</td>\n",
       "      <td>BELHADJ</td>\n",
       "      <td>Nadir</td>\n",
       "      <td>BELHADJ</td>\n",
       "      <td>18 Jun 1982</td>\n",
       "      <td>Portsmouth</td>\n",
       "      <td>ENG</td>\n",
       "      <td>180</td>\n",
       "    </tr>\n",
       "    <tr>\n",
       "      <th>3</th>\n",
       "      <td>Algeria</td>\n",
       "      <td>4</td>\n",
       "      <td>Defender</td>\n",
       "      <td>Anther YAHIA</td>\n",
       "      <td>YAHIA</td>\n",
       "      <td>Anther</td>\n",
       "      <td>YAHIA</td>\n",
       "      <td>21 Mar 1982</td>\n",
       "      <td>Bochum</td>\n",
       "      <td>GER</td>\n",
       "      <td>185</td>\n",
       "    </tr>\n",
       "    <tr>\n",
       "      <th>4</th>\n",
       "      <td>Algeria</td>\n",
       "      <td>5</td>\n",
       "      <td>Defender</td>\n",
       "      <td>Rafik HALLICHE</td>\n",
       "      <td>HALLICHE</td>\n",
       "      <td>Rafik</td>\n",
       "      <td>HALLICHE</td>\n",
       "      <td>02 Sep 1986</td>\n",
       "      <td>Nacional Madeira</td>\n",
       "      <td>POR</td>\n",
       "      <td>187</td>\n",
       "    </tr>\n",
       "    <tr>\n",
       "      <th>5</th>\n",
       "      <td>Algeria</td>\n",
       "      <td>6</td>\n",
       "      <td>Midfielder</td>\n",
       "      <td>Yazid MANSOURI</td>\n",
       "      <td>MANSOURI</td>\n",
       "      <td>Yazid</td>\n",
       "      <td>MANSOURI</td>\n",
       "      <td>25 Feb 1978</td>\n",
       "      <td>Lorient</td>\n",
       "      <td>FRA</td>\n",
       "      <td>175</td>\n",
       "    </tr>\n",
       "    <tr>\n",
       "      <th>6</th>\n",
       "      <td>Algeria</td>\n",
       "      <td>7</td>\n",
       "      <td>Midfielder</td>\n",
       "      <td>Ryad BOUDEBOUZ</td>\n",
       "      <td>BOUDEBOUZ</td>\n",
       "      <td>Ryad</td>\n",
       "      <td>BOUDEBOUZ</td>\n",
       "      <td>19 Feb 1990</td>\n",
       "      <td>Sochaux</td>\n",
       "      <td>FRA</td>\n",
       "      <td>178</td>\n",
       "    </tr>\n",
       "  </tbody>\n",
       "</table>\n",
       "</div>"
      ],
      "text/plain": [
       "   Country  #    Position FIFA Display Name  Last Name First Name Shirt Name  \\\n",
       "2  Algeria  3    Defender     Nadir BELHADJ    BELHADJ      Nadir    BELHADJ   \n",
       "3  Algeria  4    Defender      Anther YAHIA      YAHIA     Anther      YAHIA   \n",
       "4  Algeria  5    Defender    Rafik HALLICHE   HALLICHE      Rafik   HALLICHE   \n",
       "5  Algeria  6  Midfielder    Yazid MANSOURI   MANSOURI      Yazid   MANSOURI   \n",
       "6  Algeria  7  Midfielder    Ryad BOUDEBOUZ  BOUDEBOUZ       Ryad  BOUDEBOUZ   \n",
       "\n",
       "  Date of Birth              Club Club Country  Height  \n",
       "2   18 Jun 1982        Portsmouth          ENG     180  \n",
       "3   21 Mar 1982            Bochum          GER     185  \n",
       "4   02 Sep 1986  Nacional Madeira          POR     187  \n",
       "5   25 Feb 1978           Lorient          FRA     175  \n",
       "6   19 Feb 1990           Sochaux          FRA     178  "
      ]
     },
     "execution_count": 189,
     "metadata": {},
     "output_type": "execute_result"
    }
   ],
   "source": [
    "teams[2:7]"
   ]
  },
  {
   "cell_type": "code",
   "execution_count": 190,
   "metadata": {},
   "outputs": [
    {
     "data": {
      "text/html": [
       "<div>\n",
       "<style>\n",
       "    .dataframe thead tr:only-child th {\n",
       "        text-align: right;\n",
       "    }\n",
       "\n",
       "    .dataframe thead th {\n",
       "        text-align: left;\n",
       "    }\n",
       "\n",
       "    .dataframe tbody tr th {\n",
       "        vertical-align: top;\n",
       "    }\n",
       "</style>\n",
       "<table border=\"1\" class=\"dataframe\">\n",
       "  <thead>\n",
       "    <tr style=\"text-align: right;\">\n",
       "      <th></th>\n",
       "      <th>FIFA Display Name</th>\n",
       "      <th>Last Name</th>\n",
       "      <th>First Name</th>\n",
       "      <th>Shirt Name</th>\n",
       "      <th>Date of Birth</th>\n",
       "      <th>Club</th>\n",
       "      <th>Club Country</th>\n",
       "      <th>Height</th>\n",
       "    </tr>\n",
       "  </thead>\n",
       "  <tbody>\n",
       "    <tr>\n",
       "      <th>2</th>\n",
       "      <td>Nadir BELHADJ</td>\n",
       "      <td>BELHADJ</td>\n",
       "      <td>Nadir</td>\n",
       "      <td>BELHADJ</td>\n",
       "      <td>18 Jun 1982</td>\n",
       "      <td>Portsmouth</td>\n",
       "      <td>ENG</td>\n",
       "      <td>180</td>\n",
       "    </tr>\n",
       "    <tr>\n",
       "      <th>3</th>\n",
       "      <td>Anther YAHIA</td>\n",
       "      <td>YAHIA</td>\n",
       "      <td>Anther</td>\n",
       "      <td>YAHIA</td>\n",
       "      <td>21 Mar 1982</td>\n",
       "      <td>Bochum</td>\n",
       "      <td>GER</td>\n",
       "      <td>185</td>\n",
       "    </tr>\n",
       "    <tr>\n",
       "      <th>4</th>\n",
       "      <td>Rafik HALLICHE</td>\n",
       "      <td>HALLICHE</td>\n",
       "      <td>Rafik</td>\n",
       "      <td>HALLICHE</td>\n",
       "      <td>02 Sep 1986</td>\n",
       "      <td>Nacional Madeira</td>\n",
       "      <td>POR</td>\n",
       "      <td>187</td>\n",
       "    </tr>\n",
       "  </tbody>\n",
       "</table>\n",
       "</div>"
      ],
      "text/plain": [
       "  FIFA Display Name Last Name First Name Shirt Name Date of Birth  \\\n",
       "2     Nadir BELHADJ   BELHADJ      Nadir    BELHADJ   18 Jun 1982   \n",
       "3      Anther YAHIA     YAHIA     Anther      YAHIA   21 Mar 1982   \n",
       "4    Rafik HALLICHE  HALLICHE      Rafik   HALLICHE   02 Sep 1986   \n",
       "\n",
       "               Club Club Country  Height  \n",
       "2        Portsmouth          ENG     180  \n",
       "3            Bochum          GER     185  \n",
       "4  Nacional Madeira          POR     187  "
      ]
     },
     "execution_count": 190,
     "metadata": {},
     "output_type": "execute_result"
    }
   ],
   "source": [
    "teams.iloc[2:5, 3:] # dataframe.iloc[rows, columns] (iloc = index location)"
   ]
  },
  {
   "cell_type": "code",
   "execution_count": 2,
   "metadata": {},
   "outputs": [
    {
     "ename": "NameError",
     "evalue": "name 'teams' is not defined",
     "output_type": "error",
     "traceback": [
      "\u001b[0;31m---------------------------------------------------------------------------\u001b[0m",
      "\u001b[0;31mNameError\u001b[0m                                 Traceback (most recent call last)",
      "\u001b[0;32m<ipython-input-2-5e9260036d08>\u001b[0m in \u001b[0;36m<module>\u001b[0;34m()\u001b[0m\n\u001b[0;32m----> 1\u001b[0;31m \u001b[0mteams\u001b[0m\u001b[0;34m.\u001b[0m\u001b[0mloc\u001b[0m\u001b[0;34m[\u001b[0m\u001b[0;36m2\u001b[0m\u001b[0;34m:\u001b[0m\u001b[0;36m5\u001b[0m\u001b[0;34m,\u001b[0m \u001b[0;34m\" Shirt Name\"\u001b[0m\u001b[0;34m:\u001b[0m\u001b[0;34m]\u001b[0m \u001b[0;31m# dataframe.loc[rows, columns] (loc = label location)\u001b[0m\u001b[0;34m\u001b[0m\u001b[0m\n\u001b[0m",
      "\u001b[0;31mNameError\u001b[0m: name 'teams' is not defined"
     ]
    }
   ],
   "source": [
    "teams.loc[2:5, \" Shirt Name\":] # dataframe.loc[rows, columns] (loc = label location)"
   ]
  },
  {
   "cell_type": "markdown",
   "metadata": {},
   "source": [
    "### 2. where() and bit masking"
   ]
  },
  {
   "cell_type": "code",
   "execution_count": 192,
   "metadata": {},
   "outputs": [
    {
     "data": {
      "text/plain": [
       "0       True\n",
       "1       True\n",
       "2      False\n",
       "3       True\n",
       "4       True\n",
       "5      False\n",
       "6      False\n",
       "7      False\n",
       "8       True\n",
       "9      False\n",
       "10      True\n",
       "11      True\n",
       "12      True\n",
       "13     False\n",
       "14     False\n",
       "15     False\n",
       "16      True\n",
       "17      True\n",
       "18      True\n",
       "19     False\n",
       "20     False\n",
       "21     False\n",
       "22      True\n",
       "23      True\n",
       "24      True\n",
       "25     False\n",
       "26     False\n",
       "27      True\n",
       "28     False\n",
       "29     False\n",
       "       ...  \n",
       "706    False\n",
       "707    False\n",
       "708     True\n",
       "709     True\n",
       "710    False\n",
       "711    False\n",
       "712     True\n",
       "713     True\n",
       "714     True\n",
       "715     True\n",
       "716     True\n",
       "717     True\n",
       "718    False\n",
       "719    False\n",
       "720     True\n",
       "721    False\n",
       "722    False\n",
       "723    False\n",
       "724    False\n",
       "725    False\n",
       "726     True\n",
       "727    False\n",
       "728    False\n",
       "729     True\n",
       "730     True\n",
       "731     True\n",
       "732    False\n",
       "733     True\n",
       "734    False\n",
       "735     True\n",
       "Name: Height, Length: 736, dtype: bool"
      ]
     },
     "execution_count": 192,
     "metadata": {},
     "output_type": "execute_result"
    }
   ],
   "source": [
    "teams['Height'] > 180 # Returns Series object with True and False according to the condition"
   ]
  },
  {
   "cell_type": "code",
   "execution_count": 194,
   "metadata": {},
   "outputs": [
    {
     "data": {
      "text/plain": [
       "pandas.core.series.Series"
      ]
     },
     "execution_count": 194,
     "metadata": {},
     "output_type": "execute_result"
    }
   ],
   "source": [
    "type(teams['Height'] > 180) "
   ]
  },
  {
   "cell_type": "code",
   "execution_count": 195,
   "metadata": {},
   "outputs": [
    {
     "data": {
      "text/html": [
       "<div>\n",
       "<style>\n",
       "    .dataframe thead tr:only-child th {\n",
       "        text-align: right;\n",
       "    }\n",
       "\n",
       "    .dataframe thead th {\n",
       "        text-align: left;\n",
       "    }\n",
       "\n",
       "    .dataframe tbody tr th {\n",
       "        vertical-align: top;\n",
       "    }\n",
       "</style>\n",
       "<table border=\"1\" class=\"dataframe\">\n",
       "  <thead>\n",
       "    <tr style=\"text-align: right;\">\n",
       "      <th></th>\n",
       "      <th>Country</th>\n",
       "      <th>#</th>\n",
       "      <th>Position</th>\n",
       "      <th>FIFA Display Name</th>\n",
       "      <th>Last Name</th>\n",
       "      <th>First Name</th>\n",
       "      <th>Shirt Name</th>\n",
       "      <th>Date of Birth</th>\n",
       "      <th>Club</th>\n",
       "      <th>Club Country</th>\n",
       "      <th>Height</th>\n",
       "    </tr>\n",
       "  </thead>\n",
       "  <tbody>\n",
       "    <tr>\n",
       "      <th>230</th>\n",
       "      <td>Germany</td>\n",
       "      <td>1</td>\n",
       "      <td>Goalkeeper</td>\n",
       "      <td>Manuel NEUER</td>\n",
       "      <td>NEUER</td>\n",
       "      <td>Manuel</td>\n",
       "      <td>NEUER</td>\n",
       "      <td>27 Mar 1986</td>\n",
       "      <td>Schalke 04</td>\n",
       "      <td>GER</td>\n",
       "      <td>190</td>\n",
       "    </tr>\n",
       "    <tr>\n",
       "      <th>231</th>\n",
       "      <td>Germany</td>\n",
       "      <td>2</td>\n",
       "      <td>Midfielder</td>\n",
       "      <td>Marcell JANSEN</td>\n",
       "      <td>JANSEN</td>\n",
       "      <td>Marcell</td>\n",
       "      <td>JANSEN</td>\n",
       "      <td>04 Nov 1985</td>\n",
       "      <td>Hamburger SV</td>\n",
       "      <td>GER</td>\n",
       "      <td>190</td>\n",
       "    </tr>\n",
       "    <tr>\n",
       "      <th>232</th>\n",
       "      <td>Germany</td>\n",
       "      <td>3</td>\n",
       "      <td>Defender</td>\n",
       "      <td>Arne FRIEDRICH</td>\n",
       "      <td>FRIEDRICH</td>\n",
       "      <td>Arne</td>\n",
       "      <td>FRIEDRICH</td>\n",
       "      <td>29 May 1979</td>\n",
       "      <td>Hertha Berlin</td>\n",
       "      <td>GER</td>\n",
       "      <td>185</td>\n",
       "    </tr>\n",
       "    <tr>\n",
       "      <th>233</th>\n",
       "      <td>Germany</td>\n",
       "      <td>4</td>\n",
       "      <td>Defender</td>\n",
       "      <td>Dennis AOGO</td>\n",
       "      <td>AOGO</td>\n",
       "      <td>Dennis</td>\n",
       "      <td>AOGO</td>\n",
       "      <td>14 Jan 1987</td>\n",
       "      <td>Hamburger SV</td>\n",
       "      <td>GER</td>\n",
       "      <td>184</td>\n",
       "    </tr>\n",
       "    <tr>\n",
       "      <th>234</th>\n",
       "      <td>Germany</td>\n",
       "      <td>5</td>\n",
       "      <td>Defender</td>\n",
       "      <td>Serdar TASCI</td>\n",
       "      <td>TASCI</td>\n",
       "      <td>Serdar</td>\n",
       "      <td>TASCI</td>\n",
       "      <td>24 Apr 1987</td>\n",
       "      <td>VfB Stuttgart</td>\n",
       "      <td>GER</td>\n",
       "      <td>186</td>\n",
       "    </tr>\n",
       "  </tbody>\n",
       "</table>\n",
       "</div>"
      ],
      "text/plain": [
       "     Country  #    Position FIFA Display Name  Last Name First Name  \\\n",
       "230  Germany  1  Goalkeeper      Manuel NEUER      NEUER     Manuel   \n",
       "231  Germany  2  Midfielder    Marcell JANSEN     JANSEN    Marcell   \n",
       "232  Germany  3    Defender    Arne FRIEDRICH  FRIEDRICH       Arne   \n",
       "233  Germany  4    Defender       Dennis AOGO       AOGO     Dennis   \n",
       "234  Germany  5    Defender      Serdar TASCI      TASCI     Serdar   \n",
       "\n",
       "    Shirt Name Date of Birth           Club Club Country  Height  \n",
       "230      NEUER   27 Mar 1986     Schalke 04          GER     190  \n",
       "231     JANSEN   04 Nov 1985   Hamburger SV          GER     190  \n",
       "232  FRIEDRICH   29 May 1979  Hertha Berlin          GER     185  \n",
       "233       AOGO   14 Jan 1987   Hamburger SV          GER     184  \n",
       "234      TASCI   24 Apr 1987  VfB Stuttgart          GER     186  "
      ]
     },
     "execution_count": 195,
     "metadata": {},
     "output_type": "execute_result"
    }
   ],
   "source": [
    "# | bitwise or     & bitwise and AUFGABE\n",
    "teams[(teams['Height'] > 180) & (teams['Country'] == 'Germany')].head()"
   ]
  },
  {
   "cell_type": "code",
   "execution_count": 198,
   "metadata": {},
   "outputs": [
    {
     "data": {
      "text/html": [
       "<div>\n",
       "<style>\n",
       "    .dataframe thead tr:only-child th {\n",
       "        text-align: right;\n",
       "    }\n",
       "\n",
       "    .dataframe thead th {\n",
       "        text-align: left;\n",
       "    }\n",
       "\n",
       "    .dataframe tbody tr th {\n",
       "        vertical-align: top;\n",
       "    }\n",
       "</style>\n",
       "<table border=\"1\" class=\"dataframe\">\n",
       "  <thead>\n",
       "    <tr style=\"text-align: right;\">\n",
       "      <th></th>\n",
       "      <th>Country</th>\n",
       "      <th>#</th>\n",
       "      <th>Position</th>\n",
       "      <th>FIFA Display Name</th>\n",
       "      <th>Last Name</th>\n",
       "      <th>First Name</th>\n",
       "      <th>Shirt Name</th>\n",
       "      <th>Date of Birth</th>\n",
       "      <th>Club</th>\n",
       "      <th>Club Country</th>\n",
       "      <th>Height</th>\n",
       "    </tr>\n",
       "  </thead>\n",
       "  <tbody>\n",
       "    <tr>\n",
       "      <th>0</th>\n",
       "      <td>Algeria</td>\n",
       "      <td>1.0</td>\n",
       "      <td>Goalkeeper</td>\n",
       "      <td>Lounes GAOUAOUI</td>\n",
       "      <td>GAOUAOUI</td>\n",
       "      <td>Lounes</td>\n",
       "      <td>GAOUAOUI</td>\n",
       "      <td>28 Sep 1977</td>\n",
       "      <td>Chlef</td>\n",
       "      <td>ALG</td>\n",
       "      <td>188.0</td>\n",
       "    </tr>\n",
       "    <tr>\n",
       "      <th>1</th>\n",
       "      <td>Algeria</td>\n",
       "      <td>2.0</td>\n",
       "      <td>Defender</td>\n",
       "      <td>Madjid BOUGHERRA</td>\n",
       "      <td>BOUGHERRA</td>\n",
       "      <td>Madjid</td>\n",
       "      <td>BOUGHERRA</td>\n",
       "      <td>07 Oct 1982</td>\n",
       "      <td>Rangers</td>\n",
       "      <td>SCO</td>\n",
       "      <td>190.0</td>\n",
       "    </tr>\n",
       "    <tr>\n",
       "      <th>2</th>\n",
       "      <td>NaN</td>\n",
       "      <td>NaN</td>\n",
       "      <td>NaN</td>\n",
       "      <td>NaN</td>\n",
       "      <td>NaN</td>\n",
       "      <td>NaN</td>\n",
       "      <td>NaN</td>\n",
       "      <td>NaN</td>\n",
       "      <td>NaN</td>\n",
       "      <td>NaN</td>\n",
       "      <td>NaN</td>\n",
       "    </tr>\n",
       "    <tr>\n",
       "      <th>3</th>\n",
       "      <td>Algeria</td>\n",
       "      <td>4.0</td>\n",
       "      <td>Defender</td>\n",
       "      <td>Anther YAHIA</td>\n",
       "      <td>YAHIA</td>\n",
       "      <td>Anther</td>\n",
       "      <td>YAHIA</td>\n",
       "      <td>21 Mar 1982</td>\n",
       "      <td>Bochum</td>\n",
       "      <td>GER</td>\n",
       "      <td>185.0</td>\n",
       "    </tr>\n",
       "    <tr>\n",
       "      <th>4</th>\n",
       "      <td>Algeria</td>\n",
       "      <td>5.0</td>\n",
       "      <td>Defender</td>\n",
       "      <td>Rafik HALLICHE</td>\n",
       "      <td>HALLICHE</td>\n",
       "      <td>Rafik</td>\n",
       "      <td>HALLICHE</td>\n",
       "      <td>02 Sep 1986</td>\n",
       "      <td>Nacional Madeira</td>\n",
       "      <td>POR</td>\n",
       "      <td>187.0</td>\n",
       "    </tr>\n",
       "  </tbody>\n",
       "</table>\n",
       "</div>"
      ],
      "text/plain": [
       "   Country    #    Position FIFA Display Name  Last Name First Name  \\\n",
       "0  Algeria  1.0  Goalkeeper   Lounes GAOUAOUI   GAOUAOUI     Lounes   \n",
       "1  Algeria  2.0    Defender  Madjid BOUGHERRA  BOUGHERRA     Madjid   \n",
       "2      NaN  NaN         NaN               NaN        NaN        NaN   \n",
       "3  Algeria  4.0    Defender      Anther YAHIA      YAHIA     Anther   \n",
       "4  Algeria  5.0    Defender    Rafik HALLICHE   HALLICHE      Rafik   \n",
       "\n",
       "  Shirt Name Date of Birth              Club Club Country  Height  \n",
       "0   GAOUAOUI   28 Sep 1977             Chlef          ALG   188.0  \n",
       "1  BOUGHERRA   07 Oct 1982           Rangers          SCO   190.0  \n",
       "2        NaN           NaN               NaN          NaN     NaN  \n",
       "3      YAHIA   21 Mar 1982            Bochum          GER   185.0  \n",
       "4   HALLICHE   02 Sep 1986  Nacional Madeira          POR   187.0  "
      ]
     },
     "execution_count": 198,
     "metadata": {},
     "output_type": "execute_result"
    }
   ],
   "source": [
    "teams.where((teams['Height'] > 180) & (teams['Country'] == 'Algeria')).head()"
   ]
  },
  {
   "cell_type": "code",
   "execution_count": 197,
   "metadata": {},
   "outputs": [
    {
     "name": "stdout",
     "output_type": "stream",
     "text": [
      "16\n",
      "736\n"
     ]
    }
   ],
   "source": [
    "team_subset = teams[(teams['Height'] > 180) & (teams['Country'] == 'Germany')]\n",
    "team_nosubset = teams.where((teams['Height'] > 180) & (teams['Country'] == 'Germany'))\n",
    "print(len(team_subset))\n",
    "print(len(team_nosubset))"
   ]
  },
  {
   "cell_type": "code",
   "execution_count": 199,
   "metadata": {},
   "outputs": [
    {
     "data": {
      "text/html": [
       "<div>\n",
       "<style>\n",
       "    .dataframe thead tr:only-child th {\n",
       "        text-align: right;\n",
       "    }\n",
       "\n",
       "    .dataframe thead th {\n",
       "        text-align: left;\n",
       "    }\n",
       "\n",
       "    .dataframe tbody tr th {\n",
       "        vertical-align: top;\n",
       "    }\n",
       "</style>\n",
       "<table border=\"1\" class=\"dataframe\">\n",
       "  <thead>\n",
       "    <tr style=\"text-align: right;\">\n",
       "      <th></th>\n",
       "      <th>Country</th>\n",
       "      <th>#</th>\n",
       "      <th>Position</th>\n",
       "      <th>FIFA Display Name</th>\n",
       "      <th>Last Name</th>\n",
       "      <th>First Name</th>\n",
       "      <th>Shirt Name</th>\n",
       "      <th>Date of Birth</th>\n",
       "      <th>Club</th>\n",
       "      <th>Club Country</th>\n",
       "      <th>Height</th>\n",
       "    </tr>\n",
       "  </thead>\n",
       "  <tbody>\n",
       "    <tr>\n",
       "      <th>0</th>\n",
       "      <td>Algeria</td>\n",
       "      <td>1</td>\n",
       "      <td>Goalkeeper</td>\n",
       "      <td>Lounes GAOUAOUI</td>\n",
       "      <td>GAOUAOUI</td>\n",
       "      <td>Lounes</td>\n",
       "      <td>GAOUAOUI</td>\n",
       "      <td>28 Sep 1977</td>\n",
       "      <td>Chlef</td>\n",
       "      <td>ALG</td>\n",
       "      <td>188</td>\n",
       "    </tr>\n",
       "    <tr>\n",
       "      <th>1</th>\n",
       "      <td>Algeria</td>\n",
       "      <td>2</td>\n",
       "      <td>Defender</td>\n",
       "      <td>Madjid BOUGHERRA</td>\n",
       "      <td>BOUGHERRA</td>\n",
       "      <td>Madjid</td>\n",
       "      <td>BOUGHERRA</td>\n",
       "      <td>07 Oct 1982</td>\n",
       "      <td>Rangers</td>\n",
       "      <td>SCO</td>\n",
       "      <td>190</td>\n",
       "    </tr>\n",
       "    <tr>\n",
       "      <th>2</th>\n",
       "      <td>Test</td>\n",
       "      <td>Test</td>\n",
       "      <td>Test</td>\n",
       "      <td>Test</td>\n",
       "      <td>Test</td>\n",
       "      <td>Test</td>\n",
       "      <td>Test</td>\n",
       "      <td>Test</td>\n",
       "      <td>Test</td>\n",
       "      <td>Test</td>\n",
       "      <td>Test</td>\n",
       "    </tr>\n",
       "    <tr>\n",
       "      <th>3</th>\n",
       "      <td>Algeria</td>\n",
       "      <td>4</td>\n",
       "      <td>Defender</td>\n",
       "      <td>Anther YAHIA</td>\n",
       "      <td>YAHIA</td>\n",
       "      <td>Anther</td>\n",
       "      <td>YAHIA</td>\n",
       "      <td>21 Mar 1982</td>\n",
       "      <td>Bochum</td>\n",
       "      <td>GER</td>\n",
       "      <td>185</td>\n",
       "    </tr>\n",
       "    <tr>\n",
       "      <th>4</th>\n",
       "      <td>Algeria</td>\n",
       "      <td>5</td>\n",
       "      <td>Defender</td>\n",
       "      <td>Rafik HALLICHE</td>\n",
       "      <td>HALLICHE</td>\n",
       "      <td>Rafik</td>\n",
       "      <td>HALLICHE</td>\n",
       "      <td>02 Sep 1986</td>\n",
       "      <td>Nacional Madeira</td>\n",
       "      <td>POR</td>\n",
       "      <td>187</td>\n",
       "    </tr>\n",
       "  </tbody>\n",
       "</table>\n",
       "</div>"
      ],
      "text/plain": [
       "   Country     #    Position FIFA Display Name  Last Name First Name  \\\n",
       "0  Algeria     1  Goalkeeper   Lounes GAOUAOUI   GAOUAOUI     Lounes   \n",
       "1  Algeria     2    Defender  Madjid BOUGHERRA  BOUGHERRA     Madjid   \n",
       "2     Test  Test        Test              Test       Test       Test   \n",
       "3  Algeria     4    Defender      Anther YAHIA      YAHIA     Anther   \n",
       "4  Algeria     5    Defender    Rafik HALLICHE   HALLICHE      Rafik   \n",
       "\n",
       "  Shirt Name Date of Birth              Club Club Country Height  \n",
       "0   GAOUAOUI   28 Sep 1977             Chlef          ALG    188  \n",
       "1  BOUGHERRA   07 Oct 1982           Rangers          SCO    190  \n",
       "2       Test          Test              Test         Test   Test  \n",
       "3      YAHIA   21 Mar 1982            Bochum          GER    185  \n",
       "4   HALLICHE   02 Sep 1986  Nacional Madeira          POR    187  "
      ]
     },
     "execution_count": 199,
     "metadata": {},
     "output_type": "execute_result"
    }
   ],
   "source": [
    "teams.where((teams['Height'] > 180) & (teams['Country'] == 'Algeria'),\"Test\").head()"
   ]
  },
  {
   "cell_type": "code",
   "execution_count": 200,
   "metadata": {},
   "outputs": [
    {
     "data": {
      "text/html": [
       "<div>\n",
       "<style>\n",
       "    .dataframe thead tr:only-child th {\n",
       "        text-align: right;\n",
       "    }\n",
       "\n",
       "    .dataframe thead th {\n",
       "        text-align: left;\n",
       "    }\n",
       "\n",
       "    .dataframe tbody tr th {\n",
       "        vertical-align: top;\n",
       "    }\n",
       "</style>\n",
       "<table border=\"1\" class=\"dataframe\">\n",
       "  <thead>\n",
       "    <tr style=\"text-align: right;\">\n",
       "      <th></th>\n",
       "      <th>FIFA Display Name</th>\n",
       "      <th>Last Name</th>\n",
       "    </tr>\n",
       "  </thead>\n",
       "  <tbody>\n",
       "    <tr>\n",
       "      <th>0</th>\n",
       "      <td>Lounes GAOUAOUI</td>\n",
       "      <td>GAOUAOUI</td>\n",
       "    </tr>\n",
       "    <tr>\n",
       "      <th>1</th>\n",
       "      <td>Madjid BOUGHERRA</td>\n",
       "      <td>BOUGHERRA</td>\n",
       "    </tr>\n",
       "    <tr>\n",
       "      <th>2</th>\n",
       "      <td>Auto</td>\n",
       "      <td>Auto</td>\n",
       "    </tr>\n",
       "    <tr>\n",
       "      <th>3</th>\n",
       "      <td>Anther YAHIA</td>\n",
       "      <td>YAHIA</td>\n",
       "    </tr>\n",
       "    <tr>\n",
       "      <th>4</th>\n",
       "      <td>Rafik HALLICHE</td>\n",
       "      <td>HALLICHE</td>\n",
       "    </tr>\n",
       "  </tbody>\n",
       "</table>\n",
       "</div>"
      ],
      "text/plain": [
       "  FIFA Display Name  Last Name\n",
       "0   Lounes GAOUAOUI   GAOUAOUI\n",
       "1  Madjid BOUGHERRA  BOUGHERRA\n",
       "2              Auto       Auto\n",
       "3      Anther YAHIA      YAHIA\n",
       "4    Rafik HALLICHE   HALLICHE"
      ]
     },
     "execution_count": 200,
     "metadata": {},
     "output_type": "execute_result"
    }
   ],
   "source": [
    "mask = (teams['Height'] > 180) & (teams['Country'] == 'Algeria')\n",
    "teams.iloc[:, 3:5].where(mask, \"Auto\").head()"
   ]
  },
  {
   "cell_type": "markdown",
   "metadata": {},
   "source": [
    "## Join dataframes"
   ]
  },
  {
   "cell_type": "code",
   "execution_count": 201,
   "metadata": {
    "collapsed": true
   },
   "outputs": [],
   "source": [
    "left_frame = pd.DataFrame({'key': range(5), \n",
    "                           'left_value': ['a', 'b', 'c', 'd', 'e']})\n",
    "right_frame = pd.DataFrame({'key': range(2, 7), \n",
    "                           'right_value': ['f', 'g', 'h', 'i', 'j']})"
   ]
  },
  {
   "cell_type": "code",
   "execution_count": 202,
   "metadata": {},
   "outputs": [
    {
     "data": {
      "text/html": [
       "<div>\n",
       "<style>\n",
       "    .dataframe thead tr:only-child th {\n",
       "        text-align: right;\n",
       "    }\n",
       "\n",
       "    .dataframe thead th {\n",
       "        text-align: left;\n",
       "    }\n",
       "\n",
       "    .dataframe tbody tr th {\n",
       "        vertical-align: top;\n",
       "    }\n",
       "</style>\n",
       "<table border=\"1\" class=\"dataframe\">\n",
       "  <thead>\n",
       "    <tr style=\"text-align: right;\">\n",
       "      <th></th>\n",
       "      <th>key</th>\n",
       "      <th>left_value</th>\n",
       "    </tr>\n",
       "  </thead>\n",
       "  <tbody>\n",
       "    <tr>\n",
       "      <th>0</th>\n",
       "      <td>0</td>\n",
       "      <td>a</td>\n",
       "    </tr>\n",
       "    <tr>\n",
       "      <th>1</th>\n",
       "      <td>1</td>\n",
       "      <td>b</td>\n",
       "    </tr>\n",
       "    <tr>\n",
       "      <th>2</th>\n",
       "      <td>2</td>\n",
       "      <td>c</td>\n",
       "    </tr>\n",
       "    <tr>\n",
       "      <th>3</th>\n",
       "      <td>3</td>\n",
       "      <td>d</td>\n",
       "    </tr>\n",
       "    <tr>\n",
       "      <th>4</th>\n",
       "      <td>4</td>\n",
       "      <td>e</td>\n",
       "    </tr>\n",
       "  </tbody>\n",
       "</table>\n",
       "</div>"
      ],
      "text/plain": [
       "   key left_value\n",
       "0    0          a\n",
       "1    1          b\n",
       "2    2          c\n",
       "3    3          d\n",
       "4    4          e"
      ]
     },
     "execution_count": 202,
     "metadata": {},
     "output_type": "execute_result"
    }
   ],
   "source": [
    "left_frame"
   ]
  },
  {
   "cell_type": "code",
   "execution_count": 203,
   "metadata": {},
   "outputs": [
    {
     "data": {
      "text/html": [
       "<div>\n",
       "<style>\n",
       "    .dataframe thead tr:only-child th {\n",
       "        text-align: right;\n",
       "    }\n",
       "\n",
       "    .dataframe thead th {\n",
       "        text-align: left;\n",
       "    }\n",
       "\n",
       "    .dataframe tbody tr th {\n",
       "        vertical-align: top;\n",
       "    }\n",
       "</style>\n",
       "<table border=\"1\" class=\"dataframe\">\n",
       "  <thead>\n",
       "    <tr style=\"text-align: right;\">\n",
       "      <th></th>\n",
       "      <th>key</th>\n",
       "      <th>right_value</th>\n",
       "    </tr>\n",
       "  </thead>\n",
       "  <tbody>\n",
       "    <tr>\n",
       "      <th>0</th>\n",
       "      <td>2</td>\n",
       "      <td>f</td>\n",
       "    </tr>\n",
       "    <tr>\n",
       "      <th>1</th>\n",
       "      <td>3</td>\n",
       "      <td>g</td>\n",
       "    </tr>\n",
       "    <tr>\n",
       "      <th>2</th>\n",
       "      <td>4</td>\n",
       "      <td>h</td>\n",
       "    </tr>\n",
       "    <tr>\n",
       "      <th>3</th>\n",
       "      <td>5</td>\n",
       "      <td>i</td>\n",
       "    </tr>\n",
       "    <tr>\n",
       "      <th>4</th>\n",
       "      <td>6</td>\n",
       "      <td>j</td>\n",
       "    </tr>\n",
       "  </tbody>\n",
       "</table>\n",
       "</div>"
      ],
      "text/plain": [
       "   key right_value\n",
       "0    2           f\n",
       "1    3           g\n",
       "2    4           h\n",
       "3    5           i\n",
       "4    6           j"
      ]
     },
     "execution_count": 203,
     "metadata": {},
     "output_type": "execute_result"
    }
   ],
   "source": [
    "right_frame"
   ]
  },
  {
   "cell_type": "code",
   "execution_count": 204,
   "metadata": {},
   "outputs": [
    {
     "data": {
      "text/html": [
       "<div>\n",
       "<style>\n",
       "    .dataframe thead tr:only-child th {\n",
       "        text-align: right;\n",
       "    }\n",
       "\n",
       "    .dataframe thead th {\n",
       "        text-align: left;\n",
       "    }\n",
       "\n",
       "    .dataframe tbody tr th {\n",
       "        vertical-align: top;\n",
       "    }\n",
       "</style>\n",
       "<table border=\"1\" class=\"dataframe\">\n",
       "  <thead>\n",
       "    <tr style=\"text-align: right;\">\n",
       "      <th></th>\n",
       "      <th>key</th>\n",
       "      <th>left_value</th>\n",
       "      <th>right_value</th>\n",
       "    </tr>\n",
       "  </thead>\n",
       "  <tbody>\n",
       "    <tr>\n",
       "      <th>0</th>\n",
       "      <td>2</td>\n",
       "      <td>c</td>\n",
       "      <td>f</td>\n",
       "    </tr>\n",
       "    <tr>\n",
       "      <th>1</th>\n",
       "      <td>3</td>\n",
       "      <td>d</td>\n",
       "      <td>g</td>\n",
       "    </tr>\n",
       "    <tr>\n",
       "      <th>2</th>\n",
       "      <td>4</td>\n",
       "      <td>e</td>\n",
       "      <td>h</td>\n",
       "    </tr>\n",
       "  </tbody>\n",
       "</table>\n",
       "</div>"
      ],
      "text/plain": [
       "   key left_value right_value\n",
       "0    2          c           f\n",
       "1    3          d           g\n",
       "2    4          e           h"
      ]
     },
     "execution_count": 204,
     "metadata": {},
     "output_type": "execute_result"
    }
   ],
   "source": [
    "pd.merge(left_frame,right_frame, how='inner')"
   ]
  },
  {
   "cell_type": "code",
   "execution_count": 205,
   "metadata": {},
   "outputs": [
    {
     "data": {
      "text/html": [
       "<div>\n",
       "<style>\n",
       "    .dataframe thead tr:only-child th {\n",
       "        text-align: right;\n",
       "    }\n",
       "\n",
       "    .dataframe thead th {\n",
       "        text-align: left;\n",
       "    }\n",
       "\n",
       "    .dataframe tbody tr th {\n",
       "        vertical-align: top;\n",
       "    }\n",
       "</style>\n",
       "<table border=\"1\" class=\"dataframe\">\n",
       "  <thead>\n",
       "    <tr style=\"text-align: right;\">\n",
       "      <th></th>\n",
       "      <th>key</th>\n",
       "      <th>left_value</th>\n",
       "      <th>right_value</th>\n",
       "    </tr>\n",
       "  </thead>\n",
       "  <tbody>\n",
       "    <tr>\n",
       "      <th>0</th>\n",
       "      <td>0</td>\n",
       "      <td>a</td>\n",
       "      <td>NaN</td>\n",
       "    </tr>\n",
       "    <tr>\n",
       "      <th>1</th>\n",
       "      <td>1</td>\n",
       "      <td>b</td>\n",
       "      <td>NaN</td>\n",
       "    </tr>\n",
       "    <tr>\n",
       "      <th>2</th>\n",
       "      <td>2</td>\n",
       "      <td>c</td>\n",
       "      <td>f</td>\n",
       "    </tr>\n",
       "    <tr>\n",
       "      <th>3</th>\n",
       "      <td>3</td>\n",
       "      <td>d</td>\n",
       "      <td>g</td>\n",
       "    </tr>\n",
       "    <tr>\n",
       "      <th>4</th>\n",
       "      <td>4</td>\n",
       "      <td>e</td>\n",
       "      <td>h</td>\n",
       "    </tr>\n",
       "  </tbody>\n",
       "</table>\n",
       "</div>"
      ],
      "text/plain": [
       "   key left_value right_value\n",
       "0    0          a         NaN\n",
       "1    1          b         NaN\n",
       "2    2          c           f\n",
       "3    3          d           g\n",
       "4    4          e           h"
      ]
     },
     "execution_count": 205,
     "metadata": {},
     "output_type": "execute_result"
    }
   ],
   "source": [
    "pd.merge(left_frame,right_frame, how='left')"
   ]
  },
  {
   "cell_type": "markdown",
   "metadata": {},
   "source": [
    "how : {'left', 'right', 'outer', 'inner'}, default 'inner'\n",
    "\n",
    "left: use only keys from left frame (SQL: left outer join)\n",
    "\n",
    "right: use only keys from right frame (SQL: right outer join)\n",
    "\n",
    "outer: use union of keys from both frames (SQL: full outer join)\n",
    "\n",
    "inner: use intersection of keys from both frames (SQL: inner join)"
   ]
  },
  {
   "cell_type": "markdown",
   "metadata": {},
   "source": [
    "## Combine dataframes"
   ]
  },
  {
   "cell_type": "code",
   "execution_count": 206,
   "metadata": {},
   "outputs": [
    {
     "data": {
      "text/html": [
       "<div>\n",
       "<style>\n",
       "    .dataframe thead tr:only-child th {\n",
       "        text-align: right;\n",
       "    }\n",
       "\n",
       "    .dataframe thead th {\n",
       "        text-align: left;\n",
       "    }\n",
       "\n",
       "    .dataframe tbody tr th {\n",
       "        vertical-align: top;\n",
       "    }\n",
       "</style>\n",
       "<table border=\"1\" class=\"dataframe\">\n",
       "  <thead>\n",
       "    <tr style=\"text-align: right;\">\n",
       "      <th></th>\n",
       "      <th>key</th>\n",
       "      <th>left_value</th>\n",
       "      <th>right_value</th>\n",
       "    </tr>\n",
       "  </thead>\n",
       "  <tbody>\n",
       "    <tr>\n",
       "      <th>0</th>\n",
       "      <td>0</td>\n",
       "      <td>a</td>\n",
       "      <td>NaN</td>\n",
       "    </tr>\n",
       "    <tr>\n",
       "      <th>1</th>\n",
       "      <td>1</td>\n",
       "      <td>b</td>\n",
       "      <td>NaN</td>\n",
       "    </tr>\n",
       "    <tr>\n",
       "      <th>2</th>\n",
       "      <td>2</td>\n",
       "      <td>c</td>\n",
       "      <td>NaN</td>\n",
       "    </tr>\n",
       "    <tr>\n",
       "      <th>3</th>\n",
       "      <td>3</td>\n",
       "      <td>d</td>\n",
       "      <td>NaN</td>\n",
       "    </tr>\n",
       "    <tr>\n",
       "      <th>4</th>\n",
       "      <td>4</td>\n",
       "      <td>e</td>\n",
       "      <td>NaN</td>\n",
       "    </tr>\n",
       "    <tr>\n",
       "      <th>0</th>\n",
       "      <td>2</td>\n",
       "      <td>NaN</td>\n",
       "      <td>f</td>\n",
       "    </tr>\n",
       "    <tr>\n",
       "      <th>1</th>\n",
       "      <td>3</td>\n",
       "      <td>NaN</td>\n",
       "      <td>g</td>\n",
       "    </tr>\n",
       "    <tr>\n",
       "      <th>2</th>\n",
       "      <td>4</td>\n",
       "      <td>NaN</td>\n",
       "      <td>h</td>\n",
       "    </tr>\n",
       "    <tr>\n",
       "      <th>3</th>\n",
       "      <td>5</td>\n",
       "      <td>NaN</td>\n",
       "      <td>i</td>\n",
       "    </tr>\n",
       "    <tr>\n",
       "      <th>4</th>\n",
       "      <td>6</td>\n",
       "      <td>NaN</td>\n",
       "      <td>j</td>\n",
       "    </tr>\n",
       "  </tbody>\n",
       "</table>\n",
       "</div>"
      ],
      "text/plain": [
       "   key left_value right_value\n",
       "0    0          a         NaN\n",
       "1    1          b         NaN\n",
       "2    2          c         NaN\n",
       "3    3          d         NaN\n",
       "4    4          e         NaN\n",
       "0    2        NaN           f\n",
       "1    3        NaN           g\n",
       "2    4        NaN           h\n",
       "3    5        NaN           i\n",
       "4    6        NaN           j"
      ]
     },
     "execution_count": 206,
     "metadata": {},
     "output_type": "execute_result"
    }
   ],
   "source": [
    "pd.concat([left_frame, right_frame])"
   ]
  },
  {
   "cell_type": "code",
   "execution_count": 207,
   "metadata": {},
   "outputs": [
    {
     "data": {
      "text/html": [
       "<div>\n",
       "<style>\n",
       "    .dataframe thead tr:only-child th {\n",
       "        text-align: right;\n",
       "    }\n",
       "\n",
       "    .dataframe thead th {\n",
       "        text-align: left;\n",
       "    }\n",
       "\n",
       "    .dataframe tbody tr th {\n",
       "        vertical-align: top;\n",
       "    }\n",
       "</style>\n",
       "<table border=\"1\" class=\"dataframe\">\n",
       "  <thead>\n",
       "    <tr style=\"text-align: right;\">\n",
       "      <th></th>\n",
       "      <th>key</th>\n",
       "      <th>left_value</th>\n",
       "      <th>right_value</th>\n",
       "    </tr>\n",
       "  </thead>\n",
       "  <tbody>\n",
       "    <tr>\n",
       "      <th>0</th>\n",
       "      <td>0</td>\n",
       "      <td>a</td>\n",
       "      <td>NaN</td>\n",
       "    </tr>\n",
       "    <tr>\n",
       "      <th>1</th>\n",
       "      <td>1</td>\n",
       "      <td>b</td>\n",
       "      <td>NaN</td>\n",
       "    </tr>\n",
       "    <tr>\n",
       "      <th>2</th>\n",
       "      <td>2</td>\n",
       "      <td>c</td>\n",
       "      <td>NaN</td>\n",
       "    </tr>\n",
       "    <tr>\n",
       "      <th>3</th>\n",
       "      <td>3</td>\n",
       "      <td>d</td>\n",
       "      <td>NaN</td>\n",
       "    </tr>\n",
       "    <tr>\n",
       "      <th>4</th>\n",
       "      <td>4</td>\n",
       "      <td>e</td>\n",
       "      <td>NaN</td>\n",
       "    </tr>\n",
       "    <tr>\n",
       "      <th>0</th>\n",
       "      <td>2</td>\n",
       "      <td>NaN</td>\n",
       "      <td>f</td>\n",
       "    </tr>\n",
       "    <tr>\n",
       "      <th>1</th>\n",
       "      <td>3</td>\n",
       "      <td>NaN</td>\n",
       "      <td>g</td>\n",
       "    </tr>\n",
       "    <tr>\n",
       "      <th>2</th>\n",
       "      <td>4</td>\n",
       "      <td>NaN</td>\n",
       "      <td>h</td>\n",
       "    </tr>\n",
       "    <tr>\n",
       "      <th>3</th>\n",
       "      <td>5</td>\n",
       "      <td>NaN</td>\n",
       "      <td>i</td>\n",
       "    </tr>\n",
       "    <tr>\n",
       "      <th>4</th>\n",
       "      <td>6</td>\n",
       "      <td>NaN</td>\n",
       "      <td>j</td>\n",
       "    </tr>\n",
       "  </tbody>\n",
       "</table>\n",
       "</div>"
      ],
      "text/plain": [
       "   key left_value right_value\n",
       "0    0          a         NaN\n",
       "1    1          b         NaN\n",
       "2    2          c         NaN\n",
       "3    3          d         NaN\n",
       "4    4          e         NaN\n",
       "0    2        NaN           f\n",
       "1    3        NaN           g\n",
       "2    4        NaN           h\n",
       "3    5        NaN           i\n",
       "4    6        NaN           j"
      ]
     },
     "execution_count": 207,
     "metadata": {},
     "output_type": "execute_result"
    }
   ],
   "source": [
    "pd.concat([left_frame, right_frame], axis=0) # change axis = 1"
   ]
  },
  {
   "cell_type": "markdown",
   "metadata": {},
   "source": [
    "## Grouping dataframes"
   ]
  },
  {
   "cell_type": "code",
   "execution_count": 208,
   "metadata": {},
   "outputs": [
    {
     "name": "stdout",
     "output_type": "stream",
     "text": [
      "Name,Position Title,Department,Employee Annual Salary\r\n",
      "\"AARON,  ELVIA J\",WATER RATE TAKER,WATER MGMNT,$85512.00\r\n",
      "\"AARON,  JEFFERY M\",POLICE OFFICER,POLICE,$75372.00\r\n"
     ]
    }
   ],
   "source": [
    "!head -n 3 city-of-chicago-salaries.csv"
   ]
  },
  {
   "cell_type": "code",
   "execution_count": 209,
   "metadata": {
    "collapsed": true
   },
   "outputs": [],
   "source": [
    "headers = ['name', 'title', 'department', 'salary']\n",
    "chicago = pd.read_csv('city-of-chicago-salaries.csv', \n",
    "                      header=0,\n",
    "                      names=headers,\n",
    "                      converters={'salary': lambda x: float(x.replace('$', ''))})"
   ]
  },
  {
   "cell_type": "code",
   "execution_count": 210,
   "metadata": {},
   "outputs": [
    {
     "data": {
      "text/html": [
       "<div>\n",
       "<style>\n",
       "    .dataframe thead tr:only-child th {\n",
       "        text-align: right;\n",
       "    }\n",
       "\n",
       "    .dataframe thead th {\n",
       "        text-align: left;\n",
       "    }\n",
       "\n",
       "    .dataframe tbody tr th {\n",
       "        vertical-align: top;\n",
       "    }\n",
       "</style>\n",
       "<table border=\"1\" class=\"dataframe\">\n",
       "  <thead>\n",
       "    <tr style=\"text-align: right;\">\n",
       "      <th></th>\n",
       "      <th>name</th>\n",
       "      <th>title</th>\n",
       "      <th>department</th>\n",
       "      <th>salary</th>\n",
       "    </tr>\n",
       "  </thead>\n",
       "  <tbody>\n",
       "    <tr>\n",
       "      <th>0</th>\n",
       "      <td>AARON,  ELVIA J</td>\n",
       "      <td>WATER RATE TAKER</td>\n",
       "      <td>WATER MGMNT</td>\n",
       "      <td>85512.0</td>\n",
       "    </tr>\n",
       "    <tr>\n",
       "      <th>1</th>\n",
       "      <td>AARON,  JEFFERY M</td>\n",
       "      <td>POLICE OFFICER</td>\n",
       "      <td>POLICE</td>\n",
       "      <td>75372.0</td>\n",
       "    </tr>\n",
       "    <tr>\n",
       "      <th>2</th>\n",
       "      <td>AARON,  KIMBERLEI R</td>\n",
       "      <td>CHIEF CONTRACT EXPEDITER</td>\n",
       "      <td>GENERAL SERVICES</td>\n",
       "      <td>80916.0</td>\n",
       "    </tr>\n",
       "    <tr>\n",
       "      <th>3</th>\n",
       "      <td>ABAD JR,  VICENTE M</td>\n",
       "      <td>CIVIL ENGINEER IV</td>\n",
       "      <td>WATER MGMNT</td>\n",
       "      <td>99648.0</td>\n",
       "    </tr>\n",
       "    <tr>\n",
       "      <th>4</th>\n",
       "      <td>ABBATACOLA,  ROBERT J</td>\n",
       "      <td>ELECTRICAL MECHANIC</td>\n",
       "      <td>AVIATION</td>\n",
       "      <td>89440.0</td>\n",
       "    </tr>\n",
       "  </tbody>\n",
       "</table>\n",
       "</div>"
      ],
      "text/plain": [
       "                    name                     title        department   salary\n",
       "0        AARON,  ELVIA J          WATER RATE TAKER       WATER MGMNT  85512.0\n",
       "1      AARON,  JEFFERY M            POLICE OFFICER            POLICE  75372.0\n",
       "2    AARON,  KIMBERLEI R  CHIEF CONTRACT EXPEDITER  GENERAL SERVICES  80916.0\n",
       "3    ABAD JR,  VICENTE M         CIVIL ENGINEER IV       WATER MGMNT  99648.0\n",
       "4  ABBATACOLA,  ROBERT J       ELECTRICAL MECHANIC          AVIATION  89440.0"
      ]
     },
     "execution_count": 210,
     "metadata": {},
     "output_type": "execute_result"
    }
   ],
   "source": [
    "chicago.head()"
   ]
  },
  {
   "cell_type": "code",
   "execution_count": 211,
   "metadata": {},
   "outputs": [
    {
     "data": {
      "text/html": [
       "<div>\n",
       "<style>\n",
       "    .dataframe thead tr:only-child th {\n",
       "        text-align: right;\n",
       "    }\n",
       "\n",
       "    .dataframe thead th {\n",
       "        text-align: left;\n",
       "    }\n",
       "\n",
       "    .dataframe tbody tr th {\n",
       "        vertical-align: top;\n",
       "    }\n",
       "</style>\n",
       "<table border=\"1\" class=\"dataframe\">\n",
       "  <thead>\n",
       "    <tr style=\"text-align: right;\">\n",
       "      <th></th>\n",
       "      <th>salary</th>\n",
       "    </tr>\n",
       "    <tr>\n",
       "      <th>department</th>\n",
       "      <th></th>\n",
       "    </tr>\n",
       "  </thead>\n",
       "  <tbody>\n",
       "    <tr>\n",
       "      <th>DoIT</th>\n",
       "      <td>93209.939394</td>\n",
       "    </tr>\n",
       "    <tr>\n",
       "      <th>BUILDINGS</th>\n",
       "      <td>90720.081322</td>\n",
       "    </tr>\n",
       "    <tr>\n",
       "      <th>FIRE</th>\n",
       "      <td>89579.082621</td>\n",
       "    </tr>\n",
       "    <tr>\n",
       "      <th>MAYOR'S OFFICE</th>\n",
       "      <td>85251.949091</td>\n",
       "    </tr>\n",
       "    <tr>\n",
       "      <th>BUDGET &amp; MGMT</th>\n",
       "      <td>84767.181818</td>\n",
       "    </tr>\n",
       "  </tbody>\n",
       "</table>\n",
       "</div>"
      ],
      "text/plain": [
       "                      salary\n",
       "department                  \n",
       "DoIT            93209.939394\n",
       "BUILDINGS       90720.081322\n",
       "FIRE            89579.082621\n",
       "MAYOR'S OFFICE  85251.949091\n",
       "BUDGET & MGMT   84767.181818"
      ]
     },
     "execution_count": 211,
     "metadata": {},
     "output_type": "execute_result"
    }
   ],
   "source": [
    "by_dept = chicago.groupby('department')\n",
    "by_dept.mean().sort_values(by=\"salary\", ascending=False).head()"
   ]
  }
 ],
 "metadata": {
  "kernelspec": {
   "display_name": "Python 3",
   "language": "python",
   "name": "python3"
  },
  "language_info": {
   "codemirror_mode": {
    "name": "ipython",
    "version": 3
   },
   "file_extension": ".py",
   "mimetype": "text/x-python",
   "name": "python",
   "nbconvert_exporter": "python",
   "pygments_lexer": "ipython3",
   "version": "3.6.2"
  }
 },
 "nbformat": 4,
 "nbformat_minor": 2
}
